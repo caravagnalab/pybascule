{
 "cells": [
  {
   "cell_type": "code",
   "execution_count": 1,
   "metadata": {
    "tags": []
   },
   "outputs": [
    {
     "name": "stderr",
     "output_type": "stream",
     "text": [
      "/Users/elenab/Library/r-miniconda-arm64/lib/python3.10/site-packages/tqdm/auto.py:22: TqdmWarning: IProgress not found. Please update jupyter and ipywidgets. See https://ipywidgets.readthedocs.io/en/stable/user_install.html\n",
      "  from .autonotebook import tqdm as notebook_tqdm\n"
     ]
    }
   ],
   "source": [
    "# import pybasilica\n",
    "from pybasilica import run\n",
    "from pybasilica import svi\n",
    "import pandas as pd\n",
    "\n",
    "file = \"pybasilica/data/degasperi/counts_all.tsv\"\n",
    "data = pd.read_csv(file, index_col=0, sep='\\t')\n",
    "\n",
    "#filter data\n",
    "data = data.iloc[0:10]\n",
    "#make categories for groups\n",
    "data.organ = pd.Categorical(data.organ)\n",
    "data['groups'] = data.organ.cat.codes\n",
    "groups = data.groups.to_list()\n",
    "groups = [0,2,0,1,1,1,1,1,1,0]\n",
    "#mutation values\n",
    "values = data.drop(['cohort', 'organ', 'groups'], axis=1)\n",
    "\n",
    "# #without groups\n",
    "# r = pybasilica.fit(values, k_list=10)\n",
    "# r.beta_denovo"
   ]
  },
  {
   "cell_type": "code",
   "execution_count": 11,
   "metadata": {
    "tags": []
   },
   "outputs": [],
   "source": [
    "#with groups\n",
    "obj = svi.PyBasilica(values, k_denovo=2, groups=groups, lr=0.05, n_steps=500)"
   ]
  },
  {
   "cell_type": "code",
   "execution_count": 8,
   "metadata": {
    "tags": []
   },
   "outputs": [
    {
     "data": {
      "text/plain": [
       "[0, 0, 0, 1, 1, 1, 1, 1, 1, 0]"
      ]
     },
     "execution_count": 8,
     "metadata": {},
     "output_type": "execute_result"
    }
   ],
   "source": [
    "#with groups\n",
    "obj.groups"
   ]
  },
  {
   "cell_type": "code",
   "execution_count": 3,
   "metadata": {
    "tags": []
   },
   "outputs": [
    {
     "name": "stdout",
     "output_type": "stream",
     "text": [
      "INSIDE IF tensor([[ 2.5171, -0.7755],\n",
      "        [ 0.4237,  0.0507],\n",
      "        [ 0.4964,  1.1233],\n",
      "        [-1.5292,  2.0005],\n",
      "        [-1.7409,  0.0777],\n",
      "        [ 0.3515,  0.8841],\n",
      "        [-2.7531,  0.8713],\n",
      "        [-1.4226,  2.0289],\n",
      "        [-1.8340, -1.6614],\n",
      "        [ 1.3552,  2.3310]])\n"
     ]
    }
   ],
   "source": [
    "obj.model()"
   ]
  },
  {
   "cell_type": "code",
   "execution_count": 13,
   "metadata": {
    "tags": []
   },
   "outputs": [
    {
     "data": {
      "text/html": [
       "<pre style=\"white-space:pre;overflow-x:auto;line-height:normal;font-family:Menlo,'DejaVu Sans Mono',consolas,'Courier New',monospace\">\n",
       "\n",
       "<span style=\"font-style: italic\">                 Information                 </span>\n",
       "+-------------------------------------------+\n",
       "|<span style=\"color: #008080; text-decoration-color: #008080\"> No. of samples      </span>|<span style=\"color: #800080; text-decoration-color: #800080\"> 10                  </span>|\n",
       "|<span style=\"color: #008080; text-decoration-color: #008080\"> learning rate       </span>|<span style=\"color: #800080; text-decoration-color: #800080\"> 0.05                </span>|\n",
       "|<span style=\"color: #008080; text-decoration-color: #008080\"> k denovo list       </span>|<span style=\"color: #800080; text-decoration-color: #800080\"> 2                   </span>|\n",
       "|<span style=\"color: #008080; text-decoration-color: #008080\"> fixed signatures    </span>|<span style=\"color: #800080; text-decoration-color: #800080\"> No fixed signatures </span>|\n",
       "|<span style=\"color: #008080; text-decoration-color: #008080\"> Max inference steps </span>|<span style=\"color: #800080; text-decoration-color: #800080\"> 500                 </span>|\n",
       "+-------------------------------------------+\n",
       "</pre>\n"
      ],
      "text/plain": [
       "\n",
       "\n",
       "\u001b[3m                 Information                 \u001b[0m\n",
       "+-------------------------------------------+\n",
       "|\u001b[36m \u001b[0m\u001b[36mNo. of samples     \u001b[0m\u001b[36m \u001b[0m|\u001b[35m \u001b[0m\u001b[35m10                 \u001b[0m\u001b[35m \u001b[0m|\n",
       "|\u001b[36m \u001b[0m\u001b[36mlearning rate      \u001b[0m\u001b[36m \u001b[0m|\u001b[35m \u001b[0m\u001b[35m0.05               \u001b[0m\u001b[35m \u001b[0m|\n",
       "|\u001b[36m \u001b[0m\u001b[36mk denovo list      \u001b[0m\u001b[36m \u001b[0m|\u001b[35m \u001b[0m\u001b[35m2                  \u001b[0m\u001b[35m \u001b[0m|\n",
       "|\u001b[36m \u001b[0m\u001b[36mfixed signatures   \u001b[0m\u001b[36m \u001b[0m|\u001b[35m \u001b[0m\u001b[35mNo fixed signatures\u001b[0m\u001b[35m \u001b[0m|\n",
       "|\u001b[36m \u001b[0m\u001b[36mMax inference steps\u001b[0m\u001b[36m \u001b[0m|\u001b[35m \u001b[0m\u001b[35m500                \u001b[0m\u001b[35m \u001b[0m|\n",
       "+-------------------------------------------+\n"
      ]
     },
     "metadata": {},
     "output_type": "display_data"
    },
    {
     "data": {
      "text/html": [
       "<pre style=\"white-space:pre;overflow-x:auto;line-height:normal;font-family:Menlo,'DejaVu Sans Mono',consolas,'Courier New',monospace\">Running on <span style=\"color: #808000; text-decoration-color: #808000\">k_denovo</span>=<span style=\"color: #008080; text-decoration-color: #008080; font-weight: bold\">2</span> | <span style=\"color: #808000; text-decoration-color: #808000\">BIC</span>=<span style=\"color: #008080; text-decoration-color: #008080; font-weight: bold\">11397.1435546875</span>\n",
       "</pre>\n"
      ],
      "text/plain": [
       "Running on \u001b[33mk_denovo\u001b[0m=\u001b[1;36m2\u001b[0m | \u001b[33mBIC\u001b[0m=\u001b[1;36m11397\u001b[0m\u001b[1;36m.1435546875\u001b[0m\n"
      ]
     },
     "metadata": {},
     "output_type": "display_data"
    },
    {
     "data": {
      "text/html": [
       "<pre style=\"white-space:pre;overflow-x:auto;line-height:normal;font-family:Menlo,'DejaVu Sans Mono',consolas,'Courier New',monospace\"></pre>\n"
      ],
      "text/plain": []
     },
     "metadata": {},
     "output_type": "display_data"
    },
    {
     "data": {
      "text/html": [
       "<pre style=\"white-space:pre;overflow-x:auto;line-height:normal;font-family:Menlo,'DejaVu Sans Mono',consolas,'Courier New',monospace\">\n",
       "</pre>\n"
      ],
      "text/plain": [
       "\n"
      ]
     },
     "metadata": {},
     "output_type": "display_data"
    },
    {
     "data": {
      "text/html": [
       "<pre style=\"white-space:pre;overflow-x:auto;line-height:normal;font-family:Menlo,'DejaVu Sans Mono',consolas,'Courier New',monospace\">\n",
       "-------------------------------------------------------\n",
       "\n",
       "<span style=\"color: #800000; text-decoration-color: #800000; font-weight: bold\">Best Model:</span>\n",
       "</pre>\n"
      ],
      "text/plain": [
       "\n",
       "-------------------------------------------------------\n",
       "\n",
       "\u001b[1;31mBest Model:\u001b[0m\n"
      ]
     },
     "metadata": {},
     "output_type": "display_data"
    },
    {
     "data": {
      "text/html": [
       "<pre style=\"white-space:pre;overflow-x:auto;line-height:normal;font-family:Menlo,'DejaVu Sans Mono',consolas,'Courier New',monospace\">k_denovo: <span style=\"color: #008080; text-decoration-color: #008080; font-weight: bold\">2</span>\n",
       "BIC: <span style=\"color: #008080; text-decoration-color: #008080; font-weight: bold\">11397.1435546875</span>\n",
       "Stopped at 500th step\n",
       "\n",
       "</pre>\n"
      ],
      "text/plain": [
       "k_denovo: \u001b[1;36m2\u001b[0m\n",
       "BIC: \u001b[1;36m11397.1435546875\u001b[0m\n",
       "Stopped at 500th step\n",
       "\n"
      ]
     },
     "metadata": {},
     "output_type": "display_data"
    },
    {
     "name": "stdout",
     "output_type": "stream",
     "text": [
      "    Loss & Log-Likelihood vs SVI steps\n",
      "┌────────────────────────────────────────┐\n",
      "│\u001b[34m▌\u001b[0m  │   │   │   │   │   │   │   │   │   ││ \n",
      "│\u001b[34m▚\u001b[0m  │   │   │   │   │   │   │   │   │   ││ \n",
      "│\u001b[34m▐\u001b[0m\u001b[34m▖\u001b[0m─│───│───│───│───│───│───│───│───│───││ 25,000\n",
      "│ \u001b[34m▜\u001b[0m\u001b[34m▖\u001b[0m│   │   │   │   │   │   │   │   │   ││ \n",
      "│  \u001b[34m▝\u001b[0m\u001b[34m▀\u001b[0m\u001b[34m▀\u001b[0m\u001b[34m▀\u001b[0m\u001b[34m▀\u001b[0m\u001b[34m▀\u001b[0m\u001b[34m▀\u001b[0m\u001b[34m▙\u001b[0m\u001b[34m▄\u001b[0m\u001b[34m▄\u001b[0m\u001b[34m▄\u001b[0m\u001b[34m▄\u001b[0m\u001b[34m▄\u001b[0m\u001b[34m▄\u001b[0m\u001b[34m▄\u001b[0m\u001b[34m▄\u001b[0m\u001b[34m▄\u001b[0m\u001b[34m▄\u001b[0m\u001b[34m▄\u001b[0m\u001b[34m▄\u001b[0m\u001b[34m▄\u001b[0m\u001b[34m▄\u001b[0m\u001b[34m▄\u001b[0m\u001b[34m▄\u001b[0m\u001b[34m▄\u001b[0m\u001b[34m▄\u001b[0m\u001b[34m▄\u001b[0m\u001b[34m▄\u001b[0m\u001b[34m▄\u001b[0m\u001b[34m▄\u001b[0m\u001b[34m▄\u001b[0m\u001b[34m▄\u001b[0m\u001b[34m▄\u001b[0m\u001b[34m▄\u001b[0m\u001b[34m▄\u001b[0m\u001b[34m▄\u001b[0m\u001b[34m▄\u001b[0m\u001b[34m▄\u001b[0m│ \n",
      "│   │\u001b[35m▗\u001b[0m\u001b[35m▄\u001b[0m\u001b[35m▄\u001b[0m\u001b[35m▄\u001b[0m\u001b[35m▄\u001b[0m\u001b[35m▄\u001b[0m\u001b[35m▄\u001b[0m\u001b[35m▄\u001b[0m\u001b[35m▄\u001b[0m\u001b[35m▄\u001b[0m\u001b[35m▄\u001b[0m\u001b[35m▄\u001b[0m\u001b[35m▄\u001b[0m\u001b[35m▄\u001b[0m\u001b[35m▄\u001b[0m\u001b[35m▄\u001b[0m\u001b[35m▄\u001b[0m\u001b[35m▄\u001b[0m\u001b[35m▄\u001b[0m\u001b[35m▄\u001b[0m\u001b[35m▄\u001b[0m\u001b[35m▄\u001b[0m\u001b[35m▄\u001b[0m\u001b[35m▄\u001b[0m\u001b[35m▄\u001b[0m\u001b[35m▄\u001b[0m\u001b[35m▄\u001b[0m\u001b[35m▄\u001b[0m\u001b[35m▄\u001b[0m\u001b[35m▄\u001b[0m\u001b[35m▄\u001b[0m\u001b[35m▄\u001b[0m\u001b[35m▄\u001b[0m\u001b[35m▄\u001b[0m\u001b[35m▄\u001b[0m\u001b[35m▄\u001b[0m│ 0\n",
      "│ \u001b[35m▄\u001b[0m\u001b[35m▀\u001b[0m\u001b[35m▀\u001b[0m\u001b[35m▀\u001b[0m  │   │   │   │   │   │   │   │   ││ \n",
      "│\u001b[35m▗\u001b[0m\u001b[35m▘\u001b[0m─│───│───│───│───│───│───│───│───│───││ \n",
      "│\u001b[35m▞\u001b[0m  │   │   │   │   │   │   │   │   │   ││ -25,000\n",
      "│\u001b[35m▌\u001b[0m  │   │   │   │   │   │   │   │   │   ││ \n",
      "└────────────────────────────────────────┘\n",
      "               200             400\n",
      "            \u001b[34m██\u001b[0m loss\n",
      "            \u001b[35m██\u001b[0m log-likelihood\n"
     ]
    },
    {
     "data": {
      "text/html": [
       "<pre style=\"white-space:pre;overflow-x:auto;line-height:normal;font-family:Menlo,'DejaVu Sans Mono',consolas,'Courier New',monospace\">\n",
       "\n",
       "</pre>\n"
      ],
      "text/plain": [
       "\n",
       "\n"
      ]
     },
     "metadata": {},
     "output_type": "display_data"
    }
   ],
   "source": [
    "r2 = run.fit(values, k_list=2, groups=groups)"
   ]
  }
 ],
 "metadata": {
  "kernelspec": {
   "display_name": "Python 3 (ipykernel)",
   "language": "python",
   "name": "python3"
  },
  "language_info": {
   "codemirror_mode": {
    "name": "ipython",
    "version": 3
   },
   "file_extension": ".py",
   "mimetype": "text/x-python",
   "name": "python",
   "nbconvert_exporter": "python",
   "pygments_lexer": "ipython3",
   "version": "3.10.6"
  }
 },
 "nbformat": 4,
 "nbformat_minor": 4
}
