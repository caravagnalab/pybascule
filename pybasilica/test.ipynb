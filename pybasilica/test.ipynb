{
 "cells": [
  {
   "cell_type": "code",
   "execution_count": 1,
   "metadata": {},
   "outputs": [],
   "source": [
    "import pandas as pd\n",
    "import run"
   ]
  },
  {
   "cell_type": "code",
   "execution_count": 2,
   "metadata": {},
   "outputs": [],
   "source": [
    "m_path = \"/home/azad/Documents/other/basilica-1.0/code_storage/data/data_sigphylo.csv\"\n",
    "m = pd.read_csv(m_path)\n",
    "ref_path = \"/home/azad/Documents/thesis/packages/pybasilica/pybasilica/data/cosmic/cosmic_catalogue.csv\"\n",
    "cosmic = pd.read_csv(ref_path, index_col=0)"
   ]
  },
  {
   "cell_type": "code",
   "execution_count": 3,
   "metadata": {},
   "outputs": [],
   "source": [
    "one = run.fit(\n",
    "    x=m, \n",
    "    k_list=[0], \n",
    "    lr=0.05, \n",
    "    n_steps=500, \n",
    "    enumer=False, \n",
    "    cluster=None, \n",
    "    groups=None, \n",
    "    beta_fixed=cosmic, \n",
    "    compile_model = False, \n",
    "    CUDA = False, \n",
    "    enforce_sparsity = False, \n",
    "    regularizer = \"cosine\", \n",
    "    reg_weight = 1, \n",
    "    reg_bic = False, \n",
    "    store_parameters=False, \n",
    "    verbose=False, \n",
    "    stage = \"one\"\n",
    "    )"
   ]
  },
  {
   "cell_type": "code",
   "execution_count": 4,
   "metadata": {},
   "outputs": [],
   "source": [
    "x2 = one.epsilon.astype(int)"
   ]
  },
  {
   "cell_type": "code",
   "execution_count": 5,
   "metadata": {},
   "outputs": [],
   "source": [
    "two = run.fit(\n",
    "    x=x2, \n",
    "    k_list=[1,2,3,4,5], \n",
    "    lr=0.05, \n",
    "    n_steps=500, \n",
    "    enumer=False, \n",
    "    cluster=None, \n",
    "    groups=None, \n",
    "    beta_fixed=None, \n",
    "    compile_model = False, \n",
    "    CUDA = False, \n",
    "    enforce_sparsity = False, \n",
    "    regularizer = \"cosine\", \n",
    "    reg_weight = 1, \n",
    "    reg_bic = False, \n",
    "    store_parameters=False, \n",
    "    verbose=False, \n",
    "    stage = \"two\"\n",
    "    )"
   ]
  },
  {
   "cell_type": "code",
   "execution_count": 20,
   "metadata": {},
   "outputs": [
    {
     "data": {
      "text/html": [
       "<div>\n",
       "<style scoped>\n",
       "    .dataframe tbody tr th:only-of-type {\n",
       "        vertical-align: middle;\n",
       "    }\n",
       "\n",
       "    .dataframe tbody tr th {\n",
       "        vertical-align: top;\n",
       "    }\n",
       "\n",
       "    .dataframe thead th {\n",
       "        text-align: right;\n",
       "    }\n",
       "</style>\n",
       "<table border=\"1\" class=\"dataframe\">\n",
       "  <thead>\n",
       "    <tr style=\"text-align: right;\">\n",
       "      <th></th>\n",
       "      <th>D1</th>\n",
       "      <th>D2</th>\n",
       "    </tr>\n",
       "  </thead>\n",
       "  <tbody>\n",
       "    <tr>\n",
       "      <th>0</th>\n",
       "      <td>0.996124</td>\n",
       "      <td>0.003876</td>\n",
       "    </tr>\n",
       "    <tr>\n",
       "      <th>1</th>\n",
       "      <td>0.997651</td>\n",
       "      <td>0.002349</td>\n",
       "    </tr>\n",
       "    <tr>\n",
       "      <th>2</th>\n",
       "      <td>0.000167</td>\n",
       "      <td>0.999833</td>\n",
       "    </tr>\n",
       "    <tr>\n",
       "      <th>3</th>\n",
       "      <td>0.000563</td>\n",
       "      <td>0.999437</td>\n",
       "    </tr>\n",
       "    <tr>\n",
       "      <th>4</th>\n",
       "      <td>0.557116</td>\n",
       "      <td>0.442884</td>\n",
       "    </tr>\n",
       "  </tbody>\n",
       "</table>\n",
       "</div>"
      ],
      "text/plain": [
       "         D1        D2\n",
       "0  0.996124  0.003876\n",
       "1  0.997651  0.002349\n",
       "2  0.000167  0.999833\n",
       "3  0.000563  0.999437\n",
       "4  0.557116  0.442884"
      ]
     },
     "execution_count": 20,
     "metadata": {},
     "output_type": "execute_result"
    }
   ],
   "source": [
    "two.alpha"
   ]
  }
 ],
 "metadata": {
  "kernelspec": {
   "display_name": "test",
   "language": "python",
   "name": "python3"
  },
  "language_info": {
   "codemirror_mode": {
    "name": "ipython",
    "version": 3
   },
   "file_extension": ".py",
   "mimetype": "text/x-python",
   "name": "python",
   "nbconvert_exporter": "python",
   "pygments_lexer": "ipython3",
   "version": "3.10.9"
  },
  "orig_nbformat": 4
 },
 "nbformat": 4,
 "nbformat_minor": 2
}
