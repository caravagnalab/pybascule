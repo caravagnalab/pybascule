{
 "cells": [
  {
   "cell_type": "code",
   "execution_count": 1,
   "metadata": {
    "tags": []
   },
   "outputs": [
    {
     "name": "stderr",
     "output_type": "stream",
     "text": [
      "/Users/elenab/Library/r-miniconda-arm64/envs/basilica-env/lib/python3.9/site-packages/tqdm/auto.py:21: TqdmWarning: IProgress not found. Please update jupyter and ipywidgets. See https://ipywidgets.readthedocs.io/en/stable/user_install.html\n",
      "  from .autonotebook import tqdm as notebook_tqdm\n"
     ]
    }
   ],
   "source": [
    "import pandas as pd\n",
    "import pybasilica.run as run\n",
    "import torch\n",
    "import pyro\n",
    "import numpy as np\n",
    "import seaborn as sns\n",
    "import sklearn.metrics\n",
    "import torch.nn.functional as F\n",
    "\n",
    "%load_ext autoreload\n",
    "%autoreload 2"
   ]
  },
  {
   "cell_type": "code",
   "execution_count": 2,
   "metadata": {
    "tags": []
   },
   "outputs": [],
   "source": [
    "m_g = pd.read_csv(\"test_datasets/counts_sbs.N150.G3.csv\")\n",
    "m_sbs = m_g.drop([\"groups\"], axis=1)\n",
    "g_sbs = m_g[\"groups\"].tolist()\n",
    "cosmic_sbs = pd.read_csv(\"test_datasets/COSMIC_filt.csv\", index_col=0)"
   ]
  },
  {
   "cell_type": "code",
   "execution_count": null,
   "metadata": {},
   "outputs": [],
   "source": [
    "m_g = pd.read_csv(\"test_datasets/counts_dbs.N150.G3.csv\")\n",
    "m_dbs = m_g.drop([\"groups\"], axis=1)\n",
    "g_dbs = m_g[\"groups\"].tolist()\n",
    "cosmic_dbs = pd.read_csv(\"test_datasets/COSMIC_dbs.csv\", index_col=0) "
   ]
  },
  {
   "cell_type": "code",
   "execution_count": 29,
   "metadata": {},
   "outputs": [
    {
     "name": "stdout",
     "output_type": "stream",
     "text": [
      "tensor([[0.8228, 0.9394, 0.6845],\n",
      "        [0.7946, 0.4966, 0.5945]], dtype=torch.float64)\n",
      "torch.Size([2, 4])\n",
      "tensor([[0.8228, 0.1665, 0.0074, 0.0034],\n",
      "        [0.7946, 0.1020, 0.0615, 0.0419]], dtype=torch.float64)\n"
     ]
    }
   ],
   "source": [
    "dn_sbs = torch.tensor(cosmic_sbs.loc[[\"SBS6\",\"SBS17b\"]].values, dtype=torch.float64)\n",
    "ref_sbs = torch.tensor(cosmic_sbs.loc[[\"SBS1\",\"SBS2\",\"SBS5\"]].values, dtype=torch.float64)\n",
    "k_denovo = dn_sbs.shape[0]\n",
    "k_fixed = ref_sbs.shape[0]\n",
    "\n",
    "def mix_weights(beta):\n",
    "    '''\n",
    "    Function used for the stick-breaking process.\n",
    "    '''\n",
    "    beta1m_cumprod = (1 - beta).cumprod(-1)\n",
    "    return F.pad(beta, (0, 1), value=1) * F.pad(beta1m_cumprod, (1, 0), value=1)\n",
    "\n",
    "with pyro.plate(\"beta_d_plate\", k_denovo):\n",
    "    pi_beta = pyro.sample(\"beta\", pyro.distributions.Beta(torch.ones(k_fixed, dtype=torch.float64), 0.6).to_event(1))\n",
    "    print(pi_beta)\n",
    "    pi = mix_weights(pi_beta)\n",
    "\n",
    "print(pi.shape)\n",
    "print(pi)"
   ]
  },
  {
   "cell_type": "code",
   "execution_count": 36,
   "metadata": {},
   "outputs": [],
   "source": [
    "beta_fixed_cum = pyro.distributions.Dirichlet(torch.ones(5)).sample()"
   ]
  },
  {
   "cell_type": "code",
   "execution_count": 38,
   "metadata": {},
   "outputs": [
    {
     "data": {
      "text/plain": [
       "tensor([0.2100, 0.0892, 0.2479, 0.2105, 0.2425])"
      ]
     },
     "execution_count": 38,
     "metadata": {},
     "output_type": "execute_result"
    }
   ],
   "source": [
    "rev = torch.ones(5) - beta_fixed_cum\n",
    "rev / torch.sum(rev)\n"
   ]
  },
  {
   "cell_type": "code",
   "execution_count": 82,
   "metadata": {},
   "outputs": [
    {
     "data": {
      "text/plain": [
       "tensor([100., 100., 100., 100., 100.,   1.])"
      ]
     },
     "execution_count": 82,
     "metadata": {},
     "output_type": "execute_result"
    }
   ],
   "source": [
    "torch.cat((torch.ones(5) * 100, torch.ones(1)))"
   ]
  },
  {
   "cell_type": "code",
   "execution_count": 97,
   "metadata": {
    "tags": []
   },
   "outputs": [
    {
     "name": "stdout",
     "output_type": "stream",
     "text": [
      "tensor([0.3868, 0.4930], dtype=torch.float64, grad_fn=<SumBackward1>)\n",
      "tensor([0.2753, 0.2351], dtype=torch.float64, grad_fn=<SumBackward1>)\n",
      "tensor([0.2604, 0.1426], dtype=torch.float64, grad_fn=<SumBackward1>)\n",
      "tensor([0.2426, 0.1438], dtype=torch.float64, grad_fn=<SumBackward1>)\n",
      "tensor([0.2506, 0.1412], dtype=torch.float64, grad_fn=<SumBackward1>)\n",
      "tensor([0.2802, 0.1398], dtype=torch.float64, grad_fn=<SumBackward1>)\n",
      "tensor([0.3898, 0.2314], dtype=torch.float64, grad_fn=<SumBackward1>)\n",
      "tensor([0.2575, 0.1835], dtype=torch.float64, grad_fn=<SumBackward1>)\n",
      "tensor([0.3593, 0.3533], dtype=torch.float64, grad_fn=<SumBackward1>)\n",
      "tensor([0.2672, 0.1846], dtype=torch.float64, grad_fn=<SumBackward1>)\n",
      "tensor([0.2464, 0.1418], dtype=torch.float64, grad_fn=<SumBackward1>)\n",
      "tensor([0.2100, 0.1514], dtype=torch.float64, grad_fn=<SumBackward1>)\n",
      "tensor([0.1966, 0.2244], dtype=torch.float64, grad_fn=<SumBackward1>)\n",
      "tensor([0.1558, 0.1685], dtype=torch.float64, grad_fn=<SumBackward1>)\n",
      "tensor([0.2434, 0.1934], dtype=torch.float64, grad_fn=<SumBackward1>)\n",
      "tensor([0.1526, 0.1496], dtype=torch.float64, grad_fn=<SumBackward1>)\n",
      "tensor([0.2267, 0.2627], dtype=torch.float64, grad_fn=<SumBackward1>)\n",
      "tensor([0.1730, 0.2749], dtype=torch.float64, grad_fn=<SumBackward1>)\n",
      "tensor([0.1646, 0.1996], dtype=torch.float64, grad_fn=<SumBackward1>)\n",
      "tensor([0.1490, 0.3346], dtype=torch.float64, grad_fn=<SumBackward1>)\n",
      "tensor([0.1603, 0.1503], dtype=torch.float64, grad_fn=<SumBackward1>)\n",
      "tensor([0.1488, 0.1724], dtype=torch.float64, grad_fn=<SumBackward1>)\n"
     ]
    }
   ],
   "source": [
    "obj_sbs = run.fit(\n",
    "    x=m_sbs, \n",
    "    k_list=[2], \n",
    "    lr=0.005, \n",
    "    optim_gamma=0.1,\n",
    "    n_steps=10, \n",
    "    # cluster=6,\n",
    "    dirichlet_prior=True,\n",
    "    beta_fixed=cosmic_sbs.loc[[\"SBS1\",\"SBS5\"]], \n",
    "    hyperparameters={\"alpha_sigma\":.15, \"alpha_p_sigma\":1., \"alpha_p_conc0\":0.6, \n",
    "                     \"alpha_p_conc1\":0.6, \"alpha_rate\":1., \"pi_conc0\":0.6, \"alpha_conc\":100,\n",
    "                     \"scale_factor_alpha\":5000, \"scale_factor_centroid\":5000, \"scale_tau\":0},\n",
    "    enforce_sparsity = True, \n",
    "    reg_weight=0., \n",
    "    store_parameters = True, \n",
    "    seed_list=[92,30],\n",
    "    nonparametric=True,\n",
    "    store_fits=True\n",
    "    )\n"
   ]
  },
  {
   "cell_type": "code",
   "execution_count": 104,
   "metadata": {},
   "outputs": [
    {
     "data": {
      "text/html": [
       "<div>\n",
       "<style scoped>\n",
       "    .dataframe tbody tr th:only-of-type {\n",
       "        vertical-align: middle;\n",
       "    }\n",
       "\n",
       "    .dataframe tbody tr th {\n",
       "        vertical-align: top;\n",
       "    }\n",
       "\n",
       "    .dataframe thead th {\n",
       "        text-align: right;\n",
       "    }\n",
       "</style>\n",
       "<table border=\"1\" class=\"dataframe\">\n",
       "  <thead>\n",
       "    <tr style=\"text-align: right;\">\n",
       "      <th></th>\n",
       "      <th>A[C&gt;A]A</th>\n",
       "      <th>A[C&gt;A]C</th>\n",
       "      <th>A[C&gt;A]G</th>\n",
       "      <th>A[C&gt;A]T</th>\n",
       "      <th>A[C&gt;G]A</th>\n",
       "      <th>A[C&gt;G]C</th>\n",
       "      <th>A[C&gt;G]G</th>\n",
       "      <th>A[C&gt;G]T</th>\n",
       "      <th>A[C&gt;T]A</th>\n",
       "      <th>A[C&gt;T]C</th>\n",
       "      <th>...</th>\n",
       "      <th>T[T&gt;A]G</th>\n",
       "      <th>T[T&gt;A]T</th>\n",
       "      <th>T[T&gt;C]A</th>\n",
       "      <th>T[T&gt;C]C</th>\n",
       "      <th>T[T&gt;C]G</th>\n",
       "      <th>T[T&gt;C]T</th>\n",
       "      <th>T[T&gt;G]A</th>\n",
       "      <th>T[T&gt;G]C</th>\n",
       "      <th>T[T&gt;G]G</th>\n",
       "      <th>T[T&gt;G]T</th>\n",
       "    </tr>\n",
       "  </thead>\n",
       "  <tbody>\n",
       "    <tr>\n",
       "      <th>D1</th>\n",
       "      <td>0.026399</td>\n",
       "      <td>0.008559</td>\n",
       "      <td>0.011029</td>\n",
       "      <td>0.007494</td>\n",
       "      <td>0.003059</td>\n",
       "      <td>0.007532</td>\n",
       "      <td>0.011988</td>\n",
       "      <td>0.008269</td>\n",
       "      <td>0.020798</td>\n",
       "      <td>0.017555</td>\n",
       "      <td>...</td>\n",
       "      <td>0.002774</td>\n",
       "      <td>0.003429</td>\n",
       "      <td>0.011589</td>\n",
       "      <td>0.009749</td>\n",
       "      <td>0.001417</td>\n",
       "      <td>0.004271</td>\n",
       "      <td>0.016829</td>\n",
       "      <td>0.002012</td>\n",
       "      <td>0.009513</td>\n",
       "      <td>0.020003</td>\n",
       "    </tr>\n",
       "    <tr>\n",
       "      <th>D2</th>\n",
       "      <td>0.013991</td>\n",
       "      <td>0.026576</td>\n",
       "      <td>0.015232</td>\n",
       "      <td>0.003289</td>\n",
       "      <td>0.005713</td>\n",
       "      <td>0.023301</td>\n",
       "      <td>0.010336</td>\n",
       "      <td>0.001697</td>\n",
       "      <td>0.020441</td>\n",
       "      <td>0.009896</td>\n",
       "      <td>...</td>\n",
       "      <td>0.000811</td>\n",
       "      <td>0.015997</td>\n",
       "      <td>0.004745</td>\n",
       "      <td>0.002808</td>\n",
       "      <td>0.015485</td>\n",
       "      <td>0.015374</td>\n",
       "      <td>0.004541</td>\n",
       "      <td>0.019371</td>\n",
       "      <td>0.013401</td>\n",
       "      <td>0.007315</td>\n",
       "    </tr>\n",
       "  </tbody>\n",
       "</table>\n",
       "<p>2 rows × 96 columns</p>\n",
       "</div>"
      ],
      "text/plain": [
       "     A[C>A]A   A[C>A]C   A[C>A]G   A[C>A]T   A[C>G]A   A[C>G]C   A[C>G]G  \\\n",
       "D1  0.026399  0.008559  0.011029  0.007494  0.003059  0.007532  0.011988   \n",
       "D2  0.013991  0.026576  0.015232  0.003289  0.005713  0.023301  0.010336   \n",
       "\n",
       "     A[C>G]T   A[C>T]A   A[C>T]C  ...   T[T>A]G   T[T>A]T   T[T>C]A   T[T>C]C  \\\n",
       "D1  0.008269  0.020798  0.017555  ...  0.002774  0.003429  0.011589  0.009749   \n",
       "D2  0.001697  0.020441  0.009896  ...  0.000811  0.015997  0.004745  0.002808   \n",
       "\n",
       "     T[T>C]G   T[T>C]T   T[T>G]A   T[T>G]C   T[T>G]G   T[T>G]T  \n",
       "D1  0.001417  0.004271  0.016829  0.002012  0.009513  0.020003  \n",
       "D2  0.015485  0.015374  0.004541  0.019371  0.013401  0.007315  \n",
       "\n",
       "[2 rows x 96 columns]"
      ]
     },
     "execution_count": 104,
     "metadata": {},
     "output_type": "execute_result"
    }
   ],
   "source": [
    "obj_sbs.init_params[\"beta_dn_param\"]"
   ]
  },
  {
   "cell_type": "code",
   "execution_count": 101,
   "metadata": {},
   "outputs": [
    {
     "data": {
      "text/plain": [
       "tensor([[0.2734, 0.3623, 0.3643],\n",
       "        [0.3783, 0.2133, 0.4084]], dtype=torch.float64, grad_fn=<DivBackward0>)"
      ]
     },
     "execution_count": 101,
     "metadata": {},
     "output_type": "execute_result"
    }
   ],
   "source": [
    "pyro.param(\"beta_weights\")"
   ]
  },
  {
   "cell_type": "code",
   "execution_count": 99,
   "metadata": {},
   "outputs": [
    {
     "data": {
      "text/plain": [
       "tensor([[0.2734, 0.3623, 0.3643],\n",
       "        [0.3783, 0.2133, 0.4084]], dtype=torch.float64)"
      ]
     },
     "execution_count": 99,
     "metadata": {},
     "output_type": "execute_result"
    }
   ],
   "source": [
    "obj_sbs.params[\"beta_w\"] "
   ]
  },
  {
   "cell_type": "code",
   "execution_count": 100,
   "metadata": {},
   "outputs": [
    {
     "data": {
      "text/plain": [
       "dict_keys(['beta_denovo', 'alpha'])"
      ]
     },
     "execution_count": 100,
     "metadata": {},
     "output_type": "execute_result"
    }
   ],
   "source": [
    "obj_sbs.gradient_norms.keys() "
   ]
  },
  {
   "cell_type": "code",
   "execution_count": 42,
   "metadata": {},
   "outputs": [
    {
     "data": {
      "text/plain": [
       "0      1.0\n",
       "1      1.0\n",
       "2      1.0\n",
       "3      1.0\n",
       "4      1.0\n",
       "      ... \n",
       "145    1.0\n",
       "146    1.0\n",
       "147    1.0\n",
       "148    1.0\n",
       "149    1.0\n",
       "Length: 150, dtype: float32"
      ]
     },
     "execution_count": 42,
     "metadata": {},
     "output_type": "execute_result"
    }
   ],
   "source": [
    "obj_sbs.params[\"alpha\"].sum(axis=1)"
   ]
  },
  {
   "cell_type": "code",
   "execution_count": 9,
   "metadata": {},
   "outputs": [
    {
     "name": "stdout",
     "output_type": "stream",
     "text": [
      "beta weights\n",
      " tensor([[0.5773, 0.1750, 0.0487, 0.1990],\n",
      "        [0.0189, 0.2324, 0.1488, 0.5999]])\n",
      "alpha star\n",
      " tensor([[0.4076, 0.5924],\n",
      "        [0.0937, 0.9063],\n",
      "        [0.3129, 0.6871],\n",
      "        [0.5145, 0.4855],\n",
      "        [0.9945, 0.0055]])\n"
     ]
    }
   ],
   "source": [
    "k_dn = 2\n",
    "k_f = 3\n",
    "n_samples = 5\n",
    "beta_weights = pyro.distributions.Dirichlet(torch.ones(k_dn, k_f+1)).sample()\n",
    "alpha_star = pyro.distributions.Dirichlet(torch.ones(n_samples, k_dn)).sample()\n",
    "print(\"beta weights\\n\", beta_weights)\n",
    "print(\"alpha star\\n\", alpha_star)"
   ]
  },
  {
   "cell_type": "code",
   "execution_count": 36,
   "metadata": {},
   "outputs": [
    {
     "data": {
      "text/plain": [
       "tensor(0.1488)"
      ]
     },
     "execution_count": 36,
     "metadata": {},
     "output_type": "execute_result"
    }
   ],
   "source": [
    "beta_weights[1,2]"
   ]
  },
  {
   "cell_type": "code",
   "execution_count": 13,
   "metadata": {},
   "outputs": [
    {
     "name": "stdout",
     "output_type": "stream",
     "text": [
      "tensor([[0.2465, 0.2090, 0.1080, 0.4365, 0.4365],\n",
      "        [0.0712, 0.2271, 0.1394, 0.5624, 0.5624],\n",
      "        [0.1936, 0.2145, 0.1174, 0.4745, 0.4745],\n",
      "        [0.3062, 0.2029, 0.0973, 0.3937, 0.3937],\n",
      "        [0.5742, 0.1753, 0.0492, 0.2012, 0.2012]])\n"
     ]
    }
   ],
   "source": [
    "alpha = torch.zeros((n_samples, k_dn+k_f))\n",
    "\n",
    "for n in range(n_samples):\n",
    "    for j in range(k_dn):\n",
    "        for r in range(k_f):\n",
    "            alpha[n, r] += torch.sum(alpha_star[n,j]) * beta_weights[j,r]\n",
    "        \n",
    "        for d in range(k_f, k_f+k_dn):\n",
    "            alpha[n, d] += torch.sum(alpha_star[n,j]) * beta_weights[j,-1]\n",
    "\n",
    "print(alpha)"
   ]
  },
  {
   "cell_type": "code",
   "execution_count": null,
   "metadata": {},
   "outputs": [],
   "source": [
    "obj_sbs.params[\"beta_w\"]"
   ]
  },
  {
   "cell_type": "code",
   "execution_count": null,
   "metadata": {},
   "outputs": [],
   "source": [
    "obj_sbs.params[\"beta_d\"]"
   ]
  },
  {
   "cell_type": "code",
   "execution_count": null,
   "metadata": {},
   "outputs": [],
   "source": [
    "obj_dbs = run.fit(\n",
    "    x=m_dbs, \n",
    "    k_list=3, \n",
    "    lr=0.005, \n",
    "    optim_gamma=0.1,\n",
    "    n_steps=10, \n",
    "    # cluster=6, \n",
    "    dirichlet_prior=True,\n",
    "    beta_fixed=cosmic_dbs.loc[[\"DBS4\"]], \n",
    "    hyperparameters={\"alpha_sigma\":.15, \"alpha_p_sigma\":1., \"alpha_p_conc0\":0.6, \n",
    "                     \"alpha_p_conc1\":0.6, \"alpha_rate\":1., \"pi_conc0\":0.5, \"alpha_conc\":100,\n",
    "                     \"scale_factor_alpha\":10000, \"scale_factor_centroid\":1000, \"scale_tau\":0},\n",
    "    enforce_sparsity = True, \n",
    "    reg_weight=0., \n",
    "    store_parameters = True, \n",
    "    seed_list=[92],\n",
    "    nonparametric=True,\n",
    "    store_fits=True\n",
    "    )\n"
   ]
  },
  {
   "cell_type": "code",
   "execution_count": null,
   "metadata": {},
   "outputs": [],
   "source": [
    "alpha_sbs = obj_sbs.params[\"alpha\"] \n",
    "alpha_dbs = obj_dbs.params[\"alpha\"] "
   ]
  },
  {
   "cell_type": "code",
   "execution_count": null,
   "metadata": {},
   "outputs": [],
   "source": [
    "input = [alpha_sbs, alpha_dbs] \n",
    "input_tensor = [torch.tensor(alpha_sbs.values), torch.tensor(alpha_dbs.values)]\n",
    "max_shape = max([i.shape[1] for i in input_tensor])\n",
    "# stacked = torch.stack(input_tensor)"
   ]
  },
  {
   "cell_type": "code",
   "execution_count": null,
   "metadata": {},
   "outputs": [],
   "source": [
    "mixture = run.fit(\n",
    "    alpha=input, \n",
    "    lr=0.005, \n",
    "    optim_gamma=0.1,\n",
    "    n_steps=3000,\n",
    "    cluster=5, \n",
    "    hyperparameters={\"alpha_sigma\":.15, \"alpha_p_sigma\":1., \"alpha_p_conc0\":0.6, \n",
    "                     \"alpha_p_conc1\":0.6, \"alpha_rate\":1., \"pi_conc0\":0.5, \"alpha_conc\":100,\n",
    "                     \"scale_factor_alpha\":10000, \"scale_factor_centroid\":1000, \"scale_tau\":0},\n",
    "    store_parameters = True, \n",
    "    seed_list=[92],\n",
    "    nonparametric=True,\n",
    "    store_fits=True\n",
    "    )\n"
   ]
  },
  {
   "cell_type": "code",
   "execution_count": null,
   "metadata": {},
   "outputs": [],
   "source": [
    "import torch.nn.functional as F\n",
    "def mix_weights(beta):\n",
    "    '''\n",
    "    Function used for the stick-breaking process.\n",
    "    '''\n",
    "    print(\"beta =\", beta)\n",
    "    beta1m_cumprod = (1 - beta).cumprod(-1)\n",
    "    print(\"beta1m_cumprod =\", beta1m_cumprod)\n",
    "    res1 = F.pad(beta, (0, 1), value=1)\n",
    "    res2 = F.pad(beta1m_cumprod, (1, 0), value=1)\n",
    "    res = res1 * res2\n",
    "    print(f\"res1 = {res1}, res2 = {res2}, res = {res}\\n\")\n",
    "    return res\n"
   ]
  },
  {
   "cell_type": "code",
   "execution_count": null,
   "metadata": {},
   "outputs": [],
   "source": [
    "cluster = 6\n",
    "with pyro.plate(\"beta_plate\", cluster-1):\n",
    "    pi_beta = pyro.sample(f\"beta\", pyro.distributions.Beta(1, 1.1755e-36))\n",
    "    # pi_beta = torch.tensor([1.1755e-36, 2.1648e-18, 1.1755e-36, 6.6389e-33, 1.1755e-36])\n",
    "    print(\"pi_beta =\", pi_beta)\n",
    "    pi = mix_weights(pi_beta)\n",
    "\n",
    "print(pi)"
   ]
  },
  {
   "cell_type": "code",
   "execution_count": null,
   "metadata": {},
   "outputs": [],
   "source": []
  },
  {
   "cell_type": "code",
   "execution_count": null,
   "metadata": {},
   "outputs": [],
   "source": [
    "beta_star = torch.zeros(k_denovo, 96, dtype=torch.float64) \n",
    "for i in range(k_denovo):\n",
    "    tmp_sbs = torch.cat((ref_sbs, dn_sbs[i].unsqueeze(0)))\n",
    "    beta_star[i] = pi[i].unsqueeze(0).matmul(tmp_sbs) "
   ]
  },
  {
   "cell_type": "code",
   "execution_count": null,
   "metadata": {},
   "outputs": [],
   "source": [
    "pyro.distributions.Gamma(0.01, 0.01).sample((5,))"
   ]
  },
  {
   "cell_type": "code",
   "execution_count": null,
   "metadata": {},
   "outputs": [],
   "source": [
    "pyro.distributions.Dirichlet(torch.ones(5)).sample()"
   ]
  },
  {
   "cell_type": "code",
   "execution_count": null,
   "metadata": {},
   "outputs": [],
   "source": [
    "(1 - pyro.distributions.Beta(1, 1e-10).sample((cluster-1,))).cumprod(-1)"
   ]
  },
  {
   "cell_type": "code",
   "execution_count": null,
   "metadata": {},
   "outputs": [],
   "source": [
    "pi = torch.zeros((10,))\n",
    "pi[:5] = 5\n",
    "pi "
   ]
  },
  {
   "cell_type": "code",
   "execution_count": null,
   "metadata": {},
   "outputs": [],
   "source": [
    "alpha_centr = mixture[0].params[\"alpha_prior\"]\n",
    "print(alpha_centr) "
   ]
  },
  {
   "cell_type": "code",
   "execution_count": null,
   "metadata": {},
   "outputs": [],
   "source": [
    "print(sklearn.metrics.normalized_mutual_info_score(mixture.groups, g_sbs)) \n",
    "print(sklearn.metrics.normalized_mutual_info_score(mixture.groups, g_dbs)) "
   ]
  },
  {
   "cell_type": "code",
   "execution_count": null,
   "metadata": {},
   "outputs": [],
   "source": [
    "print(obj_sbs.params[\"scale_factor_centroid\"])\n",
    "print(obj_sbs.params[\"scale_factor_alpha\"]) "
   ]
  },
  {
   "cell_type": "code",
   "execution_count": null,
   "metadata": {},
   "outputs": [],
   "source": [
    "obj_sbs.params"
   ]
  },
  {
   "cell_type": "code",
   "execution_count": null,
   "metadata": {},
   "outputs": [],
   "source": [
    "obj_sbs.train_params[6][\"scale_factor_centroid\"]"
   ]
  },
  {
   "cell_type": "code",
   "execution_count": null,
   "metadata": {},
   "outputs": [],
   "source": [
    "obj_sbs.params[\"pi_conc0\"] "
   ]
  },
  {
   "cell_type": "code",
   "execution_count": null,
   "metadata": {},
   "outputs": [],
   "source": [
    "sns.scatterplot(x=range(len(obj_sbs.likelihoods)), y=obj_sbs.likelihoods) "
   ]
  },
  {
   "cell_type": "code",
   "execution_count": null,
   "metadata": {},
   "outputs": [],
   "source": [
    "sns.scatterplot(x=range(len(obj_sbs.losses)), y=obj_sbs.losses) "
   ]
  },
  {
   "cell_type": "code",
   "execution_count": null,
   "metadata": {},
   "outputs": [],
   "source": [
    "try: sns.scatterplot(x=range(len(obj_sbs.gradient_norms[\"scale_factor_centroid_param\"])), \n",
    "                     y=obj_sbs.gradient_norms[\"scale_factor_centroid_param\"]) \n",
    "except: print() "
   ]
  },
  {
   "cell_type": "code",
   "execution_count": null,
   "metadata": {},
   "outputs": [],
   "source": [
    "try: sns.scatterplot(x=range(len(obj_sbs.gradient_norms[\"scale_factor_alpha_param\"])), \n",
    "                     y=obj_sbs.gradient_norms[\"scale_factor_alpha_param\"]) \n",
    "except: print() "
   ]
  },
  {
   "cell_type": "code",
   "execution_count": null,
   "metadata": {},
   "outputs": [],
   "source": [
    "try: sns.scatterplot(x=range(len(obj_sbs.gradient_norms[\"alpha_prior_param\"])), y=obj_sbs.gradient_norms[\"alpha_prior_param\"]) \n",
    "except: print() "
   ]
  },
  {
   "cell_type": "code",
   "execution_count": null,
   "metadata": {},
   "outputs": [],
   "source": [
    "try: sns.scatterplot(x=range(len(obj_sbs.gradient_norms[\"alpha_prior_param\"])), y=obj_sbs.gradient_norms[\"alpha_prior_param\"]) \n",
    "except: print() "
   ]
  },
  {
   "cell_type": "code",
   "execution_count": null,
   "metadata": {},
   "outputs": [],
   "source": [
    "try: sns.scatterplot(x=range(len(obj_sbs.gradient_norms[\"pi_param\"])), y=obj_sbs.gradient_norms[\"pi_param\"]) \n",
    "except: print() "
   ]
  },
  {
   "cell_type": "code",
   "execution_count": null,
   "metadata": {},
   "outputs": [],
   "source": [
    "try: sns.scatterplot(x=range(len(obj_sbs.gradient_norms[\"pi_conc0_param\"])), y=obj_sbs.gradient_norms[\"pi_conc0_param\"]) \n",
    "except: print() "
   ]
  },
  {
   "cell_type": "code",
   "execution_count": null,
   "metadata": {},
   "outputs": [],
   "source": [
    "try: sns.scatterplot(x=range(len(obj_sbs.gradient_norms[\"alpha\"])), y=obj_sbs.gradient_norms[\"alpha\"]) \n",
    "except: print() "
   ]
  },
  {
   "cell_type": "code",
   "execution_count": null,
   "metadata": {},
   "outputs": [],
   "source": [
    "try: sns.scatterplot(x=range(len(obj_sbs.gradient_norms[\"beta_denovo\"])), y=obj_sbs.gradient_norms[\"beta_denovo\"])\n",
    "except: print()"
   ]
  },
  {
   "cell_type": "code",
   "execution_count": null,
   "metadata": {},
   "outputs": [],
   "source": [
    "pd.DataFrame(np.array(obj_sbs.init_params[\"alpha_prior_param\"]), columns=obj_sbs.params[\"alpha\"].columns).plot.bar(stacked=True, legend=False) "
   ]
  },
  {
   "cell_type": "code",
   "execution_count": null,
   "metadata": {},
   "outputs": [],
   "source": [
    "try: pd.DataFrame(np.array(obj_sbs.params[\"alpha_prior\"]), columns=obj_sbs.params[\"alpha_prior\"].columns).plot.bar(stacked=True, legend=False) \n",
    "except Exception as e: print() "
   ]
  },
  {
   "cell_type": "code",
   "execution_count": null,
   "metadata": {},
   "outputs": [],
   "source": [
    "try:\n",
    "    for gid in set(np.array(obj_sbs.groups)):\n",
    "        tmp = [i for i, v in enumerate(obj_sbs.groups) if v == gid]\n",
    "        # tmp = [i for i, v in enumerate(obj_sbs.groups) if (v == gid and i in idxs)]\n",
    "        if len(tmp) == 0: continue\n",
    "        pd.DataFrame(np.array(obj_sbs.params[\"alpha\"]), columns=obj_sbs.params[\"alpha\"].columns, \n",
    "                     index=obj_sbs.params[\"alpha\"].index).iloc[tmp].plot.bar(stacked=True)\n",
    "except Exception as e:\n",
    "    print(e)\n",
    "    obj_sbs.alpha.plot.bar(stacked=True, legend=False) \n"
   ]
  },
  {
   "cell_type": "code",
   "execution_count": null,
   "metadata": {},
   "outputs": [],
   "source": [
    "try:\n",
    "    for sbs in pd.concat((obj_sbs.params[\"beta_f\"], obj_sbs.params[\"beta_d\"])).index:\n",
    "        pd.concat((obj_sbs.params[\"beta_f\"], obj_sbs.params[\"beta_d\"])).loc[[sbs]].transpose().plot.bar()\n",
    "except Exception as e:\n",
    "    print(e)"
   ]
  }
 ],
 "metadata": {
  "kernelspec": {
   "display_name": "Python 3 (ipykernel)",
   "language": "python",
   "name": "python3"
  },
  "language_info": {
   "codemirror_mode": {
    "name": "ipython",
    "version": 3
   },
   "file_extension": ".py",
   "mimetype": "text/x-python",
   "name": "python",
   "nbconvert_exporter": "python",
   "pygments_lexer": "ipython3",
   "version": "3.9.16"
  }
 },
 "nbformat": 4,
 "nbformat_minor": 4
}
