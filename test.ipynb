{
 "cells": [
  {
   "cell_type": "code",
   "execution_count": 2,
   "metadata": {
    "tags": []
   },
   "outputs": [
    {
     "name": "stderr",
     "output_type": "stream",
     "text": [
      "/Users/elenab/Library/r-miniconda-arm64/envs/basilica-env/lib/python3.9/site-packages/tqdm/auto.py:21: TqdmWarning: IProgress not found. Please update jupyter and ipywidgets. See https://ipywidgets.readthedocs.io/en/stable/user_install.html\n",
      "  from .autonotebook import tqdm as notebook_tqdm\n"
     ]
    }
   ],
   "source": [
    "import pandas as pd\n",
    "import pybasilica.run as run\n",
    "import torch\n",
    "import pyro\n",
    "import numpy as np\n",
    "import seaborn as sns\n",
    "import sklearn.metrics\n",
    "\n",
    "%load_ext autoreload\n",
    "%autoreload 2"
   ]
  },
  {
   "cell_type": "code",
   "execution_count": 3,
   "metadata": {
    "tags": []
   },
   "outputs": [],
   "source": [
    "m_g = pd.read_csv(\"test_datasets/counts_sbs.N150.G3.csv\")\n",
    "m_sbs = m_g.drop([\"groups\"], axis=1)\n",
    "g_sbs = m_g[\"groups\"].tolist()\n",
    "cosmic_sbs = pd.read_csv(\"test_datasets/COSMIC_filt.csv\", index_col=0)"
   ]
  },
  {
   "cell_type": "code",
   "execution_count": 4,
   "metadata": {},
   "outputs": [],
   "source": [
    "m_g = pd.read_csv(\"test_datasets/counts_dbs.N150.G3.csv\")\n",
    "m_dbs = m_g.drop([\"groups\"], axis=1)\n",
    "g_dbs = m_g[\"groups\"].tolist()\n",
    "cosmic_dbs = pd.read_csv(\"test_datasets/COSMIC_dbs.csv\", index_col=0) "
   ]
  },
  {
   "cell_type": "code",
   "execution_count": 5,
   "metadata": {
    "tags": []
   },
   "outputs": [
    {
     "name": "stdout",
     "output_type": "stream",
     "text": [
      "N parameters 1284\n",
      "N parameters 1284\n",
      "(6, 6)\n"
     ]
    }
   ],
   "source": [
    "sbs_fit = run.fit(\n",
    "    x=m_sbs, \n",
    "    k_list=4, \n",
    "    lr=0.005, \n",
    "    optim_gamma=0.1,\n",
    "    n_steps=3000, \n",
    "    cluster=6, \n",
    "    dirichlet_prior=True,\n",
    "    beta_fixed=cosmic_sbs.loc[[\"SBS1\",\"SBS5\"]], \n",
    "    hyperparameters={\"alpha_sigma\":.15, \"alpha_p_sigma\":1., \"alpha_p_conc0\":0.6, \n",
    "                     \"alpha_p_conc1\":0.6, \"alpha_rate\":1., \"pi_conc0\":0.5, \"alpha_conc\":100,\n",
    "                     \"scale_factor_alpha\":5000, \"scale_factor_centroid\":5000, \"scale_tau\":0},\n",
    "    enforce_sparsity = True, \n",
    "    reg_weight=0., \n",
    "    store_parameters = True, \n",
    "    seed=[92],\n",
    "    nonparametric=True,\n",
    "    save_all_fits=True\n",
    "    )\n",
    "\n",
    "obj_sbs = sbs_fit[0]"
   ]
  },
  {
   "cell_type": "code",
   "execution_count": 6,
   "metadata": {},
   "outputs": [
    {
     "name": "stdout",
     "output_type": "stream",
     "text": [
      "N parameters 834\n",
      "N parameters 834\n"
     ]
    }
   ],
   "source": [
    "dbs_fit = run.fit(\n",
    "    x=m_dbs, \n",
    "    k_list=3, \n",
    "    lr=0.005, \n",
    "    optim_gamma=0.1,\n",
    "    n_steps=3000, \n",
    "    # cluster=6, \n",
    "    dirichlet_prior=True,\n",
    "    beta_fixed=cosmic_dbs.loc[[\"DBS4\"]], \n",
    "    hyperparameters={\"alpha_sigma\":.15, \"alpha_p_sigma\":1., \"alpha_p_conc0\":0.6, \n",
    "                     \"alpha_p_conc1\":0.6, \"alpha_rate\":1., \"pi_conc0\":0.5, \"alpha_conc\":100,\n",
    "                     \"scale_factor_alpha\":10000, \"scale_factor_centroid\":1000, \"scale_tau\":0},\n",
    "    enforce_sparsity = True, \n",
    "    reg_weight=0., \n",
    "    store_parameters = True, \n",
    "    seed=[92],\n",
    "    nonparametric=True,\n",
    "    save_all_fits=True\n",
    "    )\n",
    "\n",
    "obj_dbs = dbs_fit[0]"
   ]
  },
  {
   "cell_type": "code",
   "execution_count": 7,
   "metadata": {},
   "outputs": [],
   "source": [
    "alpha_sbs = obj_sbs.params[\"alpha\"]\n",
    "alpha_dbs = obj_dbs.params[\"alpha\"] "
   ]
  },
  {
   "cell_type": "code",
   "execution_count": 8,
   "metadata": {},
   "outputs": [],
   "source": [
    "input = [alpha_sbs, alpha_dbs] \n",
    "input_tensor = [torch.tensor(alpha_sbs.values), torch.tensor(alpha_dbs.values)]\n",
    "max_shape = max([i.shape[1] for i in input_tensor])\n",
    "# stacked = torch.stack(input_tensor)"
   ]
  },
  {
   "cell_type": "code",
   "execution_count": 49,
   "metadata": {},
   "outputs": [
    {
     "name": "stdout",
     "output_type": "stream",
     "text": [
      "tensor([[[1, 2, 3],\n",
      "         [4, 5, 6]]])\n"
     ]
    }
   ],
   "source": [
    "a = torch.tensor([[[1,2,3],[4,5,6]]]) \n",
    "print(a)\n",
    "# 2 groups, 3 sigs "
   ]
  },
  {
   "cell_type": "code",
   "execution_count": 51,
   "metadata": {},
   "outputs": [
    {
     "data": {
      "text/plain": [
       "tensor([[[0.2905, 0.3907, 0.1714, 0.0720, 0.0266, 0.0488],\n",
       "         [0.0053, 0.2232, 0.0585, 0.0207, 0.4614, 0.2309]],\n",
       "\n",
       "        [[0.1780, 0.2916, 0.0658, 0.1522, 0.2210, 0.0915],\n",
       "         [0.0584, 0.0413, 0.0169, 0.0033, 0.2621, 0.6179]],\n",
       "\n",
       "        [[0.0215, 0.1563, 0.3386, 0.1470, 0.1111, 0.2256],\n",
       "         [0.2386, 0.1261, 0.0043, 0.0673, 0.4438, 0.1198]],\n",
       "\n",
       "        ...,\n",
       "\n",
       "        [[0.0669, 0.0370, 0.0525, 0.1314, 0.5168, 0.1954],\n",
       "         [0.0033, 0.1725, 0.1658, 0.0444, 0.3571, 0.2569]],\n",
       "\n",
       "        [[0.0645, 0.0233, 0.1481, 0.1227, 0.2969, 0.3444],\n",
       "         [0.2417, 0.0440, 0.2539, 0.0484, 0.2422, 0.1698]],\n",
       "\n",
       "        [[0.4514, 0.2063, 0.1536, 0.0698, 0.0559, 0.0630],\n",
       "         [0.0974, 0.0358, 0.2181, 0.4319, 0.1759, 0.0409]]])"
      ]
     },
     "execution_count": 51,
     "metadata": {},
     "output_type": "execute_result"
    }
   ],
   "source": [
    "pyro.distributions.Dirichlet(torch.ones((2,6))).sample((150,))"
   ]
  },
  {
   "cell_type": "code",
   "execution_count": 48,
   "metadata": {},
   "outputs": [
    {
     "name": "stdout",
     "output_type": "stream",
     "text": [
      "torch.Size([150, 2, 6])\n",
      "torch.Size([2, 6, 6])\n"
     ]
    },
    {
     "ename": "ValueError",
     "evalue": "Error while computing log_prob at site 'obs':\nValue is not broadcastable with batch_shape+event_shape: torch.Size([150, 2, 6]) vs torch.Size([2, 150, 6]).\n    Trace Shapes:            \n     Param Sites:            \n    Sample Sites:            \n        beta dist       5 |  \n            value       5 |  \n         log_prob       5 |  \n     alpha_t dist   2   6 | 6\n            value   2   6 | 6\n         log_prob   2   6 |  \nlatent_class dist     150 |  \n            value     150 |  \n         log_prob     150 |  \n         obs dist   2 150 | 6\n            value 150   2 | 6",
     "output_type": "error",
     "traceback": [
      "\u001b[0;31m---------------------------------------------------------------------------\u001b[0m",
      "\u001b[0;31mValueError\u001b[0m                                Traceback (most recent call last)",
      "File \u001b[0;32m~/Library/r-miniconda-arm64/envs/basilica-env/lib/python3.9/site-packages/pyro/poutine/trace_struct.py:230\u001b[0m, in \u001b[0;36mTrace.compute_log_prob\u001b[0;34m(self, site_filter)\u001b[0m\n\u001b[1;32m    229\u001b[0m \u001b[39mtry\u001b[39;00m:\n\u001b[0;32m--> 230\u001b[0m     log_p \u001b[39m=\u001b[39m site[\u001b[39m\"\u001b[39;49m\u001b[39mfn\u001b[39;49m\u001b[39m\"\u001b[39;49m]\u001b[39m.\u001b[39;49mlog_prob(\n\u001b[1;32m    231\u001b[0m         site[\u001b[39m\"\u001b[39;49m\u001b[39mvalue\u001b[39;49m\u001b[39m\"\u001b[39;49m], \u001b[39m*\u001b[39;49msite[\u001b[39m\"\u001b[39;49m\u001b[39margs\u001b[39;49m\u001b[39m\"\u001b[39;49m], \u001b[39m*\u001b[39;49m\u001b[39m*\u001b[39;49msite[\u001b[39m\"\u001b[39;49m\u001b[39mkwargs\u001b[39;49m\u001b[39m\"\u001b[39;49m]\n\u001b[1;32m    232\u001b[0m     )\n\u001b[1;32m    233\u001b[0m \u001b[39mexcept\u001b[39;00m \u001b[39mValueError\u001b[39;00m \u001b[39mas\u001b[39;00m e:\n",
      "File \u001b[0;32m~/Library/r-miniconda-arm64/envs/basilica-env/lib/python3.9/site-packages/torch/distributions/dirichlet.py:71\u001b[0m, in \u001b[0;36mDirichlet.log_prob\u001b[0;34m(self, value)\u001b[0m\n\u001b[1;32m     70\u001b[0m \u001b[39mif\u001b[39;00m \u001b[39mself\u001b[39m\u001b[39m.\u001b[39m_validate_args:\n\u001b[0;32m---> 71\u001b[0m     \u001b[39mself\u001b[39;49m\u001b[39m.\u001b[39;49m_validate_sample(value)\n\u001b[1;32m     72\u001b[0m \u001b[39mreturn\u001b[39;00m ((torch\u001b[39m.\u001b[39mlog(value) \u001b[39m*\u001b[39m (\u001b[39mself\u001b[39m\u001b[39m.\u001b[39mconcentration \u001b[39m-\u001b[39m \u001b[39m1.0\u001b[39m))\u001b[39m.\u001b[39msum(\u001b[39m-\u001b[39m\u001b[39m1\u001b[39m) \u001b[39m+\u001b[39m\n\u001b[1;32m     73\u001b[0m         torch\u001b[39m.\u001b[39mlgamma(\u001b[39mself\u001b[39m\u001b[39m.\u001b[39mconcentration\u001b[39m.\u001b[39msum(\u001b[39m-\u001b[39m\u001b[39m1\u001b[39m)) \u001b[39m-\u001b[39m\n\u001b[1;32m     74\u001b[0m         torch\u001b[39m.\u001b[39mlgamma(\u001b[39mself\u001b[39m\u001b[39m.\u001b[39mconcentration)\u001b[39m.\u001b[39msum(\u001b[39m-\u001b[39m\u001b[39m1\u001b[39m))\n",
      "File \u001b[0;32m~/Library/r-miniconda-arm64/envs/basilica-env/lib/python3.9/site-packages/torch/distributions/distribution.py:282\u001b[0m, in \u001b[0;36mDistribution._validate_sample\u001b[0;34m(self, value)\u001b[0m\n\u001b[1;32m    281\u001b[0m     \u001b[39mif\u001b[39;00m i \u001b[39m!=\u001b[39m \u001b[39m1\u001b[39m \u001b[39mand\u001b[39;00m j \u001b[39m!=\u001b[39m \u001b[39m1\u001b[39m \u001b[39mand\u001b[39;00m i \u001b[39m!=\u001b[39m j:\n\u001b[0;32m--> 282\u001b[0m         \u001b[39mraise\u001b[39;00m \u001b[39mValueError\u001b[39;00m(\u001b[39m'\u001b[39m\u001b[39mValue is not broadcastable with batch_shape+event_shape: \u001b[39m\u001b[39m{}\u001b[39;00m\u001b[39m vs \u001b[39m\u001b[39m{}\u001b[39;00m\u001b[39m.\u001b[39m\u001b[39m'\u001b[39m\u001b[39m.\u001b[39m\n\u001b[1;32m    283\u001b[0m                          \u001b[39mformat\u001b[39m(actual_shape, expected_shape))\n\u001b[1;32m    284\u001b[0m \u001b[39mtry\u001b[39;00m:\n",
      "\u001b[0;31mValueError\u001b[0m: Value is not broadcastable with batch_shape+event_shape: torch.Size([150, 2, 6]) vs torch.Size([2, 150, 6]).",
      "\nThe above exception was the direct cause of the following exception:\n",
      "\u001b[0;31mValueError\u001b[0m                                Traceback (most recent call last)",
      "\u001b[1;32m/Users/elenab/GitHub/pybasilica/test.ipynb Cell 9\u001b[0m line \u001b[0;36m1\n\u001b[0;32m----> <a href='vscode-notebook-cell:/Users/elenab/GitHub/pybasilica/test.ipynb#X10sZmlsZQ%3D%3D?line=0'>1</a>\u001b[0m mixture \u001b[39m=\u001b[39m run\u001b[39m.\u001b[39;49mfit(\n\u001b[1;32m      <a href='vscode-notebook-cell:/Users/elenab/GitHub/pybasilica/test.ipynb#X10sZmlsZQ%3D%3D?line=1'>2</a>\u001b[0m     alpha\u001b[39m=\u001b[39;49m\u001b[39minput\u001b[39;49m, \n\u001b[1;32m      <a href='vscode-notebook-cell:/Users/elenab/GitHub/pybasilica/test.ipynb#X10sZmlsZQ%3D%3D?line=2'>3</a>\u001b[0m     lr\u001b[39m=\u001b[39;49m\u001b[39m0.005\u001b[39;49m, \n\u001b[1;32m      <a href='vscode-notebook-cell:/Users/elenab/GitHub/pybasilica/test.ipynb#X10sZmlsZQ%3D%3D?line=3'>4</a>\u001b[0m     optim_gamma\u001b[39m=\u001b[39;49m\u001b[39m0.1\u001b[39;49m,\n\u001b[1;32m      <a href='vscode-notebook-cell:/Users/elenab/GitHub/pybasilica/test.ipynb#X10sZmlsZQ%3D%3D?line=4'>5</a>\u001b[0m     n_steps\u001b[39m=\u001b[39;49m\u001b[39m3000\u001b[39;49m,\n\u001b[1;32m      <a href='vscode-notebook-cell:/Users/elenab/GitHub/pybasilica/test.ipynb#X10sZmlsZQ%3D%3D?line=5'>6</a>\u001b[0m     cluster\u001b[39m=\u001b[39;49m\u001b[39m6\u001b[39;49m, \n\u001b[1;32m      <a href='vscode-notebook-cell:/Users/elenab/GitHub/pybasilica/test.ipynb#X10sZmlsZQ%3D%3D?line=6'>7</a>\u001b[0m     hyperparameters\u001b[39m=\u001b[39;49m{\u001b[39m\"\u001b[39;49m\u001b[39malpha_sigma\u001b[39;49m\u001b[39m\"\u001b[39;49m:\u001b[39m.15\u001b[39;49m, \u001b[39m\"\u001b[39;49m\u001b[39malpha_p_sigma\u001b[39;49m\u001b[39m\"\u001b[39;49m:\u001b[39m1.\u001b[39;49m, \u001b[39m\"\u001b[39;49m\u001b[39malpha_p_conc0\u001b[39;49m\u001b[39m\"\u001b[39;49m:\u001b[39m0.6\u001b[39;49m, \n\u001b[1;32m      <a href='vscode-notebook-cell:/Users/elenab/GitHub/pybasilica/test.ipynb#X10sZmlsZQ%3D%3D?line=7'>8</a>\u001b[0m                      \u001b[39m\"\u001b[39;49m\u001b[39malpha_p_conc1\u001b[39;49m\u001b[39m\"\u001b[39;49m:\u001b[39m0.6\u001b[39;49m, \u001b[39m\"\u001b[39;49m\u001b[39malpha_rate\u001b[39;49m\u001b[39m\"\u001b[39;49m:\u001b[39m1.\u001b[39;49m, \u001b[39m\"\u001b[39;49m\u001b[39mpi_conc0\u001b[39;49m\u001b[39m\"\u001b[39;49m:\u001b[39m0.5\u001b[39;49m, \u001b[39m\"\u001b[39;49m\u001b[39malpha_conc\u001b[39;49m\u001b[39m\"\u001b[39;49m:\u001b[39m100\u001b[39;49m,\n\u001b[1;32m      <a href='vscode-notebook-cell:/Users/elenab/GitHub/pybasilica/test.ipynb#X10sZmlsZQ%3D%3D?line=8'>9</a>\u001b[0m                      \u001b[39m\"\u001b[39;49m\u001b[39mscale_factor_alpha\u001b[39;49m\u001b[39m\"\u001b[39;49m:\u001b[39m10000\u001b[39;49m, \u001b[39m\"\u001b[39;49m\u001b[39mscale_factor_centroid\u001b[39;49m\u001b[39m\"\u001b[39;49m:\u001b[39m1000\u001b[39;49m, \u001b[39m\"\u001b[39;49m\u001b[39mscale_tau\u001b[39;49m\u001b[39m\"\u001b[39;49m:\u001b[39m1\u001b[39;49m},\n\u001b[1;32m     <a href='vscode-notebook-cell:/Users/elenab/GitHub/pybasilica/test.ipynb#X10sZmlsZQ%3D%3D?line=9'>10</a>\u001b[0m     store_parameters \u001b[39m=\u001b[39;49m \u001b[39mTrue\u001b[39;49;00m, \n\u001b[1;32m     <a href='vscode-notebook-cell:/Users/elenab/GitHub/pybasilica/test.ipynb#X10sZmlsZQ%3D%3D?line=10'>11</a>\u001b[0m     seed\u001b[39m=\u001b[39;49m[\u001b[39m92\u001b[39;49m],\n\u001b[1;32m     <a href='vscode-notebook-cell:/Users/elenab/GitHub/pybasilica/test.ipynb#X10sZmlsZQ%3D%3D?line=11'>12</a>\u001b[0m     nonparametric\u001b[39m=\u001b[39;49m\u001b[39mTrue\u001b[39;49;00m,\n\u001b[1;32m     <a href='vscode-notebook-cell:/Users/elenab/GitHub/pybasilica/test.ipynb#X10sZmlsZQ%3D%3D?line=12'>13</a>\u001b[0m     save_all_fits\u001b[39m=\u001b[39;49m\u001b[39mTrue\u001b[39;49;00m\n\u001b[1;32m     <a href='vscode-notebook-cell:/Users/elenab/GitHub/pybasilica/test.ipynb#X10sZmlsZQ%3D%3D?line=13'>14</a>\u001b[0m     )\n",
      "File \u001b[0;32m~/GitHub/pybasilica/pybasilica/run.py:102\u001b[0m, in \u001b[0;36mfit\u001b[0;34m(x, alpha, k_list, lr, optim_gamma, n_steps, enumer, cluster, beta_fixed, hyperparameters, dirichlet_prior, compile_model, CUDA, enforce_sparsity, nonparametric, regularizer, reg_weight, regul_compare, regul_denovo, regul_fixed, stage, seed, store_parameters, save_all_fits)\u001b[0m\n\u001b[1;32m    100\u001b[0m \u001b[39mif\u001b[39;00m has_clusters:\n\u001b[1;32m    101\u001b[0m     kwargs_mixture[\u001b[39m\"\u001b[39m\u001b[39malpha\u001b[39m\u001b[39m\"\u001b[39m] \u001b[39m=\u001b[39m alpha\n\u001b[0;32m--> 102\u001b[0m     best_cl, _, scores_cl, all_fits_stored_cl \u001b[39m=\u001b[39m select_best(parlist\u001b[39m=\u001b[39;49m\u001b[39mlist\u001b[39;49m(cluster), parname\u001b[39m=\u001b[39;49m\u001b[39m\"\u001b[39;49m\u001b[39mcluster\u001b[39;49m\u001b[39m\"\u001b[39;49m, seed\u001b[39m=\u001b[39;49mseed, \n\u001b[1;32m    103\u001b[0m                                                             kwargs\u001b[39m=\u001b[39;49mkwargs_mixture, classname\u001b[39m=\u001b[39;49mPyBasilica_mixture, \n\u001b[1;32m    104\u001b[0m                                                             save_all_fits\u001b[39m=\u001b[39;49msave_all_fits)\n\u001b[1;32m    106\u001b[0m     best_k \u001b[39m=\u001b[39m merge_k_cl(obj\u001b[39m=\u001b[39mbest_k, obj_mixt\u001b[39m=\u001b[39mbest_cl, store_parameters\u001b[39m=\u001b[39mstore_parameters) \u001b[39mif\u001b[39;00m best_k \u001b[39mis\u001b[39;00m \u001b[39mnot\u001b[39;00m \u001b[39mNone\u001b[39;00m \u001b[39melse\u001b[39;00m best_cl\n\u001b[1;32m    107\u001b[0m     best_k\u001b[39m.\u001b[39mscores_CL, best_k\u001b[39m.\u001b[39mall_fits_CL \u001b[39m=\u001b[39m scores_cl, all_fits_stored_cl\n",
      "File \u001b[0;32m~/GitHub/pybasilica/pybasilica/run.py:134\u001b[0m, in \u001b[0;36mselect_best\u001b[0;34m(parlist, parname, seed, kwargs, classname, save_all_fits)\u001b[0m\n\u001b[1;32m    131\u001b[0m \u001b[39mfor\u001b[39;00m k \u001b[39min\u001b[39;00m parlist:\n\u001b[1;32m    132\u001b[0m     kwargs[parname] \u001b[39m=\u001b[39m k\n\u001b[0;32m--> 134\u001b[0m     obj \u001b[39m=\u001b[39m single_run(seed_list\u001b[39m=\u001b[39;49mseed, kwargs\u001b[39m=\u001b[39;49mkwargs, classname\u001b[39m=\u001b[39;49mclassname)\n\u001b[1;32m    136\u001b[0m     \u001b[39mif\u001b[39;00m obj\u001b[39m.\u001b[39mbic \u001b[39m<\u001b[39m minBic:\n\u001b[1;32m    137\u001b[0m         minBic, bestRun \u001b[39m=\u001b[39m obj\u001b[39m.\u001b[39mbic, obj\n",
      "File \u001b[0;32m~/GitHub/pybasilica/pybasilica/run.py:30\u001b[0m, in \u001b[0;36msingle_run\u001b[0;34m(seed_list, kwargs, classname)\u001b[0m\n\u001b[1;32m     28\u001b[0m \u001b[39mfor\u001b[39;00m seed \u001b[39min\u001b[39;00m seed_list:\n\u001b[1;32m     29\u001b[0m     obj \u001b[39m=\u001b[39m classname(seed\u001b[39m=\u001b[39mseed, \u001b[39m*\u001b[39m\u001b[39m*\u001b[39mkwargs)\n\u001b[0;32m---> 30\u001b[0m     obj\u001b[39m.\u001b[39;49m_fit()\n\u001b[1;32m     31\u001b[0m     scores[\u001b[39m\"\u001b[39m\u001b[39mseed:\u001b[39m\u001b[39m\"\u001b[39m\u001b[39m+\u001b[39m\u001b[39mstr\u001b[39m(seed)] \u001b[39m=\u001b[39m {\u001b[39m\"\u001b[39m\u001b[39mbic\u001b[39m\u001b[39m\"\u001b[39m:obj\u001b[39m.\u001b[39mbic, \u001b[39m\"\u001b[39m\u001b[39maic\u001b[39m\u001b[39m\"\u001b[39m:obj\u001b[39m.\u001b[39maic, \u001b[39m\"\u001b[39m\u001b[39micl\u001b[39m\u001b[39m\"\u001b[39m:obj\u001b[39m.\u001b[39micl, \u001b[39m\"\u001b[39m\u001b[39mllik\u001b[39m\u001b[39m\"\u001b[39m:obj\u001b[39m.\u001b[39mlikelihood, \u001b[39m\"\u001b[39m\u001b[39mreg_llik\u001b[39m\u001b[39m\"\u001b[39m:obj\u001b[39m.\u001b[39mreg_likelihood}\n\u001b[1;32m     32\u001b[0m     \u001b[39mif\u001b[39;00m bestRun \u001b[39mis\u001b[39;00m \u001b[39mNone\u001b[39;00m \u001b[39mor\u001b[39;00m obj\u001b[39m.\u001b[39mbic \u001b[39m<\u001b[39m minBic:\n",
      "File \u001b[0;32m~/GitHub/pybasilica/pybasilica/svi_mixture.py:295\u001b[0m, in \u001b[0;36mPyBasilica_mixture._fit\u001b[0;34m(self)\u001b[0m\n\u001b[1;32m    293\u001b[0m \u001b[39mself\u001b[39m\u001b[39m.\u001b[39m_curr_step \u001b[39m=\u001b[39m \u001b[39m0\u001b[39m\n\u001b[1;32m    294\u001b[0m svi \u001b[39m=\u001b[39m SVI(\u001b[39mself\u001b[39m\u001b[39m.\u001b[39mmodel_mixture, \u001b[39mself\u001b[39m\u001b[39m.\u001b[39mguide_mixture, optimizer, loss\u001b[39m=\u001b[39melbo)\n\u001b[0;32m--> 295\u001b[0m loss \u001b[39m=\u001b[39m svi\u001b[39m.\u001b[39;49mstep()\n\u001b[1;32m    297\u001b[0m gradient_norms \u001b[39m=\u001b[39m defaultdict(\u001b[39mlist\u001b[39m)\n\u001b[1;32m    298\u001b[0m \u001b[39mfor\u001b[39;00m name, value \u001b[39min\u001b[39;00m pyro\u001b[39m.\u001b[39mget_param_store()\u001b[39m.\u001b[39mnamed_parameters():\n",
      "File \u001b[0;32m~/Library/r-miniconda-arm64/envs/basilica-env/lib/python3.9/site-packages/pyro/infer/svi.py:145\u001b[0m, in \u001b[0;36mSVI.step\u001b[0;34m(self, *args, **kwargs)\u001b[0m\n\u001b[1;32m    143\u001b[0m \u001b[39m# get loss and compute gradients\u001b[39;00m\n\u001b[1;32m    144\u001b[0m \u001b[39mwith\u001b[39;00m poutine\u001b[39m.\u001b[39mtrace(param_only\u001b[39m=\u001b[39m\u001b[39mTrue\u001b[39;00m) \u001b[39mas\u001b[39;00m param_capture:\n\u001b[0;32m--> 145\u001b[0m     loss \u001b[39m=\u001b[39m \u001b[39mself\u001b[39;49m\u001b[39m.\u001b[39;49mloss_and_grads(\u001b[39mself\u001b[39;49m\u001b[39m.\u001b[39;49mmodel, \u001b[39mself\u001b[39;49m\u001b[39m.\u001b[39;49mguide, \u001b[39m*\u001b[39;49margs, \u001b[39m*\u001b[39;49m\u001b[39m*\u001b[39;49mkwargs)\n\u001b[1;32m    147\u001b[0m params \u001b[39m=\u001b[39m \u001b[39mset\u001b[39m(\n\u001b[1;32m    148\u001b[0m     site[\u001b[39m\"\u001b[39m\u001b[39mvalue\u001b[39m\u001b[39m\"\u001b[39m]\u001b[39m.\u001b[39munconstrained() \u001b[39mfor\u001b[39;00m site \u001b[39min\u001b[39;00m param_capture\u001b[39m.\u001b[39mtrace\u001b[39m.\u001b[39mnodes\u001b[39m.\u001b[39mvalues()\n\u001b[1;32m    149\u001b[0m )\n\u001b[1;32m    151\u001b[0m \u001b[39m# actually perform gradient steps\u001b[39;00m\n\u001b[1;32m    152\u001b[0m \u001b[39m# torch.optim objects gets instantiated for any params that haven't been seen yet\u001b[39;00m\n",
      "File \u001b[0;32m~/Library/r-miniconda-arm64/envs/basilica-env/lib/python3.9/site-packages/pyro/infer/traceenum_elbo.py:451\u001b[0m, in \u001b[0;36mTraceEnum_ELBO.loss_and_grads\u001b[0;34m(self, model, guide, *args, **kwargs)\u001b[0m\n\u001b[1;32m    443\u001b[0m \u001b[39m\u001b[39m\u001b[39m\"\"\"\u001b[39;00m\n\u001b[1;32m    444\u001b[0m \u001b[39m:returns: an estimate of the ELBO\u001b[39;00m\n\u001b[1;32m    445\u001b[0m \u001b[39m:rtype: float\u001b[39;00m\n\u001b[0;32m   (...)\u001b[0m\n\u001b[1;32m    448\u001b[0m \u001b[39mPerforms backward on the ELBO of each particle.\u001b[39;00m\n\u001b[1;32m    449\u001b[0m \u001b[39m\"\"\"\u001b[39;00m\n\u001b[1;32m    450\u001b[0m elbo \u001b[39m=\u001b[39m \u001b[39m0.0\u001b[39m\n\u001b[0;32m--> 451\u001b[0m \u001b[39mfor\u001b[39;00m model_trace, guide_trace \u001b[39min\u001b[39;00m \u001b[39mself\u001b[39m\u001b[39m.\u001b[39m_get_traces(model, guide, args, kwargs):\n\u001b[1;32m    452\u001b[0m     elbo_particle \u001b[39m=\u001b[39m _compute_dice_elbo(model_trace, guide_trace)\n\u001b[1;32m    453\u001b[0m     \u001b[39mif\u001b[39;00m is_identically_zero(elbo_particle):\n",
      "File \u001b[0;32m~/Library/r-miniconda-arm64/envs/basilica-env/lib/python3.9/site-packages/pyro/infer/traceenum_elbo.py:374\u001b[0m, in \u001b[0;36mTraceEnum_ELBO._get_traces\u001b[0;34m(self, model, guide, args, kwargs)\u001b[0m\n\u001b[1;32m    372\u001b[0m     \u001b[39mraise\u001b[39;00m \u001b[39mNotImplementedError\u001b[39;00m(\u001b[39m\"\u001b[39m\u001b[39mTraceEnum_ELBO does not support GuideMessenger\u001b[39m\u001b[39m\"\u001b[39m)\n\u001b[1;32m    373\u001b[0m \u001b[39mif\u001b[39;00m \u001b[39mself\u001b[39m\u001b[39m.\u001b[39mmax_plate_nesting \u001b[39m==\u001b[39m \u001b[39mfloat\u001b[39m(\u001b[39m\"\u001b[39m\u001b[39minf\u001b[39m\u001b[39m\"\u001b[39m):\n\u001b[0;32m--> 374\u001b[0m     \u001b[39mself\u001b[39;49m\u001b[39m.\u001b[39;49m_guess_max_plate_nesting(model, guide, args, kwargs)\n\u001b[1;32m    375\u001b[0m \u001b[39mif\u001b[39;00m \u001b[39mself\u001b[39m\u001b[39m.\u001b[39mvectorize_particles:\n\u001b[1;32m    376\u001b[0m     guide \u001b[39m=\u001b[39m \u001b[39mself\u001b[39m\u001b[39m.\u001b[39m_vectorized_num_particles(guide)\n",
      "File \u001b[0;32m~/Library/r-miniconda-arm64/envs/basilica-env/lib/python3.9/site-packages/pyro/infer/elbo.py:116\u001b[0m, in \u001b[0;36mELBO._guess_max_plate_nesting\u001b[0;34m(self, model, guide, args, kwargs)\u001b[0m\n\u001b[1;32m    114\u001b[0m \u001b[39mif\u001b[39;00m is_validation_enabled():\n\u001b[1;32m    115\u001b[0m     guide_trace\u001b[39m.\u001b[39mcompute_log_prob()\n\u001b[0;32m--> 116\u001b[0m     model_trace\u001b[39m.\u001b[39;49mcompute_log_prob()\n\u001b[1;32m    117\u001b[0m     \u001b[39mfor\u001b[39;00m site \u001b[39min\u001b[39;00m sites:\n\u001b[1;32m    118\u001b[0m         check_site_shape(site, max_plate_nesting\u001b[39m=\u001b[39m\u001b[39mfloat\u001b[39m(\u001b[39m\"\u001b[39m\u001b[39minf\u001b[39m\u001b[39m\"\u001b[39m))\n",
      "File \u001b[0;32m~/Library/r-miniconda-arm64/envs/basilica-env/lib/python3.9/site-packages/pyro/poutine/trace_struct.py:236\u001b[0m, in \u001b[0;36mTrace.compute_log_prob\u001b[0;34m(self, site_filter)\u001b[0m\n\u001b[1;32m    234\u001b[0m     _, exc_value, traceback \u001b[39m=\u001b[39m sys\u001b[39m.\u001b[39mexc_info()\n\u001b[1;32m    235\u001b[0m     shapes \u001b[39m=\u001b[39m \u001b[39mself\u001b[39m\u001b[39m.\u001b[39mformat_shapes(last_site\u001b[39m=\u001b[39msite[\u001b[39m\"\u001b[39m\u001b[39mname\u001b[39m\u001b[39m\"\u001b[39m])\n\u001b[0;32m--> 236\u001b[0m     \u001b[39mraise\u001b[39;00m \u001b[39mValueError\u001b[39;00m(\n\u001b[1;32m    237\u001b[0m         \u001b[39m\"\u001b[39m\u001b[39mError while computing log_prob at site \u001b[39m\u001b[39m'\u001b[39m\u001b[39m{}\u001b[39;00m\u001b[39m'\u001b[39m\u001b[39m:\u001b[39m\u001b[39m\\n\u001b[39;00m\u001b[39m{}\u001b[39;00m\u001b[39m\\n\u001b[39;00m\u001b[39m{}\u001b[39;00m\u001b[39m\"\u001b[39m\u001b[39m.\u001b[39mformat(\n\u001b[1;32m    238\u001b[0m             name, exc_value, shapes\n\u001b[1;32m    239\u001b[0m         )\n\u001b[1;32m    240\u001b[0m     )\u001b[39m.\u001b[39mwith_traceback(traceback) \u001b[39mfrom\u001b[39;00m \u001b[39me\u001b[39;00m\n\u001b[1;32m    241\u001b[0m site[\u001b[39m\"\u001b[39m\u001b[39munscaled_log_prob\u001b[39m\u001b[39m\"\u001b[39m] \u001b[39m=\u001b[39m log_p\n\u001b[1;32m    242\u001b[0m log_p \u001b[39m=\u001b[39m scale_and_mask(log_p, site[\u001b[39m\"\u001b[39m\u001b[39mscale\u001b[39m\u001b[39m\"\u001b[39m], site[\u001b[39m\"\u001b[39m\u001b[39mmask\u001b[39m\u001b[39m\"\u001b[39m])\n",
      "File \u001b[0;32m~/Library/r-miniconda-arm64/envs/basilica-env/lib/python3.9/site-packages/pyro/poutine/trace_struct.py:230\u001b[0m, in \u001b[0;36mTrace.compute_log_prob\u001b[0;34m(self, site_filter)\u001b[0m\n\u001b[1;32m    228\u001b[0m \u001b[39mif\u001b[39;00m \u001b[39m\"\u001b[39m\u001b[39mlog_prob\u001b[39m\u001b[39m\"\u001b[39m \u001b[39mnot\u001b[39;00m \u001b[39min\u001b[39;00m site:\n\u001b[1;32m    229\u001b[0m     \u001b[39mtry\u001b[39;00m:\n\u001b[0;32m--> 230\u001b[0m         log_p \u001b[39m=\u001b[39m site[\u001b[39m\"\u001b[39;49m\u001b[39mfn\u001b[39;49m\u001b[39m\"\u001b[39;49m]\u001b[39m.\u001b[39;49mlog_prob(\n\u001b[1;32m    231\u001b[0m             site[\u001b[39m\"\u001b[39;49m\u001b[39mvalue\u001b[39;49m\u001b[39m\"\u001b[39;49m], \u001b[39m*\u001b[39;49msite[\u001b[39m\"\u001b[39;49m\u001b[39margs\u001b[39;49m\u001b[39m\"\u001b[39;49m], \u001b[39m*\u001b[39;49m\u001b[39m*\u001b[39;49msite[\u001b[39m\"\u001b[39;49m\u001b[39mkwargs\u001b[39;49m\u001b[39m\"\u001b[39;49m]\n\u001b[1;32m    232\u001b[0m         )\n\u001b[1;32m    233\u001b[0m     \u001b[39mexcept\u001b[39;00m \u001b[39mValueError\u001b[39;00m \u001b[39mas\u001b[39;00m e:\n\u001b[1;32m    234\u001b[0m         _, exc_value, traceback \u001b[39m=\u001b[39m sys\u001b[39m.\u001b[39mexc_info()\n",
      "File \u001b[0;32m~/Library/r-miniconda-arm64/envs/basilica-env/lib/python3.9/site-packages/torch/distributions/dirichlet.py:71\u001b[0m, in \u001b[0;36mDirichlet.log_prob\u001b[0;34m(self, value)\u001b[0m\n\u001b[1;32m     69\u001b[0m \u001b[39mdef\u001b[39;00m \u001b[39mlog_prob\u001b[39m(\u001b[39mself\u001b[39m, value):\n\u001b[1;32m     70\u001b[0m     \u001b[39mif\u001b[39;00m \u001b[39mself\u001b[39m\u001b[39m.\u001b[39m_validate_args:\n\u001b[0;32m---> 71\u001b[0m         \u001b[39mself\u001b[39;49m\u001b[39m.\u001b[39;49m_validate_sample(value)\n\u001b[1;32m     72\u001b[0m     \u001b[39mreturn\u001b[39;00m ((torch\u001b[39m.\u001b[39mlog(value) \u001b[39m*\u001b[39m (\u001b[39mself\u001b[39m\u001b[39m.\u001b[39mconcentration \u001b[39m-\u001b[39m \u001b[39m1.0\u001b[39m))\u001b[39m.\u001b[39msum(\u001b[39m-\u001b[39m\u001b[39m1\u001b[39m) \u001b[39m+\u001b[39m\n\u001b[1;32m     73\u001b[0m             torch\u001b[39m.\u001b[39mlgamma(\u001b[39mself\u001b[39m\u001b[39m.\u001b[39mconcentration\u001b[39m.\u001b[39msum(\u001b[39m-\u001b[39m\u001b[39m1\u001b[39m)) \u001b[39m-\u001b[39m\n\u001b[1;32m     74\u001b[0m             torch\u001b[39m.\u001b[39mlgamma(\u001b[39mself\u001b[39m\u001b[39m.\u001b[39mconcentration)\u001b[39m.\u001b[39msum(\u001b[39m-\u001b[39m\u001b[39m1\u001b[39m))\n",
      "File \u001b[0;32m~/Library/r-miniconda-arm64/envs/basilica-env/lib/python3.9/site-packages/torch/distributions/distribution.py:282\u001b[0m, in \u001b[0;36mDistribution._validate_sample\u001b[0;34m(self, value)\u001b[0m\n\u001b[1;32m    280\u001b[0m \u001b[39mfor\u001b[39;00m i, j \u001b[39min\u001b[39;00m \u001b[39mzip\u001b[39m(\u001b[39mreversed\u001b[39m(actual_shape), \u001b[39mreversed\u001b[39m(expected_shape)):\n\u001b[1;32m    281\u001b[0m     \u001b[39mif\u001b[39;00m i \u001b[39m!=\u001b[39m \u001b[39m1\u001b[39m \u001b[39mand\u001b[39;00m j \u001b[39m!=\u001b[39m \u001b[39m1\u001b[39m \u001b[39mand\u001b[39;00m i \u001b[39m!=\u001b[39m j:\n\u001b[0;32m--> 282\u001b[0m         \u001b[39mraise\u001b[39;00m \u001b[39mValueError\u001b[39;00m(\u001b[39m'\u001b[39m\u001b[39mValue is not broadcastable with batch_shape+event_shape: \u001b[39m\u001b[39m{}\u001b[39;00m\u001b[39m vs \u001b[39m\u001b[39m{}\u001b[39;00m\u001b[39m.\u001b[39m\u001b[39m'\u001b[39m\u001b[39m.\u001b[39m\n\u001b[1;32m    283\u001b[0m                          \u001b[39mformat\u001b[39m(actual_shape, expected_shape))\n\u001b[1;32m    284\u001b[0m \u001b[39mtry\u001b[39;00m:\n\u001b[1;32m    285\u001b[0m     support \u001b[39m=\u001b[39m \u001b[39mself\u001b[39m\u001b[39m.\u001b[39msupport\n",
      "\u001b[0;31mValueError\u001b[0m: Error while computing log_prob at site 'obs':\nValue is not broadcastable with batch_shape+event_shape: torch.Size([150, 2, 6]) vs torch.Size([2, 150, 6]).\n    Trace Shapes:            \n     Param Sites:            \n    Sample Sites:            \n        beta dist       5 |  \n            value       5 |  \n         log_prob       5 |  \n     alpha_t dist   2   6 | 6\n            value   2   6 | 6\n         log_prob   2   6 |  \nlatent_class dist     150 |  \n            value     150 |  \n         log_prob     150 |  \n         obs dist   2 150 | 6\n            value 150   2 | 6"
     ]
    }
   ],
   "source": [
    "mixture = run.fit(\n",
    "    alpha=input, \n",
    "    lr=0.005, \n",
    "    optim_gamma=0.1,\n",
    "    n_steps=3000,\n",
    "    cluster=6, \n",
    "    hyperparameters={\"alpha_sigma\":.15, \"alpha_p_sigma\":1., \"alpha_p_conc0\":0.6, \n",
    "                     \"alpha_p_conc1\":0.6, \"alpha_rate\":1., \"pi_conc0\":0.5, \"alpha_conc\":100,\n",
    "                     \"scale_factor_alpha\":10000, \"scale_factor_centroid\":1000, \"scale_tau\":1},\n",
    "    store_parameters = True, \n",
    "    seed=[92],\n",
    "    nonparametric=True,\n",
    "    save_all_fits=True\n",
    "    )\n"
   ]
  },
  {
   "cell_type": "code",
   "execution_count": 39,
   "metadata": {},
   "outputs": [
    {
     "name": "stdout",
     "output_type": "stream",
     "text": [
      "     0_SBS1    0_SBS5      0_D1      0_D2      0_D3      0_D4    1_DBS4  \\\n",
      "0  0.486352  0.398079  0.031160  0.083478  0.000550  0.000381  0.206941   \n",
      "1  0.577721  0.312707  0.010427  0.014838  0.083686  0.000621  0.163690   \n",
      "2  0.441267  0.407970  0.031460  0.116463  0.001671  0.001169  0.035536   \n",
      "3  0.486492  0.397324  0.031097  0.084531  0.000309  0.000247  0.473130   \n",
      "4  0.484065  0.396769  0.031348  0.086922  0.000004  0.000893  0.487679   \n",
      "5  0.516588  0.375738  0.006624  0.012123  0.088059  0.000868  0.090922   \n",
      "\n",
      "       1_D1      1_D2      1_D3      1_P0          1_P1  \n",
      "0  0.608248  0.031189  0.143871  0.009751  2.630111e-37  \n",
      "1  0.553169  0.187159  0.094616  0.001367  1.600645e-37  \n",
      "2  0.272111  0.026165  0.566188  0.100000  8.732142e-38  \n",
      "3  0.384419  0.057587  0.084568  0.000296  2.041855e-36  \n",
      "4  0.394610  0.031018  0.086675  0.000017  2.619176e-35  \n",
      "5  0.612470  0.226478  0.068079  0.002051  1.033658e-37  \n"
     ]
    }
   ],
   "source": [
    "alpha_centr = mixture[0].params[\"alpha_prior\"]\n",
    "print(alpha_centr) "
   ]
  },
  {
   "cell_type": "code",
   "execution_count": 24,
   "metadata": {},
   "outputs": [
    {
     "name": "stdout",
     "output_type": "stream",
     "text": [
      "0.6116490576138774\n",
      "0.6188262630406547\n"
     ]
    }
   ],
   "source": [
    "print(sklearn.metrics.normalized_mutual_info_score(mixture[0].groups, g_sbs)) \n",
    "print(sklearn.metrics.normalized_mutual_info_score(mixture[0].groups, g_dbs)) "
   ]
  },
  {
   "cell_type": "code",
   "execution_count": null,
   "metadata": {},
   "outputs": [],
   "source": [
    "print(obj_sbs.params[\"scale_factor_centroid\"])\n",
    "print(obj_sbs.params[\"scale_factor_alpha\"]) "
   ]
  },
  {
   "cell_type": "code",
   "execution_count": null,
   "metadata": {},
   "outputs": [],
   "source": [
    "obj_sbs.params"
   ]
  },
  {
   "cell_type": "code",
   "execution_count": null,
   "metadata": {},
   "outputs": [],
   "source": [
    "obj_sbs.train_params[6][\"scale_factor_centroid\"]"
   ]
  },
  {
   "cell_type": "code",
   "execution_count": null,
   "metadata": {},
   "outputs": [],
   "source": [
    "obj_sbs.params[\"pi_conc0\"] "
   ]
  },
  {
   "cell_type": "code",
   "execution_count": null,
   "metadata": {},
   "outputs": [],
   "source": [
    "sns.scatterplot(x=range(len(obj_sbs.likelihoods)), y=obj_sbs.likelihoods) "
   ]
  },
  {
   "cell_type": "code",
   "execution_count": null,
   "metadata": {},
   "outputs": [],
   "source": [
    "# a / b = 500 \n",
    "a = 1\n",
    "b = 1/500\n",
    "a / b "
   ]
  },
  {
   "cell_type": "code",
   "execution_count": null,
   "metadata": {},
   "outputs": [],
   "source": [
    "sns.scatterplot(x=range(len(obj_sbs.losses)), y=obj_sbs.losses)"
   ]
  },
  {
   "cell_type": "code",
   "execution_count": null,
   "metadata": {},
   "outputs": [],
   "source": [
    "try: sns.scatterplot(x=range(len(obj_sbs.gradient_norms[\"scale_factor_centroid_param\"])), \n",
    "                     y=obj_sbs.gradient_norms[\"scale_factor_centroid_param\"]) \n",
    "except: print() "
   ]
  },
  {
   "cell_type": "code",
   "execution_count": null,
   "metadata": {},
   "outputs": [],
   "source": [
    "try: sns.scatterplot(x=range(len(obj_sbs.gradient_norms[\"scale_factor_alpha_param\"])), \n",
    "                     y=obj_sbs.gradient_norms[\"scale_factor_alpha_param\"]) \n",
    "except: print() "
   ]
  },
  {
   "cell_type": "code",
   "execution_count": null,
   "metadata": {},
   "outputs": [],
   "source": [
    "try: sns.scatterplot(x=range(len(obj_sbs.gradient_norms[\"alpha_prior_param\"])), y=obj_sbs.gradient_norms[\"alpha_prior_param\"]) \n",
    "except: print() "
   ]
  },
  {
   "cell_type": "code",
   "execution_count": null,
   "metadata": {},
   "outputs": [],
   "source": [
    "try: sns.scatterplot(x=range(len(obj_sbs.gradient_norms[\"alpha_prior_param\"])), y=obj_sbs.gradient_norms[\"alpha_prior_param\"]) \n",
    "except: print() "
   ]
  },
  {
   "cell_type": "code",
   "execution_count": null,
   "metadata": {},
   "outputs": [],
   "source": [
    "try: sns.scatterplot(x=range(len(obj_sbs.gradient_norms[\"pi_param\"])), y=obj_sbs.gradient_norms[\"pi_param\"]) \n",
    "except: print() "
   ]
  },
  {
   "cell_type": "code",
   "execution_count": null,
   "metadata": {},
   "outputs": [],
   "source": [
    "try: sns.scatterplot(x=range(len(obj_sbs.gradient_norms[\"pi_conc0_param\"])), y=obj_sbs.gradient_norms[\"pi_conc0_param\"]) \n",
    "except: print() "
   ]
  },
  {
   "cell_type": "code",
   "execution_count": null,
   "metadata": {},
   "outputs": [],
   "source": [
    "try: sns.scatterplot(x=range(len(obj_sbs.gradient_norms[\"alpha\"])), y=obj_sbs.gradient_norms[\"alpha\"]) \n",
    "except: print() "
   ]
  },
  {
   "cell_type": "code",
   "execution_count": null,
   "metadata": {},
   "outputs": [],
   "source": [
    "try: sns.scatterplot(x=range(len(obj_sbs.gradient_norms[\"beta_denovo\"])), y=obj_sbs.gradient_norms[\"beta_denovo\"])\n",
    "except: print()"
   ]
  },
  {
   "cell_type": "code",
   "execution_count": null,
   "metadata": {},
   "outputs": [],
   "source": [
    "pd.DataFrame(np.array(obj_sbs.init_params[\"alpha_prior_param\"]), columns=obj_sbs.params[\"alpha\"].columns).plot.bar(stacked=True, legend=False) "
   ]
  },
  {
   "cell_type": "code",
   "execution_count": null,
   "metadata": {},
   "outputs": [],
   "source": [
    "try: pd.DataFrame(np.array(obj_sbs.params[\"alpha_prior\"]), columns=obj_sbs.params[\"alpha_prior\"].columns).plot.bar(stacked=True, legend=False) \n",
    "except Exception as e: print() "
   ]
  },
  {
   "cell_type": "code",
   "execution_count": null,
   "metadata": {},
   "outputs": [],
   "source": [
    "try:\n",
    "    for gid in set(np.array(obj_sbs.groups)):\n",
    "        tmp = [i for i, v in enumerate(obj_sbs.groups) if v == gid]\n",
    "        # tmp = [i for i, v in enumerate(obj_sbs.groups) if (v == gid and i in idxs)]\n",
    "        if len(tmp) == 0: continue\n",
    "        pd.DataFrame(np.array(obj_sbs.params[\"alpha\"]), columns=obj_sbs.params[\"alpha\"].columns, \n",
    "                     index=obj_sbs.params[\"alpha\"].index).iloc[tmp].plot.bar(stacked=True)\n",
    "except Exception as e:\n",
    "    print(e)\n",
    "    obj_sbs.alpha.plot.bar(stacked=True, legend=False) \n"
   ]
  },
  {
   "cell_type": "code",
   "execution_count": null,
   "metadata": {},
   "outputs": [],
   "source": [
    "try:\n",
    "    for sbs in pd.concat((obj_sbs.params[\"beta_f\"], obj_sbs.params[\"beta_d\"])).index:\n",
    "        pd.concat((obj_sbs.params[\"beta_f\"], obj_sbs.params[\"beta_d\"])).loc[[sbs]].transpose().plot.bar()\n",
    "except Exception as e:\n",
    "    print(e)"
   ]
  }
 ],
 "metadata": {
  "kernelspec": {
   "display_name": "Python 3 (ipykernel)",
   "language": "python",
   "name": "python3"
  },
  "language_info": {
   "codemirror_mode": {
    "name": "ipython",
    "version": 3
   },
   "file_extension": ".py",
   "mimetype": "text/x-python",
   "name": "python",
   "nbconvert_exporter": "python",
   "pygments_lexer": "ipython3",
   "version": "3.9.16"
  }
 },
 "nbformat": 4,
 "nbformat_minor": 4
}
