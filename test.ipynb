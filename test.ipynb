{
 "cells": [
  {
   "cell_type": "code",
   "execution_count": 1,
   "metadata": {
    "tags": []
   },
   "outputs": [
    {
     "name": "stderr",
     "output_type": "stream",
     "text": [
      "/Users/elenab/Library/r-miniconda-arm64/envs/basilica-env/lib/python3.9/site-packages/tqdm/auto.py:21: TqdmWarning: IProgress not found. Please update jupyter and ipywidgets. See https://ipywidgets.readthedocs.io/en/stable/user_install.html\n",
      "  from .autonotebook import tqdm as notebook_tqdm\n"
     ]
    }
   ],
   "source": [
    "import pandas as pd\n",
    "import pybasilica.run as run\n",
    "\n",
    "%load_ext autoreload\n",
    "%autoreload 2"
   ]
  },
  {
   "cell_type": "code",
   "execution_count": 2,
   "metadata": {
    "tags": []
   },
   "outputs": [],
   "source": [
    "m_path = \"/Users/elenab/Library/CloudStorage/GoogleDrive-ele.buscaroli@gmail.com/My Drive/work/signatures/data_sigphylo.csv\"\n",
    "m = pd.read_csv(m_path)\n",
    "ref_path = \"/Users/elenab/GitHub/pybasilicah/pybasilica/data/cosmic/cosmic_catalogue.csv\"\n",
    "cosmic = pd.read_csv(ref_path, index_col=0)\n"
   ]
  },
  {
   "cell_type": "code",
   "execution_count": 3,
   "metadata": {},
   "outputs": [
    {
     "data": {
      "text/html": [
       "<div>\n",
       "<style scoped>\n",
       "    .dataframe tbody tr th:only-of-type {\n",
       "        vertical-align: middle;\n",
       "    }\n",
       "\n",
       "    .dataframe tbody tr th {\n",
       "        vertical-align: top;\n",
       "    }\n",
       "\n",
       "    .dataframe thead th {\n",
       "        text-align: right;\n",
       "    }\n",
       "</style>\n",
       "<table border=\"1\" class=\"dataframe\">\n",
       "  <thead>\n",
       "    <tr style=\"text-align: right;\">\n",
       "      <th></th>\n",
       "      <th>A[C&gt;A]A</th>\n",
       "      <th>A[C&gt;A]C</th>\n",
       "      <th>A[C&gt;A]G</th>\n",
       "      <th>A[C&gt;A]T</th>\n",
       "      <th>A[C&gt;G]A</th>\n",
       "      <th>A[C&gt;G]C</th>\n",
       "      <th>A[C&gt;G]G</th>\n",
       "      <th>A[C&gt;G]T</th>\n",
       "      <th>A[C&gt;T]A</th>\n",
       "      <th>A[C&gt;T]C</th>\n",
       "      <th>...</th>\n",
       "      <th>T[T&gt;A]G</th>\n",
       "      <th>T[T&gt;A]T</th>\n",
       "      <th>T[T&gt;C]A</th>\n",
       "      <th>T[T&gt;C]C</th>\n",
       "      <th>T[T&gt;C]G</th>\n",
       "      <th>T[T&gt;C]T</th>\n",
       "      <th>T[T&gt;G]A</th>\n",
       "      <th>T[T&gt;G]C</th>\n",
       "      <th>T[T&gt;G]G</th>\n",
       "      <th>T[T&gt;G]T</th>\n",
       "    </tr>\n",
       "  </thead>\n",
       "  <tbody>\n",
       "    <tr>\n",
       "      <th>0</th>\n",
       "      <td>11</td>\n",
       "      <td>10</td>\n",
       "      <td>4</td>\n",
       "      <td>14</td>\n",
       "      <td>19</td>\n",
       "      <td>5</td>\n",
       "      <td>4</td>\n",
       "      <td>5</td>\n",
       "      <td>54</td>\n",
       "      <td>24</td>\n",
       "      <td>...</td>\n",
       "      <td>2</td>\n",
       "      <td>17</td>\n",
       "      <td>10</td>\n",
       "      <td>3</td>\n",
       "      <td>10</td>\n",
       "      <td>20</td>\n",
       "      <td>6</td>\n",
       "      <td>3</td>\n",
       "      <td>4</td>\n",
       "      <td>8</td>\n",
       "    </tr>\n",
       "    <tr>\n",
       "      <th>1</th>\n",
       "      <td>7</td>\n",
       "      <td>6</td>\n",
       "      <td>1</td>\n",
       "      <td>10</td>\n",
       "      <td>6</td>\n",
       "      <td>4</td>\n",
       "      <td>1</td>\n",
       "      <td>2</td>\n",
       "      <td>9</td>\n",
       "      <td>5</td>\n",
       "      <td>...</td>\n",
       "      <td>0</td>\n",
       "      <td>9</td>\n",
       "      <td>4</td>\n",
       "      <td>3</td>\n",
       "      <td>4</td>\n",
       "      <td>9</td>\n",
       "      <td>2</td>\n",
       "      <td>2</td>\n",
       "      <td>2</td>\n",
       "      <td>7</td>\n",
       "    </tr>\n",
       "    <tr>\n",
       "      <th>2</th>\n",
       "      <td>357</td>\n",
       "      <td>16</td>\n",
       "      <td>1</td>\n",
       "      <td>23</td>\n",
       "      <td>14</td>\n",
       "      <td>5</td>\n",
       "      <td>1</td>\n",
       "      <td>10</td>\n",
       "      <td>14</td>\n",
       "      <td>4</td>\n",
       "      <td>...</td>\n",
       "      <td>17</td>\n",
       "      <td>20</td>\n",
       "      <td>4</td>\n",
       "      <td>3</td>\n",
       "      <td>3</td>\n",
       "      <td>12</td>\n",
       "      <td>4</td>\n",
       "      <td>1</td>\n",
       "      <td>2</td>\n",
       "      <td>6</td>\n",
       "    </tr>\n",
       "    <tr>\n",
       "      <th>3</th>\n",
       "      <td>402</td>\n",
       "      <td>27</td>\n",
       "      <td>3</td>\n",
       "      <td>44</td>\n",
       "      <td>12</td>\n",
       "      <td>1</td>\n",
       "      <td>2</td>\n",
       "      <td>16</td>\n",
       "      <td>17</td>\n",
       "      <td>4</td>\n",
       "      <td>...</td>\n",
       "      <td>5</td>\n",
       "      <td>11</td>\n",
       "      <td>6</td>\n",
       "      <td>7</td>\n",
       "      <td>2</td>\n",
       "      <td>7</td>\n",
       "      <td>3</td>\n",
       "      <td>0</td>\n",
       "      <td>4</td>\n",
       "      <td>7</td>\n",
       "    </tr>\n",
       "    <tr>\n",
       "      <th>4</th>\n",
       "      <td>20</td>\n",
       "      <td>10</td>\n",
       "      <td>2</td>\n",
       "      <td>10</td>\n",
       "      <td>2</td>\n",
       "      <td>1</td>\n",
       "      <td>5</td>\n",
       "      <td>2</td>\n",
       "      <td>12</td>\n",
       "      <td>7</td>\n",
       "      <td>...</td>\n",
       "      <td>10</td>\n",
       "      <td>25</td>\n",
       "      <td>9</td>\n",
       "      <td>4</td>\n",
       "      <td>3</td>\n",
       "      <td>10</td>\n",
       "      <td>2</td>\n",
       "      <td>3</td>\n",
       "      <td>7</td>\n",
       "      <td>7</td>\n",
       "    </tr>\n",
       "  </tbody>\n",
       "</table>\n",
       "<p>5 rows × 96 columns</p>\n",
       "</div>"
      ],
      "text/plain": [
       "   A[C>A]A  A[C>A]C  A[C>A]G  A[C>A]T  A[C>G]A  A[C>G]C  A[C>G]G  A[C>G]T  \\\n",
       "0       11       10        4       14       19        5        4        5   \n",
       "1        7        6        1       10        6        4        1        2   \n",
       "2      357       16        1       23       14        5        1       10   \n",
       "3      402       27        3       44       12        1        2       16   \n",
       "4       20       10        2       10        2        1        5        2   \n",
       "\n",
       "   A[C>T]A  A[C>T]C  ...  T[T>A]G  T[T>A]T  T[T>C]A  T[T>C]C  T[T>C]G  \\\n",
       "0       54       24  ...        2       17       10        3       10   \n",
       "1        9        5  ...        0        9        4        3        4   \n",
       "2       14        4  ...       17       20        4        3        3   \n",
       "3       17        4  ...        5       11        6        7        2   \n",
       "4       12        7  ...       10       25        9        4        3   \n",
       "\n",
       "   T[T>C]T  T[T>G]A  T[T>G]C  T[T>G]G  T[T>G]T  \n",
       "0       20        6        3        4        8  \n",
       "1        9        2        2        2        7  \n",
       "2       12        4        1        2        6  \n",
       "3        7        3        0        4        7  \n",
       "4       10        2        3        7        7  \n",
       "\n",
       "[5 rows x 96 columns]"
      ]
     },
     "execution_count": 3,
     "metadata": {},
     "output_type": "execute_result"
    }
   ],
   "source": [
    "m "
   ]
  },
  {
   "cell_type": "code",
   "execution_count": null,
   "metadata": {},
   "outputs": [],
   "source": [
    "# import torch\n",
    "# sig1 = torch.tensor(cosmic.values)[0]\n",
    "# sig2 = torch.tensor(cosmic.values)[29]\n",
    "\n",
    "# sig1[sig1==0] = 1e-7\n",
    "# # print(torch.log(sig1))\n",
    "# sig2[sig2==0] = 1e-7\n",
    "# # print(torch.log(sig2))\n",
    "# torch.nn.functional.kl_div(torch.log(sig1), torch.log(sig2), log_target=True, reduction=\"batchmean\")\n"
   ]
  },
  {
   "cell_type": "code",
   "execution_count": 4,
   "metadata": {},
   "outputs": [
    {
     "data": {
      "text/plain": [
       "(5, 96)"
      ]
     },
     "execution_count": 4,
     "metadata": {},
     "output_type": "execute_result"
    }
   ],
   "source": [
    "m.shape"
   ]
  },
  {
   "cell_type": "code",
   "execution_count": 18,
   "metadata": {
    "tags": []
   },
   "outputs": [
    {
     "name": "stdout",
     "output_type": "stream",
     "text": [
      "Running with seed 1\n",
      "\n",
      "Running with seed 5\n",
      "\n",
      "Running with seed 17\n",
      "\n",
      "Running with seed 1\n",
      "\n",
      "Running with seed 5\n",
      "\n",
      "Running with seed 17\n",
      "\n"
     ]
    }
   ],
   "source": [
    "one = run.fit(\n",
    "    x=m, \n",
    "    k_list=[1,2], \n",
    "    lr=0.05, \n",
    "    n_steps=500, \n",
    "    enumer=\"parallel\", \n",
    "    cluster=None, \n",
    "    # groups=[0,1,1,0,1], \n",
    "    beta_fixed=cosmic.iloc[:2,:], \n",
    "    hyperparameters={\"alpha_var\":10000},\n",
    "    compile_model = False, \n",
    "    CUDA = False, \n",
    "    enforce_sparsity = False, \n",
    "    regularizer = \"cosine\", \n",
    "    reg_weight = 1., \n",
    "    reg_bic = True, \n",
    "    store_parameters=False, \n",
    "    verbose = False, \n",
    "    stage = \"random_noise\", \n",
    "    save_runs_seed=True,\n",
    "    seed=[1,5,17],\n",
    "    initializ_pars_fit = True,\n",
    "    initializ_seed = False,\n",
    "    new_hier=True\n",
    "    )\n",
    "\n",
    "# 5 = n_samples, 1,2 + 2 = n_sigs, 2 = n_groups"
   ]
  },
  {
   "cell_type": "code",
   "execution_count": 19,
   "metadata": {},
   "outputs": [],
   "source": [
    "obj = one[0]"
   ]
  },
  {
   "cell_type": "code",
   "execution_count": 20,
   "metadata": {},
   "outputs": [
    {
     "data": {
      "text/plain": [
       "[0, 0, 0, 0, 0]"
      ]
     },
     "execution_count": 20,
     "metadata": {},
     "output_type": "execute_result"
    }
   ],
   "source": [
    "obj.groups "
   ]
  },
  {
   "cell_type": "code",
   "execution_count": 24,
   "metadata": {},
   "outputs": [
    {
     "data": {
      "text/html": [
       "<div>\n",
       "<style scoped>\n",
       "    .dataframe tbody tr th:only-of-type {\n",
       "        vertical-align: middle;\n",
       "    }\n",
       "\n",
       "    .dataframe tbody tr th {\n",
       "        vertical-align: top;\n",
       "    }\n",
       "\n",
       "    .dataframe thead th {\n",
       "        text-align: right;\n",
       "    }\n",
       "</style>\n",
       "<table border=\"1\" class=\"dataframe\">\n",
       "  <thead>\n",
       "    <tr style=\"text-align: right;\">\n",
       "      <th></th>\n",
       "      <th>SBS1</th>\n",
       "      <th>SBS2</th>\n",
       "      <th>D1</th>\n",
       "      <th>D2</th>\n",
       "    </tr>\n",
       "  </thead>\n",
       "  <tbody>\n",
       "    <tr>\n",
       "      <th>0</th>\n",
       "      <td>0.286269</td>\n",
       "      <td>0.093143</td>\n",
       "      <td>0.089573</td>\n",
       "      <td>0.531015</td>\n",
       "    </tr>\n",
       "    <tr>\n",
       "      <th>1</th>\n",
       "      <td>0.313627</td>\n",
       "      <td>0.128853</td>\n",
       "      <td>0.150125</td>\n",
       "      <td>0.407396</td>\n",
       "    </tr>\n",
       "    <tr>\n",
       "      <th>2</th>\n",
       "      <td>0.087582</td>\n",
       "      <td>0.082358</td>\n",
       "      <td>0.727499</td>\n",
       "      <td>0.102560</td>\n",
       "    </tr>\n",
       "    <tr>\n",
       "      <th>3</th>\n",
       "      <td>0.084396</td>\n",
       "      <td>0.079610</td>\n",
       "      <td>0.746036</td>\n",
       "      <td>0.089957</td>\n",
       "    </tr>\n",
       "    <tr>\n",
       "      <th>4</th>\n",
       "      <td>0.213773</td>\n",
       "      <td>0.104424</td>\n",
       "      <td>0.184651</td>\n",
       "      <td>0.497152</td>\n",
       "    </tr>\n",
       "  </tbody>\n",
       "</table>\n",
       "</div>"
      ],
      "text/plain": [
       "       SBS1      SBS2        D1        D2\n",
       "0  0.286269  0.093143  0.089573  0.531015\n",
       "1  0.313627  0.128853  0.150125  0.407396\n",
       "2  0.087582  0.082358  0.727499  0.102560\n",
       "3  0.084396  0.079610  0.746036  0.089957\n",
       "4  0.213773  0.104424  0.184651  0.497152"
      ]
     },
     "execution_count": 24,
     "metadata": {},
     "output_type": "execute_result"
    }
   ],
   "source": [
    "obj.alpha"
   ]
  },
  {
   "cell_type": "code",
   "execution_count": 48,
   "metadata": {},
   "outputs": [
    {
     "data": {
      "text/plain": [
       "{'alpha_var': 10000,\n",
       " 'alpha_prior_var': 1,\n",
       " 'exp_rate': 10,\n",
       " 'beta_var': 1,\n",
       " 'eps_var': 10}"
      ]
     },
     "execution_count": 48,
     "metadata": {},
     "output_type": "execute_result"
    }
   ],
   "source": [
    "obj.hyperparameters "
   ]
  },
  {
   "cell_type": "code",
   "execution_count": 49,
   "metadata": {},
   "outputs": [
    {
     "data": {
      "text/plain": [
       "<seaborn.axisgrid.FacetGrid at 0x17b9b7e50>"
      ]
     },
     "execution_count": 49,
     "metadata": {},
     "output_type": "execute_result"
    },
    {
     "data": {
      "image/png": "[encoded data removed]",
      "text/plain": [
       "<Figure size 500x500 with 1 Axes>"
      ]
     },
     "metadata": {},
     "output_type": "display_data"
    },
    {
     "data": {
      "image/png": "[encoded data removed]",
      "text/plain": [
       "<Figure size 500x500 with 1 Axes>"
      ]
     },
     "metadata": {},
     "output_type": "display_data"
    },
    {
     "data": {
      "image/png": "[encoded data removed]",
      "text/plain": [
       "<Figure size 500x500 with 1 Axes>"
      ]
     },
     "metadata": {},
     "output_type": "display_data"
    }
   ],
   "source": [
    "from pyro import distributions as distr\n",
    "import seaborn as sns\n",
    "\n",
    "sns.displot(distr.HalfNormal(obj.hyperparameters[\"alpha_var\"]).sample_n(1000).tolist())\n",
    "sns.displot(distr.Exponential(obj.hyperparameters[\"exp_rate\"]).sample_n(1000).tolist()) \n",
    "sns.displot(distr.Normal(1, 0.5).sample_n(1000).tolist())"
   ]
  },
  {
   "cell_type": "code",
   "execution_count": null,
   "metadata": {},
   "outputs": [],
   "source": [
    "x2 = one.epsilon.astype(int)"
   ]
  },
  {
   "cell_type": "code",
   "execution_count": null,
   "metadata": {},
   "outputs": [],
   "source": [
    "two = run.fit(\n",
    "    x=x2, \n",
    "    k_list=[1,2,3,4,5], \n",
    "    lr=0.05, \n",
    "    n_steps=500, \n",
    "    enumer=False, \n",
    "    cluster=None, \n",
    "    groups=None, \n",
    "    beta_fixed=None, \n",
    "    compile_model = False, \n",
    "    CUDA = False, \n",
    "    enforce_sparsity = False, \n",
    "    regularizer = \"cosine\", \n",
    "    reg_weight = 1, \n",
    "    reg_bic = False, \n",
    "    store_parameters=False, \n",
    "    verbose=False, \n",
    "    stage = \"two\"\n",
    "    )"
   ]
  },
  {
   "cell_type": "code",
   "execution_count": null,
   "metadata": {},
   "outputs": [],
   "source": [
    "two.alpha"
   ]
  },
  {
   "cell_type": "code",
   "execution_count": null,
   "metadata": {},
   "outputs": [],
   "source": [
    "import torch\n",
    "import numpy as np\n",
    "\n",
    "m1 = torch.tensor(m.values).float()\n",
    "alpha1 = torch.tensor(one.alpha.values).float()\n",
    "a1 = torch.matmul(torch.diag(torch.sum(m1, axis=1)), alpha1)\n",
    "\n",
    "m2 = torch.tensor(x2.values).float()\n",
    "alpha2 = torch.tensor(two.alpha.values).float()\n",
    "a2 = torch.matmul(torch.diag(torch.sum(m2, axis=1)), alpha2)\n",
    "\n",
    "b1 = torch.sum(a1, 1).unsqueeze(-1)\n",
    "b2 = torch.sum(a2, 1).unsqueeze(-1)\n",
    "b3 = b1 + b2\n",
    "\n",
    "alpha1 = a1 / b3\n",
    "alpha2 = a2 / b3"
   ]
  },
  {
   "cell_type": "code",
   "execution_count": null,
   "metadata": {},
   "outputs": [],
   "source": [
    "sample_names = list(one.alpha.index)\n",
    "fixed_names = list(one.alpha.columns)\n",
    "denovo_names = list(two.alpha.columns)\n",
    "alpha1 = pd.DataFrame(np.array(alpha1), index=sample_names, columns=fixed_names)\n",
    "alpha2 = pd.DataFrame(np.array(alpha2), index=sample_names, columns=denovo_names)\n",
    "alpha = pd.concat([alpha1, alpha2], axis=1)"
   ]
  },
  {
   "cell_type": "code",
   "execution_count": null,
   "metadata": {},
   "outputs": [],
   "source": [
    "alpha"
   ]
  },
  {
   "cell_type": "code",
   "execution_count": null,
   "metadata": {},
   "outputs": [],
   "source": [
    "torch.sum(torch.tensor(alpha.values).float(), 1).unsqueeze(-1)"
   ]
  }
 ],
 "metadata": {
  "kernelspec": {
   "display_name": "Python 3 (ipykernel)",
   "language": "python",
   "name": "python3"
  },
  "language_info": {
   "codemirror_mode": {
    "name": "ipython",
    "version": 3
   },
   "file_extension": ".py",
   "mimetype": "text/x-python",
   "name": "python",
   "nbconvert_exporter": "python",
   "pygments_lexer": "ipython3",
   "version": "3.9.16"
  }
 },
 "nbformat": 4,
 "nbformat_minor": 4
}
