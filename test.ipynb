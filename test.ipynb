{
 "cells": [
  {
   "cell_type": "code",
   "execution_count": 1,
   "metadata": {
    "tags": []
   },
   "outputs": [
    {
     "name": "stderr",
     "output_type": "stream",
     "text": [
      "/Users/elenab/Library/r-miniconda-arm64/envs/basilica-env/lib/python3.9/site-packages/tqdm/auto.py:21: TqdmWarning: IProgress not found. Please update jupyter and ipywidgets. See https://ipywidgets.readthedocs.io/en/stable/user_install.html\n",
      "  from .autonotebook import tqdm as notebook_tqdm\n"
     ]
    }
   ],
   "source": [
    "import pandas as pd\n",
    "import pybasilica.run as run\n",
    "\n",
    "%load_ext autoreload\n",
    "%autoreload 2"
   ]
  },
  {
   "cell_type": "code",
   "execution_count": 2,
   "metadata": {
    "tags": []
   },
   "outputs": [],
   "source": [
    "m_path = \"/Users/elenab/Library/CloudStorage/GoogleDrive-ele.buscaroli@gmail.com/My Drive/work/signatures/data_sigphylo.csv\"\n",
    "m = pd.read_csv(m_path)\n",
    "ref_path = \"/Users/elenab/GitHub/pybasilicah/pybasilica/data/cosmic/cosmic_catalogue.csv\"\n",
    "cosmic = pd.read_csv(ref_path, index_col=0)\n"
   ]
  },
  {
   "cell_type": "code",
   "execution_count": null,
   "metadata": {},
   "outputs": [],
   "source": [
    "m "
   ]
  },
  {
   "cell_type": "code",
   "execution_count": null,
   "metadata": {},
   "outputs": [],
   "source": [
    "# import torch\n",
    "# sig1 = torch.tensor(cosmic.values)[0]\n",
    "# sig2 = torch.tensor(cosmic.values)[29]\n",
    "\n",
    "# sig1[sig1==0] = 1e-7\n",
    "# # print(torch.log(sig1))\n",
    "# sig2[sig2==0] = 1e-7\n",
    "# # print(torch.log(sig2))\n",
    "# torch.nn.functional.kl_div(torch.log(sig1), torch.log(sig2), log_target=True, reduction=\"batchmean\")\n"
   ]
  },
  {
   "cell_type": "code",
   "execution_count": null,
   "metadata": {},
   "outputs": [],
   "source": [
    "m.shape "
   ]
  },
  {
   "cell_type": "code",
   "execution_count": 86,
   "metadata": {
    "tags": []
   },
   "outputs": [
    {
     "name": "stdout",
     "output_type": "stream",
     "text": [
      "Running model with 2 signatures, 2 groups and 17 seed\n",
      "\n",
      "N parameters 222\n"
     ]
    }
   ],
   "source": [
    "one = run.fit(\n",
    "    x=m, \n",
    "    k_list=[2], \n",
    "    lr=0.005, \n",
    "    n_steps=500, \n",
    "    enumer=\"parallel\", \n",
    "    cluster=[2], \n",
    "    # groups=[0,1,1,0,1], \n",
    "    beta_fixed=cosmic.iloc[:2,:], \n",
    "    hyperparameters={\"alpha_var\":10000},\n",
    "    compile_model = False, \n",
    "    CUDA = False, \n",
    "    enforce_sparsity = False, \n",
    "    regularizer = \"cosine\", \n",
    "    reg_weight = 0., \n",
    "    reg_bic = True, \n",
    "    store_parameters=False, \n",
    "    verbose = False, \n",
    "    stage = \"\", \n",
    "    save_runs_seed=True,\n",
    "    seed=[17],\n",
    "    initializ_pars_fit = True,\n",
    "    initializ_seed = False,\n",
    "    new_hier=True, \n",
    "    nonparametric=True\n",
    "    )\n",
    "\n",
    "# 5 = n_samples, 1,2 + 2 = n_sigs, 2 = n_groups"
   ]
  },
  {
   "cell_type": "code",
   "execution_count": 87,
   "metadata": {},
   "outputs": [],
   "source": [
    "obj = one[0]"
   ]
  },
  {
   "cell_type": "code",
   "execution_count": 79,
   "metadata": {},
   "outputs": [
    {
     "data": {
      "text/plain": [
       "{'beta_denovo': [24441.281027855865, 24448.100053685597],\n",
       " 'alpha_noise_param': [8810.827997747774, 8755.84944424096],\n",
       " 'alpha_t_param': [184262.37678038402, 183218.88455476597],\n",
       " 'pi_param': [2.336303235895123e-11, 0.0]}"
      ]
     },
     "execution_count": 79,
     "metadata": {},
     "output_type": "execute_result"
    }
   ],
   "source": [
    "obj.gradient_norms "
   ]
  },
  {
   "cell_type": "code",
   "execution_count": 85,
   "metadata": {},
   "outputs": [
    {
     "data": {
      "text/plain": [
       "[0.828762158229, 0.17123784177100002]"
      ]
     },
     "execution_count": 85,
     "metadata": {},
     "output_type": "execute_result"
    }
   ],
   "source": [
    "obj.pi "
   ]
  },
  {
   "cell_type": "code",
   "execution_count": 88,
   "metadata": {},
   "outputs": [
    {
     "data": {
      "text/plain": [
       "[0.7742365739171714, 0.22576342608282862]"
      ]
     },
     "execution_count": 88,
     "metadata": {},
     "output_type": "execute_result"
    }
   ],
   "source": [
    "obj.pi"
   ]
  },
  {
   "cell_type": "code",
   "execution_count": 43,
   "metadata": {},
   "outputs": [
    {
     "data": {
      "text/html": [
       "<div>\n",
       "<style scoped>\n",
       "    .dataframe tbody tr th:only-of-type {\n",
       "        vertical-align: middle;\n",
       "    }\n",
       "\n",
       "    .dataframe tbody tr th {\n",
       "        vertical-align: top;\n",
       "    }\n",
       "\n",
       "    .dataframe thead th {\n",
       "        text-align: right;\n",
       "    }\n",
       "</style>\n",
       "<table border=\"1\" class=\"dataframe\">\n",
       "  <thead>\n",
       "    <tr style=\"text-align: right;\">\n",
       "      <th></th>\n",
       "      <th>0</th>\n",
       "      <th>1</th>\n",
       "    </tr>\n",
       "  </thead>\n",
       "  <tbody>\n",
       "    <tr>\n",
       "      <th>0</th>\n",
       "      <td>3.729836e-15</td>\n",
       "      <td>1.0</td>\n",
       "    </tr>\n",
       "    <tr>\n",
       "      <th>1</th>\n",
       "      <td>7.117308e-20</td>\n",
       "      <td>1.0</td>\n",
       "    </tr>\n",
       "    <tr>\n",
       "      <th>2</th>\n",
       "      <td>1.258846e-19</td>\n",
       "      <td>1.0</td>\n",
       "    </tr>\n",
       "    <tr>\n",
       "      <th>3</th>\n",
       "      <td>8.592422e-19</td>\n",
       "      <td>1.0</td>\n",
       "    </tr>\n",
       "    <tr>\n",
       "      <th>4</th>\n",
       "      <td>5.808603e-19</td>\n",
       "      <td>1.0</td>\n",
       "    </tr>\n",
       "  </tbody>\n",
       "</table>\n",
       "</div>"
      ],
      "text/plain": [
       "              0    1\n",
       "0  3.729836e-15  1.0\n",
       "1  7.117308e-20  1.0\n",
       "2  1.258846e-19  1.0\n",
       "3  8.592422e-19  1.0\n",
       "4  5.808603e-19  1.0"
      ]
     },
     "execution_count": 43,
     "metadata": {},
     "output_type": "execute_result"
    }
   ],
   "source": [
    "obj.post_probs"
   ]
  },
  {
   "cell_type": "code",
   "execution_count": 35,
   "metadata": {},
   "outputs": [],
   "source": [
    "import torch"
   ]
  },
  {
   "cell_type": "code",
   "execution_count": 36,
   "metadata": {},
   "outputs": [
    {
     "data": {
      "text/plain": [
       "False"
      ]
     },
     "execution_count": 36,
     "metadata": {},
     "output_type": "execute_result"
    }
   ],
   "source": [
    "isinstance(obj.pi, torch.Tensor)"
   ]
  },
  {
   "cell_type": "code",
   "execution_count": 22,
   "metadata": {},
   "outputs": [
    {
     "data": {
      "text/html": [
       "<div>\n",
       "<style scoped>\n",
       "    .dataframe tbody tr th:only-of-type {\n",
       "        vertical-align: middle;\n",
       "    }\n",
       "\n",
       "    .dataframe tbody tr th {\n",
       "        vertical-align: top;\n",
       "    }\n",
       "\n",
       "    .dataframe thead th {\n",
       "        text-align: right;\n",
       "    }\n",
       "</style>\n",
       "<table border=\"1\" class=\"dataframe\">\n",
       "  <thead>\n",
       "    <tr style=\"text-align: right;\">\n",
       "      <th></th>\n",
       "      <th>0</th>\n",
       "      <th>1</th>\n",
       "    </tr>\n",
       "  </thead>\n",
       "  <tbody>\n",
       "    <tr>\n",
       "      <th>0</th>\n",
       "      <td>1.0</td>\n",
       "      <td>0.000000e+00</td>\n",
       "    </tr>\n",
       "    <tr>\n",
       "      <th>1</th>\n",
       "      <td>1.0</td>\n",
       "      <td>1.295304e-33</td>\n",
       "    </tr>\n",
       "    <tr>\n",
       "      <th>2</th>\n",
       "      <td>1.0</td>\n",
       "      <td>0.000000e+00</td>\n",
       "    </tr>\n",
       "    <tr>\n",
       "      <th>3</th>\n",
       "      <td>1.0</td>\n",
       "      <td>0.000000e+00</td>\n",
       "    </tr>\n",
       "    <tr>\n",
       "      <th>4</th>\n",
       "      <td>1.0</td>\n",
       "      <td>5.401244e-32</td>\n",
       "    </tr>\n",
       "  </tbody>\n",
       "</table>\n",
       "</div>"
      ],
      "text/plain": [
       "     0             1\n",
       "0  1.0  0.000000e+00\n",
       "1  1.0  1.295304e-33\n",
       "2  1.0  0.000000e+00\n",
       "3  1.0  0.000000e+00\n",
       "4  1.0  5.401244e-32"
      ]
     },
     "execution_count": 22,
     "metadata": {},
     "output_type": "execute_result"
    }
   ],
   "source": [
    "obj.post_probs"
   ]
  },
  {
   "cell_type": "code",
   "execution_count": 21,
   "metadata": {},
   "outputs": [
    {
     "data": {
      "text/plain": [
       "[0, 0, 0, 0, 0]"
      ]
     },
     "execution_count": 21,
     "metadata": {},
     "output_type": "execute_result"
    }
   ],
   "source": [
    "obj.groups "
   ]
  },
  {
   "cell_type": "code",
   "execution_count": 70,
   "metadata": {},
   "outputs": [
    {
     "data": {
      "text/html": [
       "<div>\n",
       "<style scoped>\n",
       "    .dataframe tbody tr th:only-of-type {\n",
       "        vertical-align: middle;\n",
       "    }\n",
       "\n",
       "    .dataframe tbody tr th {\n",
       "        vertical-align: top;\n",
       "    }\n",
       "\n",
       "    .dataframe thead th {\n",
       "        text-align: right;\n",
       "    }\n",
       "</style>\n",
       "<table border=\"1\" class=\"dataframe\">\n",
       "  <thead>\n",
       "    <tr style=\"text-align: right;\">\n",
       "      <th></th>\n",
       "      <th>SBS1</th>\n",
       "      <th>SBS2</th>\n",
       "      <th>D1</th>\n",
       "      <th>D2</th>\n",
       "    </tr>\n",
       "  </thead>\n",
       "  <tbody>\n",
       "    <tr>\n",
       "      <th>0</th>\n",
       "      <td>0.264607</td>\n",
       "      <td>0.030306</td>\n",
       "      <td>0.682469</td>\n",
       "      <td>0.022618</td>\n",
       "    </tr>\n",
       "    <tr>\n",
       "      <th>1</th>\n",
       "      <td>0.256053</td>\n",
       "      <td>0.061681</td>\n",
       "      <td>0.589520</td>\n",
       "      <td>0.092747</td>\n",
       "    </tr>\n",
       "    <tr>\n",
       "      <th>2</th>\n",
       "      <td>0.023191</td>\n",
       "      <td>0.013614</td>\n",
       "      <td>0.065750</td>\n",
       "      <td>0.897444</td>\n",
       "    </tr>\n",
       "    <tr>\n",
       "      <th>3</th>\n",
       "      <td>0.018792</td>\n",
       "      <td>0.010357</td>\n",
       "      <td>0.037346</td>\n",
       "      <td>0.933505</td>\n",
       "    </tr>\n",
       "    <tr>\n",
       "      <th>4</th>\n",
       "      <td>0.149267</td>\n",
       "      <td>0.040111</td>\n",
       "      <td>0.670163</td>\n",
       "      <td>0.140459</td>\n",
       "    </tr>\n",
       "  </tbody>\n",
       "</table>\n",
       "</div>"
      ],
      "text/plain": [
       "       SBS1      SBS2        D1        D2\n",
       "0  0.264607  0.030306  0.682469  0.022618\n",
       "1  0.256053  0.061681  0.589520  0.092747\n",
       "2  0.023191  0.013614  0.065750  0.897444\n",
       "3  0.018792  0.010357  0.037346  0.933505\n",
       "4  0.149267  0.040111  0.670163  0.140459"
      ]
     },
     "execution_count": 70,
     "metadata": {},
     "output_type": "execute_result"
    }
   ],
   "source": [
    "obj.alpha"
   ]
  },
  {
   "cell_type": "code",
   "execution_count": 24,
   "metadata": {},
   "outputs": [
    {
     "data": {
      "text/plain": [
       "2"
      ]
     },
     "execution_count": 24,
     "metadata": {},
     "output_type": "execute_result"
    }
   ],
   "source": [
    "obj.k_denovo"
   ]
  },
  {
   "cell_type": "code",
   "execution_count": 25,
   "metadata": {},
   "outputs": [
    {
     "data": {
      "text/plain": [
       "2"
      ]
     },
     "execution_count": 25,
     "metadata": {},
     "output_type": "execute_result"
    }
   ],
   "source": [
    "obj.k_fixed"
   ]
  },
  {
   "cell_type": "code",
   "execution_count": 26,
   "metadata": {},
   "outputs": [],
   "source": [
    "obj.alpha_prior_unn"
   ]
  },
  {
   "cell_type": "code",
   "execution_count": null,
   "metadata": {},
   "outputs": [],
   "source": [
    "obj.alpha_noise"
   ]
  },
  {
   "cell_type": "code",
   "execution_count": null,
   "metadata": {},
   "outputs": [],
   "source": [
    "obj.alpha_unn + obj.alpha_noise "
   ]
  },
  {
   "cell_type": "code",
   "execution_count": null,
   "metadata": {},
   "outputs": [],
   "source": [
    "obj.alpha "
   ]
  },
  {
   "cell_type": "code",
   "execution_count": null,
   "metadata": {},
   "outputs": [],
   "source": [
    "from pyro import distributions as distr\n",
    "import seaborn as sns\n",
    "\n",
    "sns.displot(distr.HalfNormal(obj.hyperparameters[\"alpha_var\"]).sample_n(1000).tolist())\n",
    "sns.displot(distr.Exponential(obj.hyperparameters[\"exp_rate\"]).sample_n(1000).tolist()) \n",
    "sns.displot(distr.Normal(1, 0.5).sample_n(1000).tolist())"
   ]
  },
  {
   "cell_type": "code",
   "execution_count": null,
   "metadata": {},
   "outputs": [],
   "source": [
    "x2 = one.epsilon.astype(int)"
   ]
  },
  {
   "cell_type": "code",
   "execution_count": null,
   "metadata": {},
   "outputs": [],
   "source": [
    "two = run.fit(\n",
    "    x=x2, \n",
    "    k_list=[1,2,3,4,5], \n",
    "    lr=0.05, \n",
    "    n_steps=500, \n",
    "    enumer=False, \n",
    "    cluster=None, \n",
    "    groups=None, \n",
    "    beta_fixed=None, \n",
    "    compile_model = False, \n",
    "    CUDA = False, \n",
    "    enforce_sparsity = False, \n",
    "    regularizer = \"cosine\", \n",
    "    reg_weight = 1, \n",
    "    reg_bic = False, \n",
    "    store_parameters=False, \n",
    "    verbose=False, \n",
    "    stage = \"two\"\n",
    "    )"
   ]
  },
  {
   "cell_type": "code",
   "execution_count": null,
   "metadata": {},
   "outputs": [],
   "source": [
    "two.alpha"
   ]
  },
  {
   "cell_type": "code",
   "execution_count": null,
   "metadata": {},
   "outputs": [],
   "source": [
    "import torch\n",
    "import numpy as np\n",
    "\n",
    "m1 = torch.tensor(m.values).float()\n",
    "alpha1 = torch.tensor(one.alpha.values).float()\n",
    "a1 = torch.matmul(torch.diag(torch.sum(m1, axis=1)), alpha1)\n",
    "\n",
    "m2 = torch.tensor(x2.values).float()\n",
    "alpha2 = torch.tensor(two.alpha.values).float()\n",
    "a2 = torch.matmul(torch.diag(torch.sum(m2, axis=1)), alpha2)\n",
    "\n",
    "b1 = torch.sum(a1, 1).unsqueeze(-1)\n",
    "b2 = torch.sum(a2, 1).unsqueeze(-1)\n",
    "b3 = b1 + b2\n",
    "\n",
    "alpha1 = a1 / b3\n",
    "alpha2 = a2 / b3"
   ]
  },
  {
   "cell_type": "code",
   "execution_count": null,
   "metadata": {},
   "outputs": [],
   "source": [
    "sample_names = list(one.alpha.index)\n",
    "fixed_names = list(one.alpha.columns)\n",
    "denovo_names = list(two.alpha.columns)\n",
    "alpha1 = pd.DataFrame(np.array(alpha1), index=sample_names, columns=fixed_names)\n",
    "alpha2 = pd.DataFrame(np.array(alpha2), index=sample_names, columns=denovo_names)\n",
    "alpha = pd.concat([alpha1, alpha2], axis=1)"
   ]
  },
  {
   "cell_type": "code",
   "execution_count": null,
   "metadata": {},
   "outputs": [],
   "source": [
    "alpha"
   ]
  },
  {
   "cell_type": "code",
   "execution_count": null,
   "metadata": {},
   "outputs": [],
   "source": [
    "torch.sum(torch.tensor(alpha.values).float(), 1).unsqueeze(-1)"
   ]
  }
 ],
 "metadata": {
  "kernelspec": {
   "display_name": "Python 3 (ipykernel)",
   "language": "python",
   "name": "python3"
  },
  "language_info": {
   "codemirror_mode": {
    "name": "ipython",
    "version": 3
   },
   "file_extension": ".py",
   "mimetype": "text/x-python",
   "name": "python",
   "nbconvert_exporter": "python",
   "pygments_lexer": "ipython3",
   "version": "3.9.16"
  }
 },
 "nbformat": 4,
 "nbformat_minor": 4
}
