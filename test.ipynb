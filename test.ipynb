{
 "cells": [
  {
   "cell_type": "code",
   "execution_count": 1,
   "metadata": {
    "tags": []
   },
   "outputs": [
    {
     "name": "stderr",
     "output_type": "stream",
     "text": [
      "/Users/elenab/Library/r-miniconda-arm64/envs/basilica-env/lib/python3.9/site-packages/tqdm/auto.py:21: TqdmWarning: IProgress not found. Please update jupyter and ipywidgets. See https://ipywidgets.readthedocs.io/en/stable/user_install.html\n",
      "  from .autonotebook import tqdm as notebook_tqdm\n"
     ]
    }
   ],
   "source": [
    "import pandas as pd\n",
    "import pybasilica.run as run\n",
    "import torch\n",
    "import pyro\n",
    "import numpy as np\n",
    "import seaborn as sns\n",
    "import sklearn.metrics\n",
    "import torch.nn.functional as F\n",
    "\n",
    "%load_ext autoreload\n",
    "%autoreload 2"
   ]
  },
  {
   "cell_type": "code",
   "execution_count": 2,
   "metadata": {
    "tags": []
   },
   "outputs": [],
   "source": [
    "m_g = pd.read_csv(\"test_datasets/counts_sbs.N150.G3.csv\")\n",
    "m_sbs = m_g.drop([\"groups\"], axis=1)\n",
    "g_sbs = m_g[\"groups\"].tolist()\n",
    "cosmic_sbs = pd.read_csv(\"test_datasets/COSMIC_filt.csv\", index_col=0)"
   ]
  },
  {
   "cell_type": "code",
   "execution_count": null,
   "metadata": {},
   "outputs": [],
   "source": [
    "m_g = pd.read_csv(\"test_datasets/counts_dbs.N150.G3.csv\")\n",
    "m_dbs = m_g.drop([\"groups\"], axis=1)\n",
    "g_dbs = m_g[\"groups\"].tolist()\n",
    "cosmic_dbs = pd.read_csv(\"test_datasets/COSMIC_dbs.csv\", index_col=0) "
   ]
  },
  {
   "cell_type": "code",
   "execution_count": 131,
   "metadata": {},
   "outputs": [
    {
     "name": "stdout",
     "output_type": "stream",
     "text": [
      "tensor([[0.0188, 0.0522, 0.3900],\n",
      "        [0.1025, 0.0373, 0.1258]], dtype=torch.float64)\n",
      "torch.Size([2, 4])\n",
      "tensor([[0.0188, 0.0512, 0.3627, 0.5673],\n",
      "        [0.1025, 0.0335, 0.1087, 0.7553]], dtype=torch.float64)\n"
     ]
    }
   ],
   "source": [
    "dn_sbs = torch.tensor(cosmic_sbs.loc[[\"SBS6\",\"SBS17b\"]].values, dtype=torch.float64)\n",
    "ref_sbs = torch.tensor(cosmic_sbs.loc[[\"SBS1\",\"SBS2\",\"SBS5\"]].values, dtype=torch.float64)\n",
    "k_denovo = dn_sbs.shape[0]\n",
    "k_fixed = ref_sbs.shape[0]\n",
    "\n",
    "def mix_weights(beta):\n",
    "    '''\n",
    "    Function used for the stick-breaking process.\n",
    "    '''\n",
    "    beta1m_cumprod = (1 - beta).cumprod(-1)\n",
    "    return F.pad(beta, (0, 1), value=1) * F.pad(beta1m_cumprod, (1, 0), value=1)\n",
    "\n",
    "with pyro.plate(\"beta_d_plate\", k_denovo):\n",
    "    pi_beta = pyro.sample(\"beta\", pyro.distributions.Beta(torch.ones(k_fixed, dtype=torch.float64),10).to_event(1))\n",
    "    print(pi_beta)\n",
    "    pi = mix_weights(pi_beta)\n",
    "\n",
    "print(pi.shape)\n",
    "print(pi)"
   ]
  },
  {
   "cell_type": "code",
   "execution_count": 36,
   "metadata": {},
   "outputs": [],
   "source": [
    "beta_fixed_cum = pyro.distributions.Dirichlet(torch.ones(5)).sample()"
   ]
  },
  {
   "cell_type": "code",
   "execution_count": 38,
   "metadata": {},
   "outputs": [
    {
     "data": {
      "text/plain": [
       "tensor([0.2100, 0.0892, 0.2479, 0.2105, 0.2425])"
      ]
     },
     "execution_count": 38,
     "metadata": {},
     "output_type": "execute_result"
    }
   ],
   "source": [
    "rev = torch.ones(5) - beta_fixed_cum\n",
    "rev / torch.sum(rev)\n"
   ]
  },
  {
   "cell_type": "code",
   "execution_count": 133,
   "metadata": {},
   "outputs": [
    {
     "data": {
      "text/plain": [
       "tensor([100., 100., 100., 100., 100.,   1.])"
      ]
     },
     "execution_count": 133,
     "metadata": {},
     "output_type": "execute_result"
    }
   ],
   "source": [
    "torch.cat((torch.ones(5) * 100, torch.ones(1)))"
   ]
  },
  {
   "cell_type": "code",
   "execution_count": 180,
   "metadata": {
    "tags": []
   },
   "outputs": [
    {
     "name": "stdout",
     "output_type": "stream",
     "text": [
      "tensor([98.8002, 99.0562, 99.8150, 99.3391, 98.9902, 99.4301, 99.8280, 98.9902,\n",
      "        94.0054, 98.2104, 59.4478, 97.8004, 99.2621, 99.3071, 99.0882, 99.3801,\n",
      "        95.3809, 98.6603, 96.1808, 96.1708, 99.6141, 99.7401, 99.2062, 99.5171,\n",
      "        99.2571, 99.3861, 99.6541, 99.3511, 99.3041, 99.0932, 99.7510, 99.0472,\n",
      "        98.0604, 98.1004, 76.8061, 97.6905, 99.6461, 99.4811, 99.4991, 99.5701,\n",
      "        98.6703, 98.9602, 97.9204, 98.5103, 99.7411, 99.5391, 99.3871, 99.2701,\n",
      "        98.9802, 99.2352, 99.7660, 99.3181, 99.5321, 99.4921, 99.8490, 99.3281,\n",
      "        98.0604, 97.8404, 74.9190, 98.1404, 99.6331, 99.7091, 99.5891, 99.6781,\n",
      "        98.5903, 99.2062, 98.5003, 98.6303, 99.7481, 99.8290, 99.4701, 99.7650,\n",
      "        99.2142, 99.0832, 99.7700, 98.7303, 99.2192, 99.2402, 99.8290, 98.7502,\n",
      "        97.9704, 97.7005, 86.3753, 97.9004, 99.3691, 99.5861, 99.5211, 99.1252,\n",
      "        98.2004, 99.0292, 98.7303, 98.1504, 99.4781, 99.3441, 99.3061, 98.6503],\n",
      "       dtype=torch.float64)\n"
     ]
    },
    {
     "ename": "ValueError",
     "evalue": "Expected reinterpreted_batch_ndims <= len(base_distribution.batch_shape), actual 1 vs 0\n         Trace Shapes:         \n          Param Sites:         \n         Sample Sites:         \n                n dist     |   \n                 value 150 |   \n  latent_exposure dist 150 |  3\n                 value 150 |  3\n     beta_d_plate dist     |   \n                 value   3 |   \n           beta_w dist   3 |  2\n                 value   3 |  2\n        beta_w_dn dist   3 |  3\n                 value   3 |  3\n         k_denovo dist     |   \n                 value   3 |   \nlatent_signatures dist   3 | 96\n                 value   3 | 96\n               n2 dist     |   \n                 value 150 |   \n              obs dist 150 | 96\n                 value 150 | 96",
     "output_type": "error",
     "traceback": [
      "\u001b[0;31m---------------------------------------------------------------------------\u001b[0m",
      "\u001b[0;31mValueError\u001b[0m                                Traceback (most recent call last)",
      "File \u001b[0;32m~/Library/r-miniconda-arm64/envs/basilica-env/lib/python3.9/site-packages/pyro/poutine/trace_messenger.py:174\u001b[0m, in \u001b[0;36mTraceHandler.__call__\u001b[0;34m(self, *args, **kwargs)\u001b[0m\n\u001b[1;32m    173\u001b[0m \u001b[39mtry\u001b[39;00m:\n\u001b[0;32m--> 174\u001b[0m     ret \u001b[39m=\u001b[39m \u001b[39mself\u001b[39;49m\u001b[39m.\u001b[39;49mfn(\u001b[39m*\u001b[39;49margs, \u001b[39m*\u001b[39;49m\u001b[39m*\u001b[39;49mkwargs)\n\u001b[1;32m    175\u001b[0m \u001b[39mexcept\u001b[39;00m (\u001b[39mValueError\u001b[39;00m, \u001b[39mRuntimeError\u001b[39;00m) \u001b[39mas\u001b[39;00m e:\n",
      "File \u001b[0;32m~/Library/r-miniconda-arm64/envs/basilica-env/lib/python3.9/site-packages/pyro/poutine/messenger.py:12\u001b[0m, in \u001b[0;36m_context_wrap\u001b[0;34m(context, fn, *args, **kwargs)\u001b[0m\n\u001b[1;32m     11\u001b[0m \u001b[39mwith\u001b[39;00m context:\n\u001b[0;32m---> 12\u001b[0m     \u001b[39mreturn\u001b[39;00m fn(\u001b[39m*\u001b[39;49margs, \u001b[39m*\u001b[39;49m\u001b[39m*\u001b[39;49mkwargs)\n",
      "File \u001b[0;32m~/GitHub/pybasilica/pybasilica/svi.py:227\u001b[0m, in \u001b[0;36mPyBasilica.model\u001b[0;34m(self)\u001b[0m\n\u001b[1;32m    225\u001b[0m \u001b[39mif\u001b[39;00m \u001b[39mself\u001b[39m\u001b[39m.\u001b[39mk_denovo \u001b[39m>\u001b[39m \u001b[39m0\u001b[39m:\n\u001b[1;32m    226\u001b[0m     \u001b[39m# pyro.factor(\"penalty\", self.n_samples * self.contexts * torch.sum(beta_fixed_cum * (torch.abs(beta_fixed_cum - beta_denovo))))\u001b[39;00m\n\u001b[0;32m--> 227\u001b[0m     pyro\u001b[39m.\u001b[39mfactor(\u001b[39m\"\u001b[39m\u001b[39mpenalty\u001b[39m\u001b[39m\"\u001b[39m, \u001b[39m1\u001b[39m \u001b[39m/\u001b[39m (\u001b[39m1e-9\u001b[39m \u001b[39m+\u001b[39m dist\u001b[39m.\u001b[39;49mDirichlet(beta_fixed_cum\u001b[39m*\u001b[39;49m\u001b[39m500\u001b[39;49m)\u001b[39m.\u001b[39;49mto_event(\u001b[39m1\u001b[39;49m)\u001b[39m.\u001b[39mlog_prob(beta_denovo)))\n",
      "File \u001b[0;32m~/Library/r-miniconda-arm64/envs/basilica-env/lib/python3.9/site-packages/pyro/distributions/torch_distribution.py:194\u001b[0m, in \u001b[0;36mTorchDistributionMixin.to_event\u001b[0;34m(self, reinterpreted_batch_ndims)\u001b[0m\n\u001b[1;32m    191\u001b[0m     \u001b[39mraise\u001b[39;00m \u001b[39mValueError\u001b[39;00m(\n\u001b[1;32m    192\u001b[0m         \u001b[39m\"\u001b[39m\u001b[39mCannot remove event dimensions from \u001b[39m\u001b[39m{}\u001b[39;00m\u001b[39m\"\u001b[39m\u001b[39m.\u001b[39mformat(\u001b[39mtype\u001b[39m(\u001b[39mself\u001b[39m))\n\u001b[1;32m    193\u001b[0m     )\n\u001b[0;32m--> 194\u001b[0m \u001b[39mreturn\u001b[39;00m pyro\u001b[39m.\u001b[39;49mdistributions\u001b[39m.\u001b[39;49mtorch\u001b[39m.\u001b[39;49mIndependent(\n\u001b[1;32m    195\u001b[0m     base_dist, reinterpreted_batch_ndims\n\u001b[1;32m    196\u001b[0m )\n",
      "File \u001b[0;32m~/Library/r-miniconda-arm64/envs/basilica-env/lib/python3.9/site-packages/pyro/distributions/distribution.py:18\u001b[0m, in \u001b[0;36mDistributionMeta.__call__\u001b[0;34m(cls, *args, **kwargs)\u001b[0m\n\u001b[1;32m     17\u001b[0m         \u001b[39mreturn\u001b[39;00m result\n\u001b[0;32m---> 18\u001b[0m \u001b[39mreturn\u001b[39;00m \u001b[39msuper\u001b[39;49m()\u001b[39m.\u001b[39;49m\u001b[39m__call__\u001b[39;49m(\u001b[39m*\u001b[39;49margs, \u001b[39m*\u001b[39;49m\u001b[39m*\u001b[39;49mkwargs)\n",
      "File \u001b[0;32m~/Library/r-miniconda-arm64/envs/basilica-env/lib/python3.9/site-packages/torch/distributions/independent.py:42\u001b[0m, in \u001b[0;36mIndependent.__init__\u001b[0;34m(self, base_distribution, reinterpreted_batch_ndims, validate_args)\u001b[0m\n\u001b[1;32m     41\u001b[0m \u001b[39mif\u001b[39;00m reinterpreted_batch_ndims \u001b[39m>\u001b[39m \u001b[39mlen\u001b[39m(base_distribution\u001b[39m.\u001b[39mbatch_shape):\n\u001b[0;32m---> 42\u001b[0m     \u001b[39mraise\u001b[39;00m \u001b[39mValueError\u001b[39;00m(\u001b[39m\"\u001b[39m\u001b[39mExpected reinterpreted_batch_ndims <= len(base_distribution.batch_shape), \u001b[39m\u001b[39m\"\u001b[39m\n\u001b[1;32m     43\u001b[0m                      \u001b[39m\"\u001b[39m\u001b[39mactual \u001b[39m\u001b[39m{}\u001b[39;00m\u001b[39m vs \u001b[39m\u001b[39m{}\u001b[39;00m\u001b[39m\"\u001b[39m\u001b[39m.\u001b[39mformat(reinterpreted_batch_ndims,\n\u001b[1;32m     44\u001b[0m                                               \u001b[39mlen\u001b[39m(base_distribution\u001b[39m.\u001b[39mbatch_shape)))\n\u001b[1;32m     45\u001b[0m shape \u001b[39m=\u001b[39m base_distribution\u001b[39m.\u001b[39mbatch_shape \u001b[39m+\u001b[39m base_distribution\u001b[39m.\u001b[39mevent_shape\n",
      "\u001b[0;31mValueError\u001b[0m: Expected reinterpreted_batch_ndims <= len(base_distribution.batch_shape), actual 1 vs 0",
      "\nThe above exception was the direct cause of the following exception:\n",
      "\u001b[0;31mValueError\u001b[0m                                Traceback (most recent call last)",
      "\u001b[1;32m/Users/elenab/GitHub/pybasilica/test.ipynb Cell 8\u001b[0m line \u001b[0;36m1\n\u001b[0;32m----> <a href='vscode-notebook-cell:/Users/elenab/GitHub/pybasilica/test.ipynb#X10sZmlsZQ%3D%3D?line=0'>1</a>\u001b[0m obj_sbs \u001b[39m=\u001b[39m run\u001b[39m.\u001b[39;49mfit(\n\u001b[1;32m      <a href='vscode-notebook-cell:/Users/elenab/GitHub/pybasilica/test.ipynb#X10sZmlsZQ%3D%3D?line=1'>2</a>\u001b[0m     x\u001b[39m=\u001b[39;49mm_sbs, \n\u001b[1;32m      <a href='vscode-notebook-cell:/Users/elenab/GitHub/pybasilica/test.ipynb#X10sZmlsZQ%3D%3D?line=2'>3</a>\u001b[0m     k_list\u001b[39m=\u001b[39;49m[\u001b[39m3\u001b[39;49m], \n\u001b[1;32m      <a href='vscode-notebook-cell:/Users/elenab/GitHub/pybasilica/test.ipynb#X10sZmlsZQ%3D%3D?line=3'>4</a>\u001b[0m     lr\u001b[39m=\u001b[39;49m\u001b[39m0.005\u001b[39;49m, \n\u001b[1;32m      <a href='vscode-notebook-cell:/Users/elenab/GitHub/pybasilica/test.ipynb#X10sZmlsZQ%3D%3D?line=4'>5</a>\u001b[0m     optim_gamma\u001b[39m=\u001b[39;49m\u001b[39m0.1\u001b[39;49m,\n\u001b[1;32m      <a href='vscode-notebook-cell:/Users/elenab/GitHub/pybasilica/test.ipynb#X10sZmlsZQ%3D%3D?line=5'>6</a>\u001b[0m     n_steps\u001b[39m=\u001b[39;49m\u001b[39m10\u001b[39;49m, \n\u001b[1;32m      <a href='vscode-notebook-cell:/Users/elenab/GitHub/pybasilica/test.ipynb#X10sZmlsZQ%3D%3D?line=6'>7</a>\u001b[0m     \u001b[39m# cluster=6,\u001b[39;49;00m\n\u001b[1;32m      <a href='vscode-notebook-cell:/Users/elenab/GitHub/pybasilica/test.ipynb#X10sZmlsZQ%3D%3D?line=7'>8</a>\u001b[0m     dirichlet_prior\u001b[39m=\u001b[39;49m\u001b[39mTrue\u001b[39;49;00m,\n\u001b[1;32m      <a href='vscode-notebook-cell:/Users/elenab/GitHub/pybasilica/test.ipynb#X10sZmlsZQ%3D%3D?line=8'>9</a>\u001b[0m     beta_fixed\u001b[39m=\u001b[39;49mcosmic_sbs\u001b[39m.\u001b[39;49mloc[[\u001b[39m\"\u001b[39;49m\u001b[39mSBS1\u001b[39;49m\u001b[39m\"\u001b[39;49m,\u001b[39m\"\u001b[39;49m\u001b[39mSBS5\u001b[39;49m\u001b[39m\"\u001b[39;49m]], \n\u001b[1;32m     <a href='vscode-notebook-cell:/Users/elenab/GitHub/pybasilica/test.ipynb#X10sZmlsZQ%3D%3D?line=9'>10</a>\u001b[0m     hyperparameters\u001b[39m=\u001b[39;49m{\u001b[39m\"\u001b[39;49m\u001b[39malpha_sigma\u001b[39;49m\u001b[39m\"\u001b[39;49m:\u001b[39m.15\u001b[39;49m, \u001b[39m\"\u001b[39;49m\u001b[39malpha_p_sigma\u001b[39;49m\u001b[39m\"\u001b[39;49m:\u001b[39m1.\u001b[39;49m, \u001b[39m\"\u001b[39;49m\u001b[39malpha_p_conc0\u001b[39;49m\u001b[39m\"\u001b[39;49m:\u001b[39m0.6\u001b[39;49m, \n\u001b[1;32m     <a href='vscode-notebook-cell:/Users/elenab/GitHub/pybasilica/test.ipynb#X10sZmlsZQ%3D%3D?line=10'>11</a>\u001b[0m                      \u001b[39m\"\u001b[39;49m\u001b[39malpha_p_conc1\u001b[39;49m\u001b[39m\"\u001b[39;49m:\u001b[39m0.6\u001b[39;49m, \u001b[39m\"\u001b[39;49m\u001b[39malpha_rate\u001b[39;49m\u001b[39m\"\u001b[39;49m:\u001b[39m1.\u001b[39;49m, \u001b[39m\"\u001b[39;49m\u001b[39mpi_conc0\u001b[39;49m\u001b[39m\"\u001b[39;49m:\u001b[39m0.6\u001b[39;49m, \u001b[39m\"\u001b[39;49m\u001b[39malpha_conc\u001b[39;49m\u001b[39m\"\u001b[39;49m:\u001b[39m100\u001b[39;49m,\n\u001b[1;32m     <a href='vscode-notebook-cell:/Users/elenab/GitHub/pybasilica/test.ipynb#X10sZmlsZQ%3D%3D?line=11'>12</a>\u001b[0m                      \u001b[39m\"\u001b[39;49m\u001b[39mscale_factor_alpha\u001b[39;49m\u001b[39m\"\u001b[39;49m:\u001b[39m5000\u001b[39;49m, \u001b[39m\"\u001b[39;49m\u001b[39mscale_factor_centroid\u001b[39;49m\u001b[39m\"\u001b[39;49m:\u001b[39m5000\u001b[39;49m, \u001b[39m\"\u001b[39;49m\u001b[39mscale_tau\u001b[39;49m\u001b[39m\"\u001b[39;49m:\u001b[39m0\u001b[39;49m},\n\u001b[1;32m     <a href='vscode-notebook-cell:/Users/elenab/GitHub/pybasilica/test.ipynb#X10sZmlsZQ%3D%3D?line=12'>13</a>\u001b[0m     enforce_sparsity \u001b[39m=\u001b[39;49m \u001b[39mTrue\u001b[39;49;00m, \n\u001b[1;32m     <a href='vscode-notebook-cell:/Users/elenab/GitHub/pybasilica/test.ipynb#X10sZmlsZQ%3D%3D?line=13'>14</a>\u001b[0m     reg_weight\u001b[39m=\u001b[39;49m\u001b[39m0.\u001b[39;49m, \n\u001b[1;32m     <a href='vscode-notebook-cell:/Users/elenab/GitHub/pybasilica/test.ipynb#X10sZmlsZQ%3D%3D?line=14'>15</a>\u001b[0m     store_parameters \u001b[39m=\u001b[39;49m \u001b[39mTrue\u001b[39;49;00m, \n\u001b[1;32m     <a href='vscode-notebook-cell:/Users/elenab/GitHub/pybasilica/test.ipynb#X10sZmlsZQ%3D%3D?line=15'>16</a>\u001b[0m     seed_list\u001b[39m=\u001b[39;49m[\u001b[39m92\u001b[39;49m,\u001b[39m30\u001b[39;49m],\n\u001b[1;32m     <a href='vscode-notebook-cell:/Users/elenab/GitHub/pybasilica/test.ipynb#X10sZmlsZQ%3D%3D?line=16'>17</a>\u001b[0m     nonparametric\u001b[39m=\u001b[39;49m\u001b[39mTrue\u001b[39;49;00m,\n\u001b[1;32m     <a href='vscode-notebook-cell:/Users/elenab/GitHub/pybasilica/test.ipynb#X10sZmlsZQ%3D%3D?line=17'>18</a>\u001b[0m     store_fits\u001b[39m=\u001b[39;49m\u001b[39mTrue\u001b[39;49;00m\n\u001b[1;32m     <a href='vscode-notebook-cell:/Users/elenab/GitHub/pybasilica/test.ipynb#X10sZmlsZQ%3D%3D?line=18'>19</a>\u001b[0m     )\n",
      "File \u001b[0;32m~/GitHub/pybasilica/pybasilica/run.py:67\u001b[0m, in \u001b[0;36mfit\u001b[0;34m(x, alpha, k_list, lr, optim_gamma, n_steps, enumer, cluster, beta_fixed, hyperparameters, dirichlet_prior, compile_model, CUDA, enforce_sparsity, nonparametric, regularizer, reg_weight, regul_compare, regul_denovo, regul_fixed, stage, seed_list, store_parameters, store_fits)\u001b[0m\n\u001b[1;32m     65\u001b[0m bestK, scoresK, fitsK, fits_alpha \u001b[39m=\u001b[39m \u001b[39mNone\u001b[39;00m, \u001b[39mNone\u001b[39;00m, \u001b[39mdict\u001b[39m(), \u001b[39mdict\u001b[39m()\n\u001b[1;32m     66\u001b[0m \u001b[39mif\u001b[39;00m x \u001b[39mis\u001b[39;00m \u001b[39mnot\u001b[39;00m \u001b[39mNone\u001b[39;00m:\n\u001b[0;32m---> 67\u001b[0m     bestK, scoresK, fitsK \u001b[39m=\u001b[39m run_fit(seed_list\u001b[39m=\u001b[39;49mseed_list, kwargs\u001b[39m=\u001b[39;49mkwargs, parname\u001b[39m=\u001b[39;49m\u001b[39m\"\u001b[39;49m\u001b[39mk_denovo\u001b[39;49m\u001b[39m\"\u001b[39;49m,\n\u001b[1;32m     68\u001b[0m                                     parlist\u001b[39m=\u001b[39;49mk_list, score_name\u001b[39m=\u001b[39;49m\u001b[39m\"\u001b[39;49m\u001b[39mbic\u001b[39;49m\u001b[39m\"\u001b[39;49m, store_fits\u001b[39m=\u001b[39;49mstore_fits, \u001b[39mcls\u001b[39;49m\u001b[39m=\u001b[39;49mPyBasilica)\n\u001b[1;32m     69\u001b[0m     bestK\u001b[39m.\u001b[39mscores \u001b[39m=\u001b[39m scoresK\n\u001b[1;32m     70\u001b[0m     bestK\u001b[39m.\u001b[39mfits \u001b[39m=\u001b[39m fitsK\n",
      "File \u001b[0;32m~/GitHub/pybasilica/pybasilica/run.py:128\u001b[0m, in \u001b[0;36mrun_fit\u001b[0;34m(seed_list, kwargs, parname, parlist, score_name, store_fits, cls)\u001b[0m\n\u001b[1;32m    126\u001b[0m \u001b[39m# fits_i contains a dict with the fits for all seeds in seed_list\u001b[39;00m\n\u001b[1;32m    127\u001b[0m kwargs[parname] \u001b[39m=\u001b[39m i\n\u001b[0;32m--> 128\u001b[0m best_i, scores_i, fits_i \u001b[39m=\u001b[39m single_run(seed_list\u001b[39m=\u001b[39;49mseed_list, kwargs\u001b[39m=\u001b[39;49mkwargs, \u001b[39mcls\u001b[39;49m\u001b[39m=\u001b[39;49m\u001b[39mcls\u001b[39;49m, score_name\u001b[39m=\u001b[39;49mscore_name, idd\u001b[39m=\u001b[39;49midd_i)\n\u001b[1;32m    130\u001b[0m sc_i \u001b[39m=\u001b[39m best_i\u001b[39m.\u001b[39m\u001b[39m__dict__\u001b[39m[score_name]\n\u001b[1;32m    132\u001b[0m \u001b[39mif\u001b[39;00m best_run \u001b[39mis\u001b[39;00m \u001b[39mNone\u001b[39;00m \u001b[39mor\u001b[39;00m sc_i \u001b[39m<\u001b[39m best_score:\n",
      "File \u001b[0;32m~/GitHub/pybasilica/pybasilica/run.py:96\u001b[0m, in \u001b[0;36msingle_run\u001b[0;34m(seed_list, kwargs, cls, score_name, idd)\u001b[0m\n\u001b[1;32m     94\u001b[0m idd_s \u001b[39m=\u001b[39m \u001b[39m\"\u001b[39m\u001b[39mseed:\u001b[39m\u001b[39m\"\u001b[39m\u001b[39m+\u001b[39m\u001b[39mstr\u001b[39m(seed)\n\u001b[1;32m     95\u001b[0m obj \u001b[39m=\u001b[39m \u001b[39mcls\u001b[39m(seed\u001b[39m=\u001b[39mseed, \u001b[39m*\u001b[39m\u001b[39m*\u001b[39mkwargs)\n\u001b[0;32m---> 96\u001b[0m obj\u001b[39m.\u001b[39;49m_fit()\n\u001b[1;32m     97\u001b[0m obj\u001b[39m.\u001b[39midd \u001b[39m=\u001b[39m idd \u001b[39m+\u001b[39m \u001b[39m\"\u001b[39m\u001b[39m.\u001b[39m\u001b[39m\"\u001b[39m \u001b[39m+\u001b[39m idd_s\n\u001b[1;32m     99\u001b[0m sc_s \u001b[39m=\u001b[39m obj\u001b[39m.\u001b[39m\u001b[39m__dict__\u001b[39m[score_name]\n",
      "File \u001b[0;32m~/GitHub/pybasilica/pybasilica/svi.py:451\u001b[0m, in \u001b[0;36mPyBasilica._fit\u001b[0;34m(self, set_attributes)\u001b[0m\n\u001b[1;32m    448\u001b[0m \u001b[39mself\u001b[39m\u001b[39m.\u001b[39mreg \u001b[39m=\u001b[39m \u001b[39mlist\u001b[39m()\n\u001b[1;32m    450\u001b[0m svi \u001b[39m=\u001b[39m SVI(\u001b[39mself\u001b[39m\u001b[39m.\u001b[39mmodel, \u001b[39mself\u001b[39m\u001b[39m.\u001b[39mguide, optimizer, loss\u001b[39m=\u001b[39melbo)\n\u001b[0;32m--> 451\u001b[0m loss \u001b[39m=\u001b[39m \u001b[39mfloat\u001b[39m(svi\u001b[39m.\u001b[39;49mstep())\n\u001b[1;32m    453\u001b[0m \u001b[39m# train_params_each = int(self.n_steps / 100)\u001b[39;00m\n\u001b[1;32m    454\u001b[0m gradient_norms \u001b[39m=\u001b[39m defaultdict(\u001b[39mlist\u001b[39m)\n",
      "File \u001b[0;32m~/Library/r-miniconda-arm64/envs/basilica-env/lib/python3.9/site-packages/pyro/infer/svi.py:145\u001b[0m, in \u001b[0;36mSVI.step\u001b[0;34m(self, *args, **kwargs)\u001b[0m\n\u001b[1;32m    143\u001b[0m \u001b[39m# get loss and compute gradients\u001b[39;00m\n\u001b[1;32m    144\u001b[0m \u001b[39mwith\u001b[39;00m poutine\u001b[39m.\u001b[39mtrace(param_only\u001b[39m=\u001b[39m\u001b[39mTrue\u001b[39;00m) \u001b[39mas\u001b[39;00m param_capture:\n\u001b[0;32m--> 145\u001b[0m     loss \u001b[39m=\u001b[39m \u001b[39mself\u001b[39;49m\u001b[39m.\u001b[39;49mloss_and_grads(\u001b[39mself\u001b[39;49m\u001b[39m.\u001b[39;49mmodel, \u001b[39mself\u001b[39;49m\u001b[39m.\u001b[39;49mguide, \u001b[39m*\u001b[39;49margs, \u001b[39m*\u001b[39;49m\u001b[39m*\u001b[39;49mkwargs)\n\u001b[1;32m    147\u001b[0m params \u001b[39m=\u001b[39m \u001b[39mset\u001b[39m(\n\u001b[1;32m    148\u001b[0m     site[\u001b[39m\"\u001b[39m\u001b[39mvalue\u001b[39m\u001b[39m\"\u001b[39m]\u001b[39m.\u001b[39munconstrained() \u001b[39mfor\u001b[39;00m site \u001b[39min\u001b[39;00m param_capture\u001b[39m.\u001b[39mtrace\u001b[39m.\u001b[39mnodes\u001b[39m.\u001b[39mvalues()\n\u001b[1;32m    149\u001b[0m )\n\u001b[1;32m    151\u001b[0m \u001b[39m# actually perform gradient steps\u001b[39;00m\n\u001b[1;32m    152\u001b[0m \u001b[39m# torch.optim objects gets instantiated for any params that haven't been seen yet\u001b[39;00m\n",
      "File \u001b[0;32m~/Library/r-miniconda-arm64/envs/basilica-env/lib/python3.9/site-packages/pyro/infer/trace_elbo.py:140\u001b[0m, in \u001b[0;36mTrace_ELBO.loss_and_grads\u001b[0;34m(self, model, guide, *args, **kwargs)\u001b[0m\n\u001b[1;32m    138\u001b[0m loss \u001b[39m=\u001b[39m \u001b[39m0.0\u001b[39m\n\u001b[1;32m    139\u001b[0m \u001b[39m# grab a trace from the generator\u001b[39;00m\n\u001b[0;32m--> 140\u001b[0m \u001b[39mfor\u001b[39;00m model_trace, guide_trace \u001b[39min\u001b[39;00m \u001b[39mself\u001b[39m\u001b[39m.\u001b[39m_get_traces(model, guide, args, kwargs):\n\u001b[1;32m    141\u001b[0m     loss_particle, surrogate_loss_particle \u001b[39m=\u001b[39m \u001b[39mself\u001b[39m\u001b[39m.\u001b[39m_differentiable_loss_particle(\n\u001b[1;32m    142\u001b[0m         model_trace, guide_trace\n\u001b[1;32m    143\u001b[0m     )\n\u001b[1;32m    144\u001b[0m     loss \u001b[39m+\u001b[39m\u001b[39m=\u001b[39m loss_particle \u001b[39m/\u001b[39m \u001b[39mself\u001b[39m\u001b[39m.\u001b[39mnum_particles\n",
      "File \u001b[0;32m~/Library/r-miniconda-arm64/envs/basilica-env/lib/python3.9/site-packages/pyro/infer/elbo.py:182\u001b[0m, in \u001b[0;36mELBO._get_traces\u001b[0;34m(self, model, guide, args, kwargs)\u001b[0m\n\u001b[1;32m    180\u001b[0m \u001b[39melse\u001b[39;00m:\n\u001b[1;32m    181\u001b[0m     \u001b[39mfor\u001b[39;00m i \u001b[39min\u001b[39;00m \u001b[39mrange\u001b[39m(\u001b[39mself\u001b[39m\u001b[39m.\u001b[39mnum_particles):\n\u001b[0;32m--> 182\u001b[0m         \u001b[39myield\u001b[39;00m \u001b[39mself\u001b[39;49m\u001b[39m.\u001b[39;49m_get_trace(model, guide, args, kwargs)\n",
      "File \u001b[0;32m~/Library/r-miniconda-arm64/envs/basilica-env/lib/python3.9/site-packages/pyro/infer/trace_elbo.py:57\u001b[0m, in \u001b[0;36mTrace_ELBO._get_trace\u001b[0;34m(self, model, guide, args, kwargs)\u001b[0m\n\u001b[1;32m     52\u001b[0m \u001b[39mdef\u001b[39;00m \u001b[39m_get_trace\u001b[39m(\u001b[39mself\u001b[39m, model, guide, args, kwargs):\n\u001b[1;32m     53\u001b[0m \u001b[39m    \u001b[39m\u001b[39m\"\"\"\u001b[39;00m\n\u001b[1;32m     54\u001b[0m \u001b[39m    Returns a single trace from the guide, and the model that is run\u001b[39;00m\n\u001b[1;32m     55\u001b[0m \u001b[39m    against it.\u001b[39;00m\n\u001b[1;32m     56\u001b[0m \u001b[39m    \"\"\"\u001b[39;00m\n\u001b[0;32m---> 57\u001b[0m     model_trace, guide_trace \u001b[39m=\u001b[39m get_importance_trace(\n\u001b[1;32m     58\u001b[0m         \u001b[39m\"\u001b[39;49m\u001b[39mflat\u001b[39;49m\u001b[39m\"\u001b[39;49m, \u001b[39mself\u001b[39;49m\u001b[39m.\u001b[39;49mmax_plate_nesting, model, guide, args, kwargs\n\u001b[1;32m     59\u001b[0m     )\n\u001b[1;32m     60\u001b[0m     \u001b[39mif\u001b[39;00m is_validation_enabled():\n\u001b[1;32m     61\u001b[0m         check_if_enumerated(guide_trace)\n",
      "File \u001b[0;32m~/Library/r-miniconda-arm64/envs/basilica-env/lib/python3.9/site-packages/pyro/infer/enum.py:65\u001b[0m, in \u001b[0;36mget_importance_trace\u001b[0;34m(graph_type, max_plate_nesting, model, guide, args, kwargs, detach)\u001b[0m\n\u001b[1;32m     63\u001b[0m     \u001b[39mif\u001b[39;00m detach:\n\u001b[1;32m     64\u001b[0m         guide_trace\u001b[39m.\u001b[39mdetach_()\n\u001b[0;32m---> 65\u001b[0m     model_trace \u001b[39m=\u001b[39m poutine\u001b[39m.\u001b[39;49mtrace(\n\u001b[1;32m     66\u001b[0m         poutine\u001b[39m.\u001b[39;49mreplay(model, trace\u001b[39m=\u001b[39;49mguide_trace), graph_type\u001b[39m=\u001b[39;49mgraph_type\n\u001b[1;32m     67\u001b[0m     )\u001b[39m.\u001b[39;49mget_trace(\u001b[39m*\u001b[39;49margs, \u001b[39m*\u001b[39;49m\u001b[39m*\u001b[39;49mkwargs)\n\u001b[1;32m     69\u001b[0m \u001b[39mif\u001b[39;00m is_validation_enabled():\n\u001b[1;32m     70\u001b[0m     check_model_guide_match(model_trace, guide_trace, max_plate_nesting)\n",
      "File \u001b[0;32m~/Library/r-miniconda-arm64/envs/basilica-env/lib/python3.9/site-packages/pyro/poutine/trace_messenger.py:198\u001b[0m, in \u001b[0;36mTraceHandler.get_trace\u001b[0;34m(self, *args, **kwargs)\u001b[0m\n\u001b[1;32m    190\u001b[0m \u001b[39mdef\u001b[39;00m \u001b[39mget_trace\u001b[39m(\u001b[39mself\u001b[39m, \u001b[39m*\u001b[39margs, \u001b[39m*\u001b[39m\u001b[39m*\u001b[39mkwargs):\n\u001b[1;32m    191\u001b[0m \u001b[39m    \u001b[39m\u001b[39m\"\"\"\u001b[39;00m\n\u001b[1;32m    192\u001b[0m \u001b[39m    :returns: data structure\u001b[39;00m\n\u001b[1;32m    193\u001b[0m \u001b[39m    :rtype: pyro.poutine.Trace\u001b[39;00m\n\u001b[0;32m   (...)\u001b[0m\n\u001b[1;32m    196\u001b[0m \u001b[39m    Calls this poutine and returns its trace instead of the function's return value.\u001b[39;00m\n\u001b[1;32m    197\u001b[0m \u001b[39m    \"\"\"\u001b[39;00m\n\u001b[0;32m--> 198\u001b[0m     \u001b[39mself\u001b[39;49m(\u001b[39m*\u001b[39;49margs, \u001b[39m*\u001b[39;49m\u001b[39m*\u001b[39;49mkwargs)\n\u001b[1;32m    199\u001b[0m     \u001b[39mreturn\u001b[39;00m \u001b[39mself\u001b[39m\u001b[39m.\u001b[39mmsngr\u001b[39m.\u001b[39mget_trace()\n",
      "File \u001b[0;32m~/Library/r-miniconda-arm64/envs/basilica-env/lib/python3.9/site-packages/pyro/poutine/trace_messenger.py:180\u001b[0m, in \u001b[0;36mTraceHandler.__call__\u001b[0;34m(self, *args, **kwargs)\u001b[0m\n\u001b[1;32m    178\u001b[0m         exc \u001b[39m=\u001b[39m exc_type(\u001b[39mu\u001b[39m\u001b[39m\"\u001b[39m\u001b[39m{}\u001b[39;00m\u001b[39m\\n\u001b[39;00m\u001b[39m{}\u001b[39;00m\u001b[39m\"\u001b[39m\u001b[39m.\u001b[39mformat(exc_value, shapes))\n\u001b[1;32m    179\u001b[0m         exc \u001b[39m=\u001b[39m exc\u001b[39m.\u001b[39mwith_traceback(traceback)\n\u001b[0;32m--> 180\u001b[0m         \u001b[39mraise\u001b[39;00m exc \u001b[39mfrom\u001b[39;00m \u001b[39me\u001b[39;00m\n\u001b[1;32m    181\u001b[0m     \u001b[39mself\u001b[39m\u001b[39m.\u001b[39mmsngr\u001b[39m.\u001b[39mtrace\u001b[39m.\u001b[39madd_node(\n\u001b[1;32m    182\u001b[0m         \u001b[39m\"\u001b[39m\u001b[39m_RETURN\u001b[39m\u001b[39m\"\u001b[39m, name\u001b[39m=\u001b[39m\u001b[39m\"\u001b[39m\u001b[39m_RETURN\u001b[39m\u001b[39m\"\u001b[39m, \u001b[39mtype\u001b[39m\u001b[39m=\u001b[39m\u001b[39m\"\u001b[39m\u001b[39mreturn\u001b[39m\u001b[39m\"\u001b[39m, value\u001b[39m=\u001b[39mret\n\u001b[1;32m    183\u001b[0m     )\n\u001b[1;32m    184\u001b[0m \u001b[39mreturn\u001b[39;00m ret\n",
      "File \u001b[0;32m~/Library/r-miniconda-arm64/envs/basilica-env/lib/python3.9/site-packages/pyro/poutine/trace_messenger.py:174\u001b[0m, in \u001b[0;36mTraceHandler.__call__\u001b[0;34m(self, *args, **kwargs)\u001b[0m\n\u001b[1;32m    170\u001b[0m \u001b[39mself\u001b[39m\u001b[39m.\u001b[39mmsngr\u001b[39m.\u001b[39mtrace\u001b[39m.\u001b[39madd_node(\n\u001b[1;32m    171\u001b[0m     \u001b[39m\"\u001b[39m\u001b[39m_INPUT\u001b[39m\u001b[39m\"\u001b[39m, name\u001b[39m=\u001b[39m\u001b[39m\"\u001b[39m\u001b[39m_INPUT\u001b[39m\u001b[39m\"\u001b[39m, \u001b[39mtype\u001b[39m\u001b[39m=\u001b[39m\u001b[39m\"\u001b[39m\u001b[39margs\u001b[39m\u001b[39m\"\u001b[39m, args\u001b[39m=\u001b[39margs, kwargs\u001b[39m=\u001b[39mkwargs\n\u001b[1;32m    172\u001b[0m )\n\u001b[1;32m    173\u001b[0m \u001b[39mtry\u001b[39;00m:\n\u001b[0;32m--> 174\u001b[0m     ret \u001b[39m=\u001b[39m \u001b[39mself\u001b[39;49m\u001b[39m.\u001b[39;49mfn(\u001b[39m*\u001b[39;49margs, \u001b[39m*\u001b[39;49m\u001b[39m*\u001b[39;49mkwargs)\n\u001b[1;32m    175\u001b[0m \u001b[39mexcept\u001b[39;00m (\u001b[39mValueError\u001b[39;00m, \u001b[39mRuntimeError\u001b[39;00m) \u001b[39mas\u001b[39;00m e:\n\u001b[1;32m    176\u001b[0m     exc_type, exc_value, traceback \u001b[39m=\u001b[39m sys\u001b[39m.\u001b[39mexc_info()\n",
      "File \u001b[0;32m~/Library/r-miniconda-arm64/envs/basilica-env/lib/python3.9/site-packages/pyro/poutine/messenger.py:12\u001b[0m, in \u001b[0;36m_context_wrap\u001b[0;34m(context, fn, *args, **kwargs)\u001b[0m\n\u001b[1;32m     10\u001b[0m \u001b[39mdef\u001b[39;00m \u001b[39m_context_wrap\u001b[39m(context, fn, \u001b[39m*\u001b[39margs, \u001b[39m*\u001b[39m\u001b[39m*\u001b[39mkwargs):\n\u001b[1;32m     11\u001b[0m     \u001b[39mwith\u001b[39;00m context:\n\u001b[0;32m---> 12\u001b[0m         \u001b[39mreturn\u001b[39;00m fn(\u001b[39m*\u001b[39;49margs, \u001b[39m*\u001b[39;49m\u001b[39m*\u001b[39;49mkwargs)\n",
      "File \u001b[0;32m~/GitHub/pybasilica/pybasilica/svi.py:227\u001b[0m, in \u001b[0;36mPyBasilica.model\u001b[0;34m(self)\u001b[0m\n\u001b[1;32m    224\u001b[0m \u001b[39m# print(beta_fixed_cum * (1 - torch.abs(beta_fixed_cum - beta_denovo)))\u001b[39;00m\n\u001b[1;32m    225\u001b[0m \u001b[39mif\u001b[39;00m \u001b[39mself\u001b[39m\u001b[39m.\u001b[39mk_denovo \u001b[39m>\u001b[39m \u001b[39m0\u001b[39m:\n\u001b[1;32m    226\u001b[0m     \u001b[39m# pyro.factor(\"penalty\", self.n_samples * self.contexts * torch.sum(beta_fixed_cum * (torch.abs(beta_fixed_cum - beta_denovo))))\u001b[39;00m\n\u001b[0;32m--> 227\u001b[0m     pyro\u001b[39m.\u001b[39mfactor(\u001b[39m\"\u001b[39m\u001b[39mpenalty\u001b[39m\u001b[39m\"\u001b[39m, \u001b[39m1\u001b[39m \u001b[39m/\u001b[39m (\u001b[39m1e-9\u001b[39m \u001b[39m+\u001b[39m dist\u001b[39m.\u001b[39;49mDirichlet(beta_fixed_cum\u001b[39m*\u001b[39;49m\u001b[39m500\u001b[39;49m)\u001b[39m.\u001b[39;49mto_event(\u001b[39m1\u001b[39;49m)\u001b[39m.\u001b[39mlog_prob(beta_denovo)))\n",
      "File \u001b[0;32m~/Library/r-miniconda-arm64/envs/basilica-env/lib/python3.9/site-packages/pyro/distributions/torch_distribution.py:194\u001b[0m, in \u001b[0;36mTorchDistributionMixin.to_event\u001b[0;34m(self, reinterpreted_batch_ndims)\u001b[0m\n\u001b[1;32m    190\u001b[0m \u001b[39mif\u001b[39;00m reinterpreted_batch_ndims \u001b[39m<\u001b[39m \u001b[39m0\u001b[39m:\n\u001b[1;32m    191\u001b[0m     \u001b[39mraise\u001b[39;00m \u001b[39mValueError\u001b[39;00m(\n\u001b[1;32m    192\u001b[0m         \u001b[39m\"\u001b[39m\u001b[39mCannot remove event dimensions from \u001b[39m\u001b[39m{}\u001b[39;00m\u001b[39m\"\u001b[39m\u001b[39m.\u001b[39mformat(\u001b[39mtype\u001b[39m(\u001b[39mself\u001b[39m))\n\u001b[1;32m    193\u001b[0m     )\n\u001b[0;32m--> 194\u001b[0m \u001b[39mreturn\u001b[39;00m pyro\u001b[39m.\u001b[39;49mdistributions\u001b[39m.\u001b[39;49mtorch\u001b[39m.\u001b[39;49mIndependent(\n\u001b[1;32m    195\u001b[0m     base_dist, reinterpreted_batch_ndims\n\u001b[1;32m    196\u001b[0m )\n",
      "File \u001b[0;32m~/Library/r-miniconda-arm64/envs/basilica-env/lib/python3.9/site-packages/pyro/distributions/distribution.py:18\u001b[0m, in \u001b[0;36mDistributionMeta.__call__\u001b[0;34m(cls, *args, **kwargs)\u001b[0m\n\u001b[1;32m     16\u001b[0m     \u001b[39mif\u001b[39;00m result \u001b[39mis\u001b[39;00m \u001b[39mnot\u001b[39;00m \u001b[39mNone\u001b[39;00m:\n\u001b[1;32m     17\u001b[0m         \u001b[39mreturn\u001b[39;00m result\n\u001b[0;32m---> 18\u001b[0m \u001b[39mreturn\u001b[39;00m \u001b[39msuper\u001b[39;49m()\u001b[39m.\u001b[39;49m\u001b[39m__call__\u001b[39;49m(\u001b[39m*\u001b[39;49margs, \u001b[39m*\u001b[39;49m\u001b[39m*\u001b[39;49mkwargs)\n",
      "File \u001b[0;32m~/Library/r-miniconda-arm64/envs/basilica-env/lib/python3.9/site-packages/torch/distributions/independent.py:42\u001b[0m, in \u001b[0;36mIndependent.__init__\u001b[0;34m(self, base_distribution, reinterpreted_batch_ndims, validate_args)\u001b[0m\n\u001b[1;32m     40\u001b[0m \u001b[39mdef\u001b[39;00m \u001b[39m__init__\u001b[39m(\u001b[39mself\u001b[39m, base_distribution, reinterpreted_batch_ndims, validate_args\u001b[39m=\u001b[39m\u001b[39mNone\u001b[39;00m):\n\u001b[1;32m     41\u001b[0m     \u001b[39mif\u001b[39;00m reinterpreted_batch_ndims \u001b[39m>\u001b[39m \u001b[39mlen\u001b[39m(base_distribution\u001b[39m.\u001b[39mbatch_shape):\n\u001b[0;32m---> 42\u001b[0m         \u001b[39mraise\u001b[39;00m \u001b[39mValueError\u001b[39;00m(\u001b[39m\"\u001b[39m\u001b[39mExpected reinterpreted_batch_ndims <= len(base_distribution.batch_shape), \u001b[39m\u001b[39m\"\u001b[39m\n\u001b[1;32m     43\u001b[0m                          \u001b[39m\"\u001b[39m\u001b[39mactual \u001b[39m\u001b[39m{}\u001b[39;00m\u001b[39m vs \u001b[39m\u001b[39m{}\u001b[39;00m\u001b[39m\"\u001b[39m\u001b[39m.\u001b[39mformat(reinterpreted_batch_ndims,\n\u001b[1;32m     44\u001b[0m                                                   \u001b[39mlen\u001b[39m(base_distribution\u001b[39m.\u001b[39mbatch_shape)))\n\u001b[1;32m     45\u001b[0m     shape \u001b[39m=\u001b[39m base_distribution\u001b[39m.\u001b[39mbatch_shape \u001b[39m+\u001b[39m base_distribution\u001b[39m.\u001b[39mevent_shape\n\u001b[1;32m     46\u001b[0m     event_dim \u001b[39m=\u001b[39m reinterpreted_batch_ndims \u001b[39m+\u001b[39m \u001b[39mlen\u001b[39m(base_distribution\u001b[39m.\u001b[39mevent_shape)\n",
      "\u001b[0;31mValueError\u001b[0m: Expected reinterpreted_batch_ndims <= len(base_distribution.batch_shape), actual 1 vs 0\n         Trace Shapes:         \n          Param Sites:         \n         Sample Sites:         \n                n dist     |   \n                 value 150 |   \n  latent_exposure dist 150 |  3\n                 value 150 |  3\n     beta_d_plate dist     |   \n                 value   3 |   \n           beta_w dist   3 |  2\n                 value   3 |  2\n        beta_w_dn dist   3 |  3\n                 value   3 |  3\n         k_denovo dist     |   \n                 value   3 |   \nlatent_signatures dist   3 | 96\n                 value   3 | 96\n               n2 dist     |   \n                 value 150 |   \n              obs dist 150 | 96\n                 value 150 | 96"
     ]
    }
   ],
   "source": [
    "obj_sbs = run.fit(\n",
    "    x=m_sbs, \n",
    "    k_list=[3], \n",
    "    lr=0.005, \n",
    "    optim_gamma=0.1,\n",
    "    n_steps=10, \n",
    "    # cluster=6,\n",
    "    dirichlet_prior=True,\n",
    "    beta_fixed=cosmic_sbs.loc[[\"SBS1\",\"SBS5\"]], \n",
    "    hyperparameters={\"alpha_sigma\":.15, \"alpha_p_sigma\":1., \"alpha_p_conc0\":0.6, \n",
    "                     \"alpha_p_conc1\":0.6, \"alpha_rate\":1., \"pi_conc0\":0.6, \"alpha_conc\":100,\n",
    "                     \"scale_factor_alpha\":5000, \"scale_factor_centroid\":5000, \"scale_tau\":0},\n",
    "    enforce_sparsity = True, \n",
    "    reg_weight=0., \n",
    "    store_parameters = True, \n",
    "    seed_list=[92,30],\n",
    "    nonparametric=True,\n",
    "    store_fits=True\n",
    "    )\n"
   ]
  },
  {
   "cell_type": "code",
   "execution_count": 206,
   "metadata": {},
   "outputs": [
    {
     "data": {
      "text/plain": [
       "<seaborn.axisgrid.FacetGrid at 0x155e8f8b0>"
      ]
     },
     "execution_count": 206,
     "metadata": {},
     "output_type": "execute_result"
    },
    {
     "data": {
      "image/png": "[encoded data removed]",
      "text/plain": [
       "<Figure size 500x500 with 1 Axes>"
      ]
     },
     "metadata": {},
     "output_type": "display_data"
    }
   ],
   "source": [
    "sns.displot(pyro.distributions.Dirichlet(torch.tensor([59., 99.])/1).sample((100,))[:,1].tolist())"
   ]
  },
  {
   "cell_type": "code",
   "execution_count": 154,
   "metadata": {},
   "outputs": [
    {
     "data": {
      "text/plain": [
       "tensor([0.0120, 0.0094, 0.0018, 0.0066, 0.0101, 0.0057, 0.0017, 0.0101, 0.0599,\n",
       "        0.0179, 0.4055, 0.0220, 0.0074, 0.0069, 0.0091, 0.0062, 0.0462, 0.0134,\n",
       "        0.0382, 0.0383, 0.0039, 0.0026, 0.0079, 0.0048, 0.0074, 0.0061, 0.0035,\n",
       "        0.0065, 0.0070, 0.0091, 0.0025, 0.0095, 0.0194, 0.0190, 0.2319, 0.0231,\n",
       "        0.0035, 0.0052, 0.0050, 0.0043, 0.0133, 0.0104, 0.0208, 0.0149, 0.0026,\n",
       "        0.0046, 0.0061, 0.0073, 0.0102, 0.0076, 0.0023, 0.0068, 0.0047, 0.0051,\n",
       "        0.0015, 0.0067, 0.0194, 0.0216, 0.2508, 0.0186, 0.0037, 0.0029, 0.0041,\n",
       "        0.0032, 0.0141, 0.0079, 0.0150, 0.0137, 0.0025, 0.0017, 0.0053, 0.0023,\n",
       "        0.0079, 0.0092, 0.0023, 0.0127, 0.0078, 0.0076, 0.0017, 0.0125, 0.0203,\n",
       "        0.0230, 0.1362, 0.0210, 0.0063, 0.0041, 0.0048, 0.0087, 0.0180, 0.0097,\n",
       "        0.0127, 0.0185, 0.0052, 0.0066, 0.0069, 0.0135], dtype=torch.float64)"
      ]
     },
     "execution_count": 154,
     "metadata": {},
     "output_type": "execute_result"
    }
   ],
   "source": [
    "torch.sum(fixed, dim=0)"
   ]
  },
  {
   "cell_type": "code",
   "execution_count": 151,
   "metadata": {},
   "outputs": [
    {
     "name": "stdout",
     "output_type": "stream",
     "text": [
      "tensor(93229.3786, dtype=torch.float64)\n",
      "tensor(3165.8104, dtype=torch.float64)\n"
     ]
    }
   ],
   "source": [
    "fixed = torch.tensor(obj_sbs.beta_fixed.values)\n",
    "beta_w = torch.tensor(obj_sbs.params[\"beta_w\"].values)\n",
    "denovo = torch.tensor(obj_sbs.params[\"beta_d\"].values)\n",
    "cum_weights = torch.ones((obj_sbs.k_denovo, obj_sbs.k_fixed))/obj_sbs.k_fixed\n",
    "\n",
    "fixed_cum = obj_sbs._get_unique_beta_stick_breaking(beta_fixed=fixed, beta_denovo=None, beta_weights=cum_weights)\n",
    "fixed_cum = obj_sbs._norm_and_clamp(fixed_cum)\n",
    "\n",
    "print(torch.sum((fixed_cum * (torch.abs(fixed_cum - denovo)))) * torch.tensor(obj_sbs.x.values).sum())\n",
    "print(torch.sum((fixed_cum * (torch.abs(fixed_cum - denovo)))) * obj_sbs.x.shape[0] * obj_sbs.x.shape[1])\n"
   ]
  },
  {
   "cell_type": "code",
   "execution_count": 144,
   "metadata": {},
   "outputs": [
    {
     "data": {
      "text/plain": [
       "[548331.2661516825,\n",
       " 547488.5308755352,\n",
       " 546821.1517237026,\n",
       " 546292.3403537681,\n",
       " 545873.1326154,\n",
       " 545540.6874320571,\n",
       " 545276.968117238,\n",
       " 545067.7160041195,\n",
       " 544901.6488833965,\n",
       " 544769.8331482353]"
      ]
     },
     "execution_count": 144,
     "metadata": {},
     "output_type": "execute_result"
    }
   ],
   "source": [
    "obj_sbs.losses"
   ]
  },
  {
   "cell_type": "code",
   "execution_count": 127,
   "metadata": {},
   "outputs": [
    {
     "data": {
      "text/plain": [
       "1"
      ]
     },
     "execution_count": 127,
     "metadata": {},
     "output_type": "execute_result"
    }
   ],
   "source": [
    "len(obj_sbs.train_params)"
   ]
  },
  {
   "cell_type": "code",
   "execution_count": 102,
   "metadata": {},
   "outputs": [
    {
     "data": {
      "text/plain": [
       "tensor([-1197.6662, -2173.9854], dtype=torch.float64)"
      ]
     },
     "execution_count": 102,
     "metadata": {},
     "output_type": "execute_result"
    }
   ],
   "source": [
    "pyro.distributions.Dirichlet(fixed_cum*1000).log_prob(denovo) "
   ]
  },
  {
   "cell_type": "code",
   "execution_count": 71,
   "metadata": {},
   "outputs": [
    {
     "data": {
      "text/plain": [
       "dict_keys(['beta_weights', 'kappa', 'beta_denovo', 'alpha'])"
      ]
     },
     "execution_count": 71,
     "metadata": {},
     "output_type": "execute_result"
    }
   ],
   "source": [
    "obj_sbs.gradient_norms.keys()"
   ]
  },
  {
   "cell_type": "code",
   "execution_count": 72,
   "metadata": {},
   "outputs": [
    {
     "data": {
      "text/html": [
       "<div>\n",
       "<style scoped>\n",
       "    .dataframe tbody tr th:only-of-type {\n",
       "        vertical-align: middle;\n",
       "    }\n",
       "\n",
       "    .dataframe tbody tr th {\n",
       "        vertical-align: top;\n",
       "    }\n",
       "\n",
       "    .dataframe thead th {\n",
       "        text-align: right;\n",
       "    }\n",
       "</style>\n",
       "<table border=\"1\" class=\"dataframe\">\n",
       "  <thead>\n",
       "    <tr style=\"text-align: right;\">\n",
       "      <th></th>\n",
       "      <th>SBS1</th>\n",
       "      <th>SBS5</th>\n",
       "      <th>DN</th>\n",
       "    </tr>\n",
       "  </thead>\n",
       "  <tbody>\n",
       "    <tr>\n",
       "      <th>D1</th>\n",
       "      <td>0.010390</td>\n",
       "      <td>0.053112</td>\n",
       "      <td>0.936498</td>\n",
       "    </tr>\n",
       "    <tr>\n",
       "      <th>D2</th>\n",
       "      <td>0.012151</td>\n",
       "      <td>0.031028</td>\n",
       "      <td>0.956821</td>\n",
       "    </tr>\n",
       "  </tbody>\n",
       "</table>\n",
       "</div>"
      ],
      "text/plain": [
       "        SBS1      SBS5        DN\n",
       "D1  0.010390  0.053112  0.936498\n",
       "D2  0.012151  0.031028  0.956821"
      ]
     },
     "execution_count": 72,
     "metadata": {},
     "output_type": "execute_result"
    }
   ],
   "source": [
    "## self.x.sum() * torch.sum(beta_fixed_cum * (1 - torch.abs(beta_fixed_cum - beta_denovo)))\n",
    "obj_sbs.params[\"beta_w\"] "
   ]
  },
  {
   "cell_type": "code",
   "execution_count": 69,
   "metadata": {},
   "outputs": [
    {
     "data": {
      "text/html": [
       "<div>\n",
       "<style scoped>\n",
       "    .dataframe tbody tr th:only-of-type {\n",
       "        vertical-align: middle;\n",
       "    }\n",
       "\n",
       "    .dataframe tbody tr th {\n",
       "        vertical-align: top;\n",
       "    }\n",
       "\n",
       "    .dataframe thead th {\n",
       "        text-align: right;\n",
       "    }\n",
       "</style>\n",
       "<table border=\"1\" class=\"dataframe\">\n",
       "  <thead>\n",
       "    <tr style=\"text-align: right;\">\n",
       "      <th></th>\n",
       "      <th>SBS1</th>\n",
       "      <th>SBS5</th>\n",
       "      <th>DN</th>\n",
       "    </tr>\n",
       "  </thead>\n",
       "  <tbody>\n",
       "    <tr>\n",
       "      <th>D1</th>\n",
       "      <td>0.190525</td>\n",
       "      <td>0.001543</td>\n",
       "      <td>0.807932</td>\n",
       "    </tr>\n",
       "    <tr>\n",
       "      <th>D2</th>\n",
       "      <td>0.310543</td>\n",
       "      <td>0.002051</td>\n",
       "      <td>0.687406</td>\n",
       "    </tr>\n",
       "  </tbody>\n",
       "</table>\n",
       "</div>"
      ],
      "text/plain": [
       "        SBS1      SBS5        DN\n",
       "D1  0.190525  0.001543  0.807932\n",
       "D2  0.310543  0.002051  0.687406"
      ]
     },
     "execution_count": 69,
     "metadata": {},
     "output_type": "execute_result"
    }
   ],
   "source": [
    "## self.x.sum() * torch.sum(beta_fixed_cum * (torch.abs(beta_fixed_cum - beta_denovo)))\n",
    "obj_sbs.params[\"beta_w\"] "
   ]
  },
  {
   "cell_type": "code",
   "execution_count": 94,
   "metadata": {},
   "outputs": [
    {
     "data": {
      "text/html": [
       "<div>\n",
       "<style scoped>\n",
       "    .dataframe tbody tr th:only-of-type {\n",
       "        vertical-align: middle;\n",
       "    }\n",
       "\n",
       "    .dataframe tbody tr th {\n",
       "        vertical-align: top;\n",
       "    }\n",
       "\n",
       "    .dataframe thead th {\n",
       "        text-align: right;\n",
       "    }\n",
       "</style>\n",
       "<table border=\"1\" class=\"dataframe\">\n",
       "  <thead>\n",
       "    <tr style=\"text-align: right;\">\n",
       "      <th></th>\n",
       "      <th>SBS1</th>\n",
       "      <th>SBS5</th>\n",
       "      <th>DN</th>\n",
       "    </tr>\n",
       "  </thead>\n",
       "  <tbody>\n",
       "    <tr>\n",
       "      <th>D1</th>\n",
       "      <td>0.164594</td>\n",
       "      <td>0.012627</td>\n",
       "      <td>0.822779</td>\n",
       "    </tr>\n",
       "    <tr>\n",
       "      <th>D2</th>\n",
       "      <td>0.290413</td>\n",
       "      <td>0.007297</td>\n",
       "      <td>0.702290</td>\n",
       "    </tr>\n",
       "  </tbody>\n",
       "</table>\n",
       "</div>"
      ],
      "text/plain": [
       "        SBS1      SBS5        DN\n",
       "D1  0.164594  0.012627  0.822779\n",
       "D2  0.290413  0.007297  0.702290"
      ]
     },
     "execution_count": 94,
     "metadata": {},
     "output_type": "execute_result"
    }
   ],
   "source": [
    "## self.x.sum() * torch.sum(beta_fixed_cum * (torch.abs(beta_fixed_cum - beta_denovo)))\n",
    "obj_sbs.params[\"beta_w\"] "
   ]
  },
  {
   "cell_type": "code",
   "execution_count": 105,
   "metadata": {},
   "outputs": [
    {
     "data": {
      "text/html": [
       "<div>\n",
       "<style scoped>\n",
       "    .dataframe tbody tr th:only-of-type {\n",
       "        vertical-align: middle;\n",
       "    }\n",
       "\n",
       "    .dataframe tbody tr th {\n",
       "        vertical-align: top;\n",
       "    }\n",
       "\n",
       "    .dataframe thead th {\n",
       "        text-align: right;\n",
       "    }\n",
       "</style>\n",
       "<table border=\"1\" class=\"dataframe\">\n",
       "  <thead>\n",
       "    <tr style=\"text-align: right;\">\n",
       "      <th></th>\n",
       "      <th>SBS1</th>\n",
       "      <th>SBS5</th>\n",
       "      <th>DN</th>\n",
       "    </tr>\n",
       "  </thead>\n",
       "  <tbody>\n",
       "    <tr>\n",
       "      <th>D1</th>\n",
       "      <td>0.003888</td>\n",
       "      <td>0.302277</td>\n",
       "      <td>0.693835</td>\n",
       "    </tr>\n",
       "    <tr>\n",
       "      <th>D2</th>\n",
       "      <td>0.017563</td>\n",
       "      <td>0.138528</td>\n",
       "      <td>0.843909</td>\n",
       "    </tr>\n",
       "  </tbody>\n",
       "</table>\n",
       "</div>"
      ],
      "text/plain": [
       "        SBS1      SBS5        DN\n",
       "D1  0.003888  0.302277  0.693835\n",
       "D2  0.017563  0.138528  0.843909"
      ]
     },
     "execution_count": 105,
     "metadata": {},
     "output_type": "execute_result"
    }
   ],
   "source": [
    "## self.n_samples * self.contexts * pyro.distributions.Dirichlet(beta_fixed_cum*1000).to_event(1).log_prob(beta_denovo))\n",
    "obj_sbs.params[\"beta_w\"] "
   ]
  },
  {
   "cell_type": "code",
   "execution_count": 101,
   "metadata": {},
   "outputs": [
    {
     "data": {
      "text/plain": [
       "tensor([[0.2734, 0.3623, 0.3643],\n",
       "        [0.3783, 0.2133, 0.4084]], dtype=torch.float64, grad_fn=<DivBackward0>)"
      ]
     },
     "execution_count": 101,
     "metadata": {},
     "output_type": "execute_result"
    }
   ],
   "source": [
    "pyro.param(\"beta_weights\")"
   ]
  },
  {
   "cell_type": "code",
   "execution_count": 99,
   "metadata": {},
   "outputs": [
    {
     "data": {
      "text/plain": [
       "tensor([[0.2734, 0.3623, 0.3643],\n",
       "        [0.3783, 0.2133, 0.4084]], dtype=torch.float64)"
      ]
     },
     "execution_count": 99,
     "metadata": {},
     "output_type": "execute_result"
    }
   ],
   "source": [
    "obj_sbs.params[\"beta_w\"] "
   ]
  },
  {
   "cell_type": "code",
   "execution_count": 100,
   "metadata": {},
   "outputs": [
    {
     "data": {
      "text/plain": [
       "dict_keys(['beta_denovo', 'alpha'])"
      ]
     },
     "execution_count": 100,
     "metadata": {},
     "output_type": "execute_result"
    }
   ],
   "source": [
    "obj_sbs.gradient_norms.keys() "
   ]
  },
  {
   "cell_type": "code",
   "execution_count": 42,
   "metadata": {},
   "outputs": [
    {
     "data": {
      "text/plain": [
       "0      1.0\n",
       "1      1.0\n",
       "2      1.0\n",
       "3      1.0\n",
       "4      1.0\n",
       "      ... \n",
       "145    1.0\n",
       "146    1.0\n",
       "147    1.0\n",
       "148    1.0\n",
       "149    1.0\n",
       "Length: 150, dtype: float32"
      ]
     },
     "execution_count": 42,
     "metadata": {},
     "output_type": "execute_result"
    }
   ],
   "source": [
    "obj_sbs.params[\"alpha\"].sum(axis=1)"
   ]
  },
  {
   "cell_type": "code",
   "execution_count": 9,
   "metadata": {},
   "outputs": [
    {
     "name": "stdout",
     "output_type": "stream",
     "text": [
      "beta weights\n",
      " tensor([[0.5773, 0.1750, 0.0487, 0.1990],\n",
      "        [0.0189, 0.2324, 0.1488, 0.5999]])\n",
      "alpha star\n",
      " tensor([[0.4076, 0.5924],\n",
      "        [0.0937, 0.9063],\n",
      "        [0.3129, 0.6871],\n",
      "        [0.5145, 0.4855],\n",
      "        [0.9945, 0.0055]])\n"
     ]
    }
   ],
   "source": [
    "k_dn = 2\n",
    "k_f = 3\n",
    "n_samples = 5\n",
    "beta_weights = pyro.distributions.Dirichlet(torch.ones(k_dn, k_f+1)).sample()\n",
    "alpha_star = pyro.distributions.Dirichlet(torch.ones(n_samples, k_dn)).sample()\n",
    "print(\"beta weights\\n\", beta_weights)\n",
    "print(\"alpha star\\n\", alpha_star)"
   ]
  },
  {
   "cell_type": "code",
   "execution_count": 36,
   "metadata": {},
   "outputs": [
    {
     "data": {
      "text/plain": [
       "tensor(0.1488)"
      ]
     },
     "execution_count": 36,
     "metadata": {},
     "output_type": "execute_result"
    }
   ],
   "source": [
    "beta_weights[1,2]"
   ]
  },
  {
   "cell_type": "code",
   "execution_count": 13,
   "metadata": {},
   "outputs": [
    {
     "name": "stdout",
     "output_type": "stream",
     "text": [
      "tensor([[0.2465, 0.2090, 0.1080, 0.4365, 0.4365],\n",
      "        [0.0712, 0.2271, 0.1394, 0.5624, 0.5624],\n",
      "        [0.1936, 0.2145, 0.1174, 0.4745, 0.4745],\n",
      "        [0.3062, 0.2029, 0.0973, 0.3937, 0.3937],\n",
      "        [0.5742, 0.1753, 0.0492, 0.2012, 0.2012]])\n"
     ]
    }
   ],
   "source": [
    "alpha = torch.zeros((n_samples, k_dn+k_f))\n",
    "\n",
    "for n in range(n_samples):\n",
    "    for j in range(k_dn):\n",
    "        for r in range(k_f):\n",
    "            alpha[n, r] += torch.sum(alpha_star[n,j]) * beta_weights[j,r]\n",
    "        \n",
    "        for d in range(k_f, k_f+k_dn):\n",
    "            alpha[n, d] += torch.sum(alpha_star[n,j]) * beta_weights[j,-1]\n",
    "\n",
    "print(alpha)"
   ]
  },
  {
   "cell_type": "code",
   "execution_count": null,
   "metadata": {},
   "outputs": [],
   "source": [
    "obj_sbs.params[\"beta_w\"]"
   ]
  },
  {
   "cell_type": "code",
   "execution_count": null,
   "metadata": {},
   "outputs": [],
   "source": [
    "obj_sbs.params[\"beta_d\"]"
   ]
  },
  {
   "cell_type": "code",
   "execution_count": null,
   "metadata": {},
   "outputs": [],
   "source": [
    "obj_dbs = run.fit(\n",
    "    x=m_dbs, \n",
    "    k_list=3, \n",
    "    lr=0.005, \n",
    "    optim_gamma=0.1,\n",
    "    n_steps=10, \n",
    "    # cluster=6, \n",
    "    dirichlet_prior=True,\n",
    "    beta_fixed=cosmic_dbs.loc[[\"DBS4\"]], \n",
    "    hyperparameters={\"alpha_sigma\":.15, \"alpha_p_sigma\":1., \"alpha_p_conc0\":0.6, \n",
    "                     \"alpha_p_conc1\":0.6, \"alpha_rate\":1., \"pi_conc0\":0.5, \"alpha_conc\":100,\n",
    "                     \"scale_factor_alpha\":10000, \"scale_factor_centroid\":1000, \"scale_tau\":0},\n",
    "    enforce_sparsity = True, \n",
    "    reg_weight=0., \n",
    "    store_parameters = True, \n",
    "    seed_list=[92],\n",
    "    nonparametric=True,\n",
    "    store_fits=True\n",
    "    )\n"
   ]
  },
  {
   "cell_type": "code",
   "execution_count": null,
   "metadata": {},
   "outputs": [],
   "source": [
    "alpha_sbs = obj_sbs.params[\"alpha\"] \n",
    "alpha_dbs = obj_dbs.params[\"alpha\"] "
   ]
  },
  {
   "cell_type": "code",
   "execution_count": null,
   "metadata": {},
   "outputs": [],
   "source": [
    "input = [alpha_sbs, alpha_dbs] \n",
    "input_tensor = [torch.tensor(alpha_sbs.values), torch.tensor(alpha_dbs.values)]\n",
    "max_shape = max([i.shape[1] for i in input_tensor])\n",
    "# stacked = torch.stack(input_tensor)"
   ]
  },
  {
   "cell_type": "code",
   "execution_count": null,
   "metadata": {},
   "outputs": [],
   "source": [
    "mixture = run.fit(\n",
    "    alpha=input, \n",
    "    lr=0.005, \n",
    "    optim_gamma=0.1,\n",
    "    n_steps=3000,\n",
    "    cluster=5, \n",
    "    hyperparameters={\"alpha_sigma\":.15, \"alpha_p_sigma\":1., \"alpha_p_conc0\":0.6, \n",
    "                     \"alpha_p_conc1\":0.6, \"alpha_rate\":1., \"pi_conc0\":0.5, \"alpha_conc\":100,\n",
    "                     \"scale_factor_alpha\":10000, \"scale_factor_centroid\":1000, \"scale_tau\":0},\n",
    "    store_parameters = True, \n",
    "    seed_list=[92],\n",
    "    nonparametric=True,\n",
    "    store_fits=True\n",
    "    )\n"
   ]
  },
  {
   "cell_type": "code",
   "execution_count": null,
   "metadata": {},
   "outputs": [],
   "source": [
    "import torch.nn.functional as F\n",
    "def mix_weights(beta):\n",
    "    '''\n",
    "    Function used for the stick-breaking process.\n",
    "    '''\n",
    "    print(\"beta =\", beta)\n",
    "    beta1m_cumprod = (1 - beta).cumprod(-1)\n",
    "    print(\"beta1m_cumprod =\", beta1m_cumprod)\n",
    "    res1 = F.pad(beta, (0, 1), value=1)\n",
    "    res2 = F.pad(beta1m_cumprod, (1, 0), value=1)\n",
    "    res = res1 * res2\n",
    "    print(f\"res1 = {res1}, res2 = {res2}, res = {res}\\n\")\n",
    "    return res\n"
   ]
  },
  {
   "cell_type": "code",
   "execution_count": null,
   "metadata": {},
   "outputs": [],
   "source": [
    "cluster = 6\n",
    "with pyro.plate(\"beta_plate\", cluster-1):\n",
    "    pi_beta = pyro.sample(f\"beta\", pyro.distributions.Beta(1, 1.1755e-36))\n",
    "    # pi_beta = torch.tensor([1.1755e-36, 2.1648e-18, 1.1755e-36, 6.6389e-33, 1.1755e-36])\n",
    "    print(\"pi_beta =\", pi_beta)\n",
    "    pi = mix_weights(pi_beta)\n",
    "\n",
    "print(pi)"
   ]
  },
  {
   "cell_type": "code",
   "execution_count": null,
   "metadata": {},
   "outputs": [],
   "source": []
  },
  {
   "cell_type": "code",
   "execution_count": null,
   "metadata": {},
   "outputs": [],
   "source": [
    "beta_star = torch.zeros(k_denovo, 96, dtype=torch.float64) \n",
    "for i in range(k_denovo):\n",
    "    tmp_sbs = torch.cat((ref_sbs, dn_sbs[i].unsqueeze(0)))\n",
    "    beta_star[i] = pi[i].unsqueeze(0).matmul(tmp_sbs) "
   ]
  },
  {
   "cell_type": "code",
   "execution_count": null,
   "metadata": {},
   "outputs": [],
   "source": [
    "pyro.distributions.Gamma(0.01, 0.01).sample((5,))"
   ]
  },
  {
   "cell_type": "code",
   "execution_count": null,
   "metadata": {},
   "outputs": [],
   "source": [
    "pyro.distributions.Dirichlet(torch.ones(5)).sample()"
   ]
  },
  {
   "cell_type": "code",
   "execution_count": null,
   "metadata": {},
   "outputs": [],
   "source": [
    "(1 - pyro.distributions.Beta(1, 1e-10).sample((cluster-1,))).cumprod(-1)"
   ]
  },
  {
   "cell_type": "code",
   "execution_count": null,
   "metadata": {},
   "outputs": [],
   "source": [
    "pi = torch.zeros((10,))\n",
    "pi[:5] = 5\n",
    "pi "
   ]
  },
  {
   "cell_type": "code",
   "execution_count": null,
   "metadata": {},
   "outputs": [],
   "source": [
    "alpha_centr = mixture[0].params[\"alpha_prior\"]\n",
    "print(alpha_centr) "
   ]
  },
  {
   "cell_type": "code",
   "execution_count": null,
   "metadata": {},
   "outputs": [],
   "source": [
    "print(sklearn.metrics.normalized_mutual_info_score(mixture.groups, g_sbs)) \n",
    "print(sklearn.metrics.normalized_mutual_info_score(mixture.groups, g_dbs)) "
   ]
  },
  {
   "cell_type": "code",
   "execution_count": null,
   "metadata": {},
   "outputs": [],
   "source": [
    "print(obj_sbs.params[\"scale_factor_centroid\"])\n",
    "print(obj_sbs.params[\"scale_factor_alpha\"]) "
   ]
  },
  {
   "cell_type": "code",
   "execution_count": null,
   "metadata": {},
   "outputs": [],
   "source": [
    "obj_sbs.params"
   ]
  },
  {
   "cell_type": "code",
   "execution_count": null,
   "metadata": {},
   "outputs": [],
   "source": [
    "obj_sbs.train_params[6][\"scale_factor_centroid\"]"
   ]
  },
  {
   "cell_type": "code",
   "execution_count": null,
   "metadata": {},
   "outputs": [],
   "source": [
    "obj_sbs.params[\"pi_conc0\"] "
   ]
  },
  {
   "cell_type": "code",
   "execution_count": null,
   "metadata": {},
   "outputs": [],
   "source": [
    "sns.scatterplot(x=range(len(obj_sbs.likelihoods)), y=obj_sbs.likelihoods) "
   ]
  },
  {
   "cell_type": "code",
   "execution_count": null,
   "metadata": {},
   "outputs": [],
   "source": [
    "sns.scatterplot(x=range(len(obj_sbs.losses)), y=obj_sbs.losses) "
   ]
  },
  {
   "cell_type": "code",
   "execution_count": null,
   "metadata": {},
   "outputs": [],
   "source": [
    "try: sns.scatterplot(x=range(len(obj_sbs.gradient_norms[\"scale_factor_centroid_param\"])), \n",
    "                     y=obj_sbs.gradient_norms[\"scale_factor_centroid_param\"]) \n",
    "except: print() "
   ]
  },
  {
   "cell_type": "code",
   "execution_count": null,
   "metadata": {},
   "outputs": [],
   "source": [
    "try: sns.scatterplot(x=range(len(obj_sbs.gradient_norms[\"scale_factor_alpha_param\"])), \n",
    "                     y=obj_sbs.gradient_norms[\"scale_factor_alpha_param\"]) \n",
    "except: print() "
   ]
  },
  {
   "cell_type": "code",
   "execution_count": null,
   "metadata": {},
   "outputs": [],
   "source": [
    "try: sns.scatterplot(x=range(len(obj_sbs.gradient_norms[\"alpha_prior_param\"])), y=obj_sbs.gradient_norms[\"alpha_prior_param\"]) \n",
    "except: print() "
   ]
  },
  {
   "cell_type": "code",
   "execution_count": null,
   "metadata": {},
   "outputs": [],
   "source": [
    "try: sns.scatterplot(x=range(len(obj_sbs.gradient_norms[\"alpha_prior_param\"])), y=obj_sbs.gradient_norms[\"alpha_prior_param\"]) \n",
    "except: print() "
   ]
  },
  {
   "cell_type": "code",
   "execution_count": null,
   "metadata": {},
   "outputs": [],
   "source": [
    "try: sns.scatterplot(x=range(len(obj_sbs.gradient_norms[\"pi_param\"])), y=obj_sbs.gradient_norms[\"pi_param\"]) \n",
    "except: print() "
   ]
  },
  {
   "cell_type": "code",
   "execution_count": null,
   "metadata": {},
   "outputs": [],
   "source": [
    "try: sns.scatterplot(x=range(len(obj_sbs.gradient_norms[\"pi_conc0_param\"])), y=obj_sbs.gradient_norms[\"pi_conc0_param\"]) \n",
    "except: print() "
   ]
  },
  {
   "cell_type": "code",
   "execution_count": null,
   "metadata": {},
   "outputs": [],
   "source": [
    "try: sns.scatterplot(x=range(len(obj_sbs.gradient_norms[\"alpha\"])), y=obj_sbs.gradient_norms[\"alpha\"]) \n",
    "except: print() "
   ]
  },
  {
   "cell_type": "code",
   "execution_count": null,
   "metadata": {},
   "outputs": [],
   "source": [
    "try: sns.scatterplot(x=range(len(obj_sbs.gradient_norms[\"beta_denovo\"])), y=obj_sbs.gradient_norms[\"beta_denovo\"])\n",
    "except: print()"
   ]
  },
  {
   "cell_type": "code",
   "execution_count": null,
   "metadata": {},
   "outputs": [],
   "source": [
    "pd.DataFrame(np.array(obj_sbs.init_params[\"alpha_prior_param\"]), columns=obj_sbs.params[\"alpha\"].columns).plot.bar(stacked=True, legend=False) "
   ]
  },
  {
   "cell_type": "code",
   "execution_count": null,
   "metadata": {},
   "outputs": [],
   "source": [
    "try: pd.DataFrame(np.array(obj_sbs.params[\"alpha_prior\"]), columns=obj_sbs.params[\"alpha_prior\"].columns).plot.bar(stacked=True, legend=False) \n",
    "except Exception as e: print() "
   ]
  },
  {
   "cell_type": "code",
   "execution_count": null,
   "metadata": {},
   "outputs": [],
   "source": [
    "try:\n",
    "    for gid in set(np.array(obj_sbs.groups)):\n",
    "        tmp = [i for i, v in enumerate(obj_sbs.groups) if v == gid]\n",
    "        # tmp = [i for i, v in enumerate(obj_sbs.groups) if (v == gid and i in idxs)]\n",
    "        if len(tmp) == 0: continue\n",
    "        pd.DataFrame(np.array(obj_sbs.params[\"alpha\"]), columns=obj_sbs.params[\"alpha\"].columns, \n",
    "                     index=obj_sbs.params[\"alpha\"].index).iloc[tmp].plot.bar(stacked=True)\n",
    "except Exception as e:\n",
    "    print(e)\n",
    "    obj_sbs.alpha.plot.bar(stacked=True, legend=False) \n"
   ]
  },
  {
   "cell_type": "code",
   "execution_count": null,
   "metadata": {},
   "outputs": [],
   "source": [
    "try:\n",
    "    for sbs in pd.concat((obj_sbs.params[\"beta_f\"], obj_sbs.params[\"beta_d\"])).index:\n",
    "        pd.concat((obj_sbs.params[\"beta_f\"], obj_sbs.params[\"beta_d\"])).loc[[sbs]].transpose().plot.bar()\n",
    "except Exception as e:\n",
    "    print(e)"
   ]
  }
 ],
 "metadata": {
  "kernelspec": {
   "display_name": "Python 3 (ipykernel)",
   "language": "python",
   "name": "python3"
  },
  "language_info": {
   "codemirror_mode": {
    "name": "ipython",
    "version": 3
   },
   "file_extension": ".py",
   "mimetype": "text/x-python",
   "name": "python",
   "nbconvert_exporter": "python",
   "pygments_lexer": "ipython3",
   "version": "3.9.16"
  }
 },
 "nbformat": 4,
 "nbformat_minor": 4
}
