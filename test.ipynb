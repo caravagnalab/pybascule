{
 "cells": [
  {
   "cell_type": "code",
   "execution_count": 1,
   "metadata": {
    "tags": []
   },
   "outputs": [
    {
     "name": "stderr",
     "output_type": "stream",
     "text": [
      "/Users/elenab/Library/r-miniconda-arm64/envs/basilica-env/lib/python3.9/site-packages/tqdm/auto.py:21: TqdmWarning: IProgress not found. Please update jupyter and ipywidgets. See https://ipywidgets.readthedocs.io/en/stable/user_install.html\n",
      "  from .autonotebook import tqdm as notebook_tqdm\n"
     ]
    }
   ],
   "source": [
    "import pandas as pd\n",
    "import pybasilica.run as run\n",
    "import torch\n",
    "import pyro\n",
    "import numpy as np\n",
    "import seaborn as sns\n",
    "import sklearn.metrics\n",
    "import torch.nn.functional as F\n",
    "\n",
    "%load_ext autoreload\n",
    "%autoreload 2"
   ]
  },
  {
   "cell_type": "code",
   "execution_count": 2,
   "metadata": {
    "tags": []
   },
   "outputs": [],
   "source": [
    "m_g = pd.read_csv(\"test_datasets/counts_sbs.N150.G3.csv\")\n",
    "m_sbs = m_g.drop([\"groups\"], axis=1)\n",
    "g_sbs = m_g[\"groups\"].tolist()\n",
    "cosmic_sbs = pd.read_csv(\"test_datasets/COSMIC_filt.csv\", index_col=0) "
   ]
  },
  {
   "cell_type": "code",
   "execution_count": null,
   "metadata": {},
   "outputs": [],
   "source": [
    "m_g = pd.read_csv(\"test_datasets/counts_dbs.N150.G3.csv\")\n",
    "m_dbs = m_g.drop([\"groups\"], axis=1)\n",
    "g_dbs = m_g[\"groups\"].tolist()\n",
    "cosmic_dbs = pd.read_csv(\"test_datasets/COSMIC_dbs.csv\", index_col=0) "
   ]
  },
  {
   "cell_type": "code",
   "execution_count": null,
   "metadata": {},
   "outputs": [],
   "source": [
    "dn_sbs = torch.tensor(cosmic_sbs.loc[[\"SBS6\",\"SBS17b\"]].values, dtype=torch.float64)\n",
    "ref_sbs = torch.tensor(cosmic_sbs.loc[[\"SBS1\",\"SBS2\",\"SBS5\"]].values, dtype=torch.float64)\n",
    "k_denovo = dn_sbs.shape[0]\n",
    "k_fixed = ref_sbs.shape[0]\n",
    "\n",
    "def mix_weights(beta):\n",
    "    '''\n",
    "    Function used for the stick-breaking process.\n",
    "    '''\n",
    "    beta1m_cumprod = (1 - beta).cumprod(-1)\n",
    "    return F.pad(beta, (0, 1), value=1) * F.pad(beta1m_cumprod, (1, 0), value=1)\n",
    "\n",
    "with pyro.plate(\"beta_d_plate\", k_denovo):\n",
    "    pi_beta = pyro.sample(\"beta\", pyro.distributions.Beta(torch.ones(k_fixed, dtype=torch.float64), 1.5).to_event(1))\n",
    "    print(pi_beta)\n",
    "    pi = mix_weights(pi_beta)\n",
    "\n",
    "print(pi.shape)\n",
    "print(pi)"
   ]
  },
  {
   "cell_type": "code",
   "execution_count": 26,
   "metadata": {
    "tags": []
   },
   "outputs": [
    {
     "name": "stderr",
     "output_type": "stream",
     "text": [
      "ELBO 353651.992181: 100%|██████████| 100/100 [00:00<00:00, 279.98it/s]\n"
     ]
    },
    {
     "name": "stdout",
     "output_type": "stream",
     "text": [
      "(2, 6)\n"
     ]
    }
   ],
   "source": [
    "obj_sbs = run.fit(\n",
    "    x=m_sbs, \n",
    "    k_list=[3], \n",
    "    lr=0.005, \n",
    "    optim_gamma=0.1,\n",
    "    n_steps=100, \n",
    "    cluster=6,\n",
    "    dirichlet_prior=True,\n",
    "    beta_fixed=cosmic_sbs.loc[[\"SBS1\",\"SBS5\"]], \n",
    "    # hyperparameters={\"penalty_scale\":2},\n",
    "    enforce_sparsity = True, \n",
    "    reg_weight=0., \n",
    "    store_parameters = False, \n",
    "    seed_list=[30],\n",
    "    nonparametric=True,\n",
    "    store_fits=True\n",
    "    )\n"
   ]
  },
  {
   "cell_type": "code",
   "execution_count": 8,
   "metadata": {},
   "outputs": [
    {
     "name": "stderr",
     "output_type": "stream",
     "text": [
      "/Users/elenab/Library/r-miniconda-arm64/envs/basilica-env/lib/python3.9/site-packages/sklearn/cluster/_kmeans.py:1412: FutureWarning: The default value of `n_init` will change from 10 to 'auto' in 1.4. Set the value of `n_init` explicitly to suppress the warning\n",
      "  super()._check_params_vs_input(X, default_n_init=10)\n"
     ]
    }
   ],
   "source": [
    "obj_sbs = run.fit(\n",
    "    alpha=obj_sbs.params[\"alpha\"],\n",
    "    lr=0.005, \n",
    "    optim_gamma=0.1,\n",
    "    n_steps=100, \n",
    "    cluster=6,\n",
    "    # hyperparameters={\"penalty_scale\":2},\n",
    "    store_parameters = False, \n",
    "    seed_list=[30],\n",
    "    nonparametric=True,\n",
    "    store_fits=True\n",
    "    )\n"
   ]
  },
  {
   "cell_type": "code",
   "execution_count": 9,
   "metadata": {},
   "outputs": [
    {
     "data": {
      "text/plain": [
       "{'alpha_prior_param': [17378.446032672313,\n",
       "  17093.29440478204,\n",
       "  16817.215477769507,\n",
       "  16549.958511935427,\n",
       "  16291.270980217847,\n",
       "  16040.909374866496,\n",
       "  15798.634313769771,\n",
       "  15564.215609132127,\n",
       "  15337.407415614322,\n",
       "  15117.98538615348,\n",
       "  14905.722402985504,\n",
       "  14700.386089281425,\n",
       "  14501.760204934968,\n",
       "  14309.61968641887,\n",
       "  14123.749372098016,\n",
       "  13943.937917929496,\n",
       "  13769.980977863353,\n",
       "  13601.677817429836,\n",
       "  13438.83429282176,\n",
       "  13281.267333856884,\n",
       "  13128.786482305659,\n",
       "  12981.221235786807,\n",
       "  12838.399055673624,\n",
       "  12700.153216698358,\n",
       "  12566.321044559823,\n",
       "  12436.759777985235,\n",
       "  12311.310113840207,\n",
       "  12189.8332061507,\n",
       "  12072.193505829384,\n",
       "  11958.257077637607,\n",
       "  11847.893213629415,\n",
       "  11740.983804309668,\n",
       "  11637.403948404684,\n",
       "  11537.037081041992,\n",
       "  11439.773269178355,\n",
       "  11345.509624382114,\n",
       "  11254.139287711832,\n",
       "  11165.562408936043,\n",
       "  11079.679698556278,\n",
       "  10996.40166036542,\n",
       "  10915.634613651491,\n",
       "  10837.295131446934,\n",
       "  10761.300820862172,\n",
       "  10687.567242783058,\n",
       "  10616.018458449662,\n",
       "  10546.574895688338,\n",
       "  10479.169726079454,\n",
       "  10413.729417304145,\n",
       "  10350.19139948554,\n",
       "  10288.485712599037,\n",
       "  10228.55540245565,\n",
       "  10170.338899260409,\n",
       "  10113.77800375406,\n",
       "  10058.815643359969,\n",
       "  10005.398009787708,\n",
       "  9953.475865681177,\n",
       "  9902.998813405571,\n",
       "  9853.922254768657,\n",
       "  9806.196810527957,\n",
       "  9759.782307968193,\n",
       "  9714.633018712277,\n",
       "  9670.71091387506,\n",
       "  9627.973694215336,\n",
       "  9586.384493098656,\n",
       "  9545.909748926428,\n",
       "  9506.51086513158,\n",
       "  9468.155119455616,\n",
       "  9430.815753843426,\n",
       "  9394.453950186402,\n",
       "  9359.044222269413,\n",
       "  9324.558548681203,\n",
       "  9290.965789535356,\n",
       "  9258.243054461354,\n",
       "  9226.360218941361,\n",
       "  9195.297328554743,\n",
       "  9165.025808866405,\n",
       "  9135.526503049443,\n",
       "  9106.772231362833,\n",
       "  9078.746450426106,\n",
       "  9051.426663598322,\n",
       "  9024.79350481241,\n",
       "  8998.824996311792,\n",
       "  8973.508201231183,\n",
       "  8948.81818892472,\n",
       "  8924.741133403759,\n",
       "  8901.258979326358,\n",
       "  8878.359455381391,\n",
       "  8856.020220565619,\n",
       "  8834.22914097778,\n",
       "  8812.970653075241,\n",
       "  8792.232054476224,\n",
       "  8771.999190278182,\n",
       "  8752.256194336096,\n",
       "  8732.99284154681,\n",
       "  8714.195273690246,\n",
       "  8695.853178783553,\n",
       "  8677.952075241457,\n",
       "  8660.480345743996,\n",
       "  8643.427910929944,\n",
       "  8626.78242980341],\n",
       " 'pi_conc0_param': [2.2315306663513184,\n",
       "  2.2315099239349365,\n",
       "  2.231489419937134,\n",
       "  2.23146915435791,\n",
       "  2.231449604034424,\n",
       "  2.2314302921295166,\n",
       "  2.2314112186431885,\n",
       "  2.2313926219940186,\n",
       "  2.2313742637634277,\n",
       "  2.231356382369995,\n",
       "  2.2313387393951416,\n",
       "  2.2313215732574463,\n",
       "  2.23130464553833,\n",
       "  2.231287956237793,\n",
       "  2.231271743774414,\n",
       "  2.2312557697296143,\n",
       "  2.2312400341033936,\n",
       "  2.231224775314331,\n",
       "  2.2312095165252686,\n",
       "  2.2311949729919434,\n",
       "  2.231180429458618,\n",
       "  2.231166124343872,\n",
       "  2.231152296066284,\n",
       "  2.2311387062072754,\n",
       "  2.2311253547668457,\n",
       "  2.231112241744995,\n",
       "  2.2310993671417236,\n",
       "  2.2310869693756104,\n",
       "  2.231074571609497,\n",
       "  2.231062650680542,\n",
       "  2.231050729751587,\n",
       "  2.23103928565979,\n",
       "  2.231027841567993,\n",
       "  2.2310166358947754,\n",
       "  2.231005907058716,\n",
       "  2.2309954166412354,\n",
       "  2.230984926223755,\n",
       "  2.2309746742248535,\n",
       "  2.2309646606445312,\n",
       "  2.230954885482788,\n",
       "  2.230945348739624,\n",
       "  2.23093581199646,\n",
       "  2.230926752090454,\n",
       "  2.2309176921844482,\n",
       "  2.2309091091156006,\n",
       "  2.230900287628174,\n",
       "  2.2308919429779053,\n",
       "  2.2308835983276367,\n",
       "  2.2308754920959473,\n",
       "  2.230867624282837,\n",
       "  2.2308599948883057,\n",
       "  2.2308521270751953,\n",
       "  2.2308449745178223,\n",
       "  2.230837821960449,\n",
       "  2.230830430984497,\n",
       "  2.230823516845703,\n",
       "  2.2308168411254883,\n",
       "  2.2308101654052734,\n",
       "  2.2308037281036377,\n",
       "  2.230797290802002,\n",
       "  2.2307910919189453,\n",
       "  2.2307848930358887,\n",
       "  2.230778932571411,\n",
       "  2.2307732105255127,\n",
       "  2.2307674884796143,\n",
       "  2.230761766433716,\n",
       "  2.2307562828063965,\n",
       "  2.2307510375976562,\n",
       "  2.230745792388916,\n",
       "  2.230740547180176,\n",
       "  2.2307355403900146,\n",
       "  2.2307307720184326,\n",
       "  2.2307257652282715,\n",
       "  2.2307212352752686,\n",
       "  2.2307167053222656,\n",
       "  2.2307121753692627,\n",
       "  2.2307076454162598,\n",
       "  2.230703353881836,\n",
       "  2.230699300765991,\n",
       "  2.2306952476501465,\n",
       "  2.2306911945343018,\n",
       "  2.230687141418457,\n",
       "  2.2306835651397705,\n",
       "  2.230679750442505,\n",
       "  2.2306759357452393,\n",
       "  2.2306723594665527,\n",
       "  2.2306690216064453,\n",
       "  2.230665445327759,\n",
       "  2.2306621074676514,\n",
       "  2.230659008026123,\n",
       "  2.2306556701660156,\n",
       "  2.2306525707244873,\n",
       "  2.230649471282959,\n",
       "  2.2306466102600098,\n",
       "  2.2306435108184814,\n",
       "  2.2306406497955322,\n",
       "  2.230637788772583,\n",
       "  2.230635166168213,\n",
       "  2.2306323051452637,\n",
       "  2.2306299209594727],\n",
       " 'pi_param': [4324.770943224808,\n",
       "  4293.576473044864,\n",
       "  4263.454777543167,\n",
       "  4234.382420590917,\n",
       "  4206.333914323515,\n",
       "  4179.283667705567,\n",
       "  4153.205317784566,\n",
       "  4128.072757392422,\n",
       "  4103.856123769583,\n",
       "  4080.528349675454,\n",
       "  4058.061268776062,\n",
       "  4036.425289626646,\n",
       "  4015.593128807574,\n",
       "  3995.5354971643146,\n",
       "  3976.224308854221,\n",
       "  3957.6316247548993,\n",
       "  3939.730211676572,\n",
       "  3922.4929723336604,\n",
       "  3905.893487355847,\n",
       "  3889.9068485018697,\n",
       "  3874.50641752182,\n",
       "  3859.6687272687404,\n",
       "  3845.369606584484,\n",
       "  3831.585626691716,\n",
       "  3818.293822460278,\n",
       "  3805.4746143208995,\n",
       "  3793.1052493864927,\n",
       "  3781.1665413481346,\n",
       "  3769.639812439103,\n",
       "  3758.506601090717,\n",
       "  3747.748968781241,\n",
       "  3737.3512854890714,\n",
       "  3727.2966282897332,\n",
       "  3717.5696135922562,\n",
       "  3708.156071237771,\n",
       "  3699.0431637992688,\n",
       "  3690.217301020153,\n",
       "  3681.66618542525,\n",
       "  3673.377611029931,\n",
       "  3665.3411913465293,\n",
       "  3657.545704892928,\n",
       "  3649.981838564382,\n",
       "  3642.6404120753123,\n",
       "  3635.511782022939,\n",
       "  3628.587841589142,\n",
       "  3621.8596905114714,\n",
       "  3615.3207748181603,\n",
       "  3608.9631322701575,\n",
       "  3602.7808113039973,\n",
       "  3596.766280384757,\n",
       "  3590.9144030686057,\n",
       "  3585.2190016063423,\n",
       "  3579.674409327681,\n",
       "  3574.2750304022607,\n",
       "  3569.015750255485,\n",
       "  3563.8922015691237,\n",
       "  3558.8996248932867,\n",
       "  3554.034263588233,\n",
       "  3549.291248423172,\n",
       "  3544.6673913203867,\n",
       "  3540.158235977593,\n",
       "  3535.7607055814055,\n",
       "  3531.470722185598,\n",
       "  3527.285151019613,\n",
       "  3523.201371648921,\n",
       "  3519.2156077859927,\n",
       "  3515.3251416677626,\n",
       "  3511.528301805983,\n",
       "  3507.820867224702,\n",
       "  3504.2011740858406,\n",
       "  3500.6669325290122,\n",
       "  3497.2150896582184,\n",
       "  3493.8441627552966,\n",
       "  3490.5510752854293,\n",
       "  3487.3347216505367,\n",
       "  3484.1921253088744,\n",
       "  3481.1221338121827,\n",
       "  3478.1218596768763,\n",
       "  3475.1905030591142,\n",
       "  3472.3259354647657,\n",
       "  3469.526608650847,\n",
       "  3466.790327207333,\n",
       "  3464.1166932342644,\n",
       "  3461.5027568970445,\n",
       "  3458.9477688412,\n",
       "  3456.450055461747,\n",
       "  3454.0090504746977,\n",
       "  3451.6220460125246,\n",
       "  3449.2883860955726,\n",
       "  3447.0066241017744,\n",
       "  3444.775873038975,\n",
       "  3442.5948596833346,\n",
       "  3440.4619253541064,\n",
       "  3438.37650589896,\n",
       "  3436.337245587451,\n",
       "  3434.3434765069405,\n",
       "  3432.39360528759,\n",
       "  3430.4865908439706,\n",
       "  3428.621673906923,\n",
       "  3426.7975721374173],\n",
       " 'scale_factor_alpha_param': [74314.671875,\n",
       "  73704.5625,\n",
       "  73115.390625,\n",
       "  72546.4140625,\n",
       "  71996.875,\n",
       "  71466.125,\n",
       "  70953.484375,\n",
       "  70458.328125,\n",
       "  69980.0,\n",
       "  69517.8984375,\n",
       "  69071.4453125,\n",
       "  68640.0546875,\n",
       "  68223.1953125,\n",
       "  67820.3125,\n",
       "  67430.8984375,\n",
       "  67054.4453125,\n",
       "  66690.4765625,\n",
       "  66338.5234375,\n",
       "  65998.140625,\n",
       "  65668.9453125,\n",
       "  65350.44140625,\n",
       "  65042.28515625,\n",
       "  64744.08203125,\n",
       "  64455.4453125,\n",
       "  64176.0078125,\n",
       "  63905.48046875,\n",
       "  63643.48828125,\n",
       "  63389.71484375,\n",
       "  63143.87890625,\n",
       "  62905.6953125,\n",
       "  62674.86328125,\n",
       "  62451.14453125,\n",
       "  62234.265625,\n",
       "  62023.9609375,\n",
       "  61819.99609375,\n",
       "  61622.18359375,\n",
       "  61430.28125,\n",
       "  61244.07421875,\n",
       "  61063.3671875,\n",
       "  60887.96875,\n",
       "  60717.67578125,\n",
       "  60552.34375,\n",
       "  60391.78515625,\n",
       "  60235.84375,\n",
       "  60084.34765625,\n",
       "  59937.1484375,\n",
       "  59794.109375,\n",
       "  59655.08984375,\n",
       "  59519.9609375,\n",
       "  59388.57421875,\n",
       "  59260.83984375,\n",
       "  59136.62890625,\n",
       "  59015.828125,\n",
       "  58898.3125,\n",
       "  58783.9765625,\n",
       "  58672.7421875,\n",
       "  58564.48046875,\n",
       "  58459.140625,\n",
       "  58356.6015625,\n",
       "  58256.80078125,\n",
       "  58159.63671875,\n",
       "  58065.03125,\n",
       "  57972.91015625,\n",
       "  57883.1796875,\n",
       "  57795.796875,\n",
       "  57710.671875,\n",
       "  57627.74609375,\n",
       "  57546.97265625,\n",
       "  57468.25,\n",
       "  57391.546875,\n",
       "  57316.8046875,\n",
       "  57243.953125,\n",
       "  57172.953125,\n",
       "  57103.73828125,\n",
       "  57036.26953125,\n",
       "  56970.48828125,\n",
       "  56906.359375,\n",
       "  56843.81640625,\n",
       "  56782.8359375,\n",
       "  56723.36328125,\n",
       "  56665.375,\n",
       "  56608.796875,\n",
       "  56553.63671875,\n",
       "  56499.81640625,\n",
       "  56447.3203125,\n",
       "  56396.09375,\n",
       "  56346.14453125,\n",
       "  56297.38671875,\n",
       "  56249.81640625,\n",
       "  56203.39453125,\n",
       "  56158.1015625,\n",
       "  56113.90625,\n",
       "  56070.76953125,\n",
       "  56028.66796875,\n",
       "  55987.578125,\n",
       "  55947.484375,\n",
       "  55908.34765625,\n",
       "  55870.13671875,\n",
       "  55832.84375,\n",
       "  55796.421875],\n",
       " 'scale_factor_centroid_param': [10.90485954284668,\n",
       "  8.833344459533691,\n",
       "  6.728518486022949,\n",
       "  4.618934154510498,\n",
       "  2.5407254695892334,\n",
       "  0.5392716526985168,\n",
       "  1.3332277536392212,\n",
       "  3.0232021808624268,\n",
       "  4.4861345291137695,\n",
       "  5.696011543273926,\n",
       "  6.650783538818359,\n",
       "  7.368308067321777,\n",
       "  7.879099369049072,\n",
       "  8.218329429626465,\n",
       "  8.42005729675293,\n",
       "  8.514702796936035,\n",
       "  8.527975082397461,\n",
       "  8.481353759765625,\n",
       "  8.39216136932373,\n",
       "  8.274140357971191,\n",
       "  8.138387680053711,\n",
       "  7.993619441986084,\n",
       "  7.846444129943848,\n",
       "  7.702132701873779,\n",
       "  7.56465482711792,\n",
       "  7.436662197113037,\n",
       "  7.320268154144287,\n",
       "  7.216588973999023,\n",
       "  7.126492023468018,\n",
       "  7.050334453582764,\n",
       "  6.987710475921631,\n",
       "  6.93856954574585,\n",
       "  6.902144432067871,\n",
       "  6.877935886383057,\n",
       "  6.864767551422119,\n",
       "  6.861927509307861,\n",
       "  6.868599891662598,\n",
       "  6.883631229400635,\n",
       "  6.90618896484375,\n",
       "  6.935268878936768,\n",
       "  6.96989631652832,\n",
       "  7.009400367736816,\n",
       "  7.052948474884033,\n",
       "  7.099950313568115,\n",
       "  7.149654865264893,\n",
       "  7.201543807983398,\n",
       "  7.254946708679199,\n",
       "  7.309378147125244,\n",
       "  7.364645481109619,\n",
       "  7.420331001281738,\n",
       "  7.47603702545166,\n",
       "  7.531454563140869,\n",
       "  7.586361885070801,\n",
       "  7.640682697296143,\n",
       "  7.694244861602783,\n",
       "  7.746942520141602,\n",
       "  7.798525333404541,\n",
       "  7.849049091339111,\n",
       "  7.898429870605469,\n",
       "  7.946784019470215,\n",
       "  7.994061470031738,\n",
       "  8.040140151977539,\n",
       "  8.085006713867188,\n",
       "  8.128765106201172,\n",
       "  8.171380996704102,\n",
       "  8.212786674499512,\n",
       "  8.25332260131836,\n",
       "  8.292709350585938,\n",
       "  8.331132888793945,\n",
       "  8.368532180786133,\n",
       "  8.405044555664062,\n",
       "  8.4406156539917,\n",
       "  8.475404739379883,\n",
       "  8.509376525878906,\n",
       "  8.542637825012207,\n",
       "  8.575153350830078,\n",
       "  8.606905937194824,\n",
       "  8.638002395629883,\n",
       "  8.66858959197998,\n",
       "  8.69843578338623,\n",
       "  8.727851867675781,\n",
       "  8.75662612915039,\n",
       "  8.784871101379395,\n",
       "  8.812710762023926,\n",
       "  8.83994197845459,\n",
       "  8.866820335388184,\n",
       "  8.893174171447754,\n",
       "  8.919078826904297,\n",
       "  8.944670677185059,\n",
       "  8.969714164733887,\n",
       "  8.994501113891602,\n",
       "  9.01877212524414,\n",
       "  9.042845726013184,\n",
       "  9.06646728515625,\n",
       "  9.089760780334473,\n",
       "  9.112793922424316,\n",
       "  9.135510444641113,\n",
       "  9.15787410736084,\n",
       "  9.179944038391113,\n",
       "  9.201662063598633]}"
      ]
     },
     "execution_count": 9,
     "metadata": {},
     "output_type": "execute_result"
    }
   ],
   "source": [
    "obj_sbs.gradient_norms "
   ]
  },
  {
   "cell_type": "code",
   "execution_count": null,
   "metadata": {},
   "outputs": [],
   "source": [
    "sns.pointplot(x=[_ for _ in range(100)], y=obj_sbs.regs) "
   ]
  },
  {
   "cell_type": "code",
   "execution_count": null,
   "metadata": {},
   "outputs": [],
   "source": [
    "sns.pointplot(x=[_ for _ in range(100)], y=obj_sbs.likelihoods) "
   ]
  },
  {
   "cell_type": "code",
   "execution_count": null,
   "metadata": {},
   "outputs": [],
   "source": [
    "sns.pointplot(x=[_ for _ in range(100)], y=[obj_sbs.likelihoods[i]+obj_sbs.regs[i] for i in range(100)]) "
   ]
  },
  {
   "cell_type": "code",
   "execution_count": null,
   "metadata": {},
   "outputs": [],
   "source": [
    "sns.pointplot(x=[_ for _ in range(100)], y=obj_sbs.losses) "
   ]
  },
  {
   "cell_type": "code",
   "execution_count": null,
   "metadata": {},
   "outputs": [],
   "source": [
    "print(obj_sbs.init_params[\"beta_weights\"])\n",
    "print(obj_sbs.params[\"beta_w\"]) "
   ]
  },
  {
   "cell_type": "code",
   "execution_count": null,
   "metadata": {},
   "outputs": [],
   "source": [
    "print(obj_sbs.init_params[\"beta_weights\"])\n",
    "print(obj_sbs.params[\"beta_w\"]) "
   ]
  },
  {
   "cell_type": "code",
   "execution_count": null,
   "metadata": {},
   "outputs": [],
   "source": [
    "print(obj_sbs.params[\"alpha\"])"
   ]
  },
  {
   "cell_type": "code",
   "execution_count": null,
   "metadata": {},
   "outputs": [],
   "source": [
    "print(obj_sbs.params[\"alpha_star\"])"
   ]
  },
  {
   "cell_type": "code",
   "execution_count": null,
   "metadata": {},
   "outputs": [],
   "source": [
    "print(obj_sbs.params[\"alpha\"])"
   ]
  },
  {
   "cell_type": "code",
   "execution_count": null,
   "metadata": {},
   "outputs": [],
   "source": [
    "dn = torch.tensor(obj_sbs.params[\"beta_d\"].values)\n",
    "sbs1 = torch.tensor(cosmic_sbs.loc[[\"SBS1\"]].values)\n",
    "for i in range(dn.shape[0]):\n",
    "    print(torch.nn.functional.cosine_similarity(sbs1, dn[i,:]))"
   ]
  },
  {
   "cell_type": "code",
   "execution_count": null,
   "metadata": {},
   "outputs": [],
   "source": [
    "a_orig = pyro.distributions.Dirichlet(torch.tensor([1., 5.])).sample((100,)) "
   ]
  },
  {
   "cell_type": "code",
   "execution_count": null,
   "metadata": {},
   "outputs": [],
   "source": [
    "a = a_orig**3\n",
    "fig, ax = plt.subplots()\n",
    "sns.scatterplot(x=a[:,0].tolist(), y=a[:,1].tolist(), ax=ax)\n",
    "ax.set_xlim(0,1)\n",
    "ax.set_ylim(0,1) "
   ]
  },
  {
   "cell_type": "code",
   "execution_count": null,
   "metadata": {},
   "outputs": [],
   "source": [
    "import numpy as np\n",
    "from scipy.stats import dirichlet\n",
    "\n",
    "# Define the parameters\n",
    "alpha = [1, 1, 1]  # Adjust alpha values as needed\n",
    "power = 2.0  # Adjust the power parameter\n",
    "\n",
    "# Sample from the standard Dirichlet distribution\n",
    "sample = np.random.dirichlet(alpha)\n",
    "\n",
    "# Apply the transformation\n",
    "sample_away_from_mode = sample ** (1 / power)\n",
    "\n",
    "print(\"Sampled value away from the mode:\", sample_away_from_mode)\n",
    "print(\"Sampled:\", sample)\n"
   ]
  },
  {
   "cell_type": "code",
   "execution_count": null,
   "metadata": {},
   "outputs": [],
   "source": [
    "import torch\n",
    "import pyro.distributions as dist\n",
    "from pyro.infer import SVI, Trace_ELBO\n",
    "from pyro.optim import Adam\n",
    "\n",
    "# Define the parameters of the Dirichlet distribution\n",
    "alpha = torch.tensor([1.0, 5.0, 1.0])  # Replace with your alpha values\n",
    "\n",
    "# Sample from the Dirichlet distribution\n",
    "sampled_value = pyro.sample(\"sampled_value\", dist.Dirichlet(alpha))\n",
    "\n",
    "print(\"Sampled value away from the mode:\", sampled_value)\n",
    "\n",
    "# Find the mode of the Dirichlet distribution\n",
    "mode = torch.argmax(alpha)\n",
    "\n",
    "print(\"Mode\", mode)\n",
    "\n",
    "# Create a mask to zero out the mode value\n",
    "mask = torch.ones_like(sampled_value)\n",
    "mask[mode] = 0\n",
    "\n",
    "# Zero out the mode value\n",
    "sampled_value = sampled_value * mask\n",
    "\n",
    "# Renormalize to make it a valid probability distribution\n",
    "sampled_value = sampled_value / sampled_value.sum()\n",
    "\n",
    "print(\"Sampled value away from the mode:\", sampled_value)\n"
   ]
  },
  {
   "cell_type": "code",
   "execution_count": null,
   "metadata": {},
   "outputs": [],
   "source": [
    "# a = a_orig**(3)\n",
    "fig2, ax2 = plt.subplots()\n",
    "fig3, ax3 = plt.subplots()\n",
    "sns.histplot(a[:,0].tolist(), ax=ax2)\n",
    "sns.histplot(a[:,1].tolist(), ax=ax3)\n",
    "ax2.set_xlim(0,1)\n",
    "ax3.set_xlim(0,1)"
   ]
  },
  {
   "cell_type": "code",
   "execution_count": null,
   "metadata": {},
   "outputs": [],
   "source": [
    "torch.sum(fixed, dim=0)"
   ]
  },
  {
   "cell_type": "code",
   "execution_count": null,
   "metadata": {},
   "outputs": [],
   "source": [
    "fixed = torch.tensor(obj_sbs.beta_fixed.values)\n",
    "beta_w = torch.tensor(obj_sbs.params[\"beta_w\"].values)\n",
    "denovo = torch.tensor(obj_sbs.params[\"beta_d\"].values)\n",
    "cum_weights = torch.ones((obj_sbs.k_denovo, obj_sbs.k_fixed))/obj_sbs.k_fixed\n",
    "\n",
    "fixed_cum = obj_sbs._get_unique_beta_stick_breaking(beta_fixed=fixed, beta_denovo=None, beta_weights=cum_weights)\n",
    "fixed_cum = obj_sbs._norm_and_clamp(fixed_cum)\n",
    "\n",
    "print(torch.sum((fixed_cum * (torch.abs(fixed_cum - denovo)))) * torch.tensor(obj_sbs.x.values).sum())\n",
    "print(torch.sum((fixed_cum * (torch.abs(fixed_cum - denovo)))) * obj_sbs.x.shape[0] * obj_sbs.x.shape[1])\n"
   ]
  },
  {
   "cell_type": "code",
   "execution_count": null,
   "metadata": {},
   "outputs": [],
   "source": [
    "obj_sbs.losses"
   ]
  },
  {
   "cell_type": "code",
   "execution_count": null,
   "metadata": {},
   "outputs": [],
   "source": [
    "len(obj_sbs.train_params)"
   ]
  },
  {
   "cell_type": "code",
   "execution_count": null,
   "metadata": {},
   "outputs": [],
   "source": [
    "pyro.distributions.Dirichlet(fixed_cum*1000).log_prob(denovo) "
   ]
  },
  {
   "cell_type": "code",
   "execution_count": null,
   "metadata": {},
   "outputs": [],
   "source": [
    "obj_sbs.gradient_norms.keys()"
   ]
  },
  {
   "cell_type": "code",
   "execution_count": null,
   "metadata": {},
   "outputs": [],
   "source": [
    "## self.x.sum() * torch.sum(beta_fixed_cum * (1 - torch.abs(beta_fixed_cum - beta_denovo)))\n",
    "obj_sbs.params[\"beta_w\"] "
   ]
  },
  {
   "cell_type": "code",
   "execution_count": null,
   "metadata": {},
   "outputs": [],
   "source": [
    "## self.x.sum() * torch.sum(beta_fixed_cum * (torch.abs(beta_fixed_cum - beta_denovo)))\n",
    "obj_sbs.params[\"beta_w\"] "
   ]
  },
  {
   "cell_type": "code",
   "execution_count": null,
   "metadata": {},
   "outputs": [],
   "source": [
    "## self.x.sum() * torch.sum(beta_fixed_cum * (torch.abs(beta_fixed_cum - beta_denovo)))\n",
    "obj_sbs.params[\"beta_w\"] "
   ]
  },
  {
   "cell_type": "code",
   "execution_count": null,
   "metadata": {},
   "outputs": [],
   "source": [
    "## self.n_samples * self.contexts * pyro.distributions.Dirichlet(beta_fixed_cum*1000).to_event(1).log_prob(beta_denovo))\n",
    "obj_sbs.params[\"beta_w\"] "
   ]
  },
  {
   "cell_type": "code",
   "execution_count": null,
   "metadata": {},
   "outputs": [],
   "source": [
    "pyro.param(\"beta_weights\")"
   ]
  },
  {
   "cell_type": "code",
   "execution_count": null,
   "metadata": {},
   "outputs": [],
   "source": [
    "obj_sbs.params[\"beta_w\"] "
   ]
  },
  {
   "cell_type": "code",
   "execution_count": null,
   "metadata": {},
   "outputs": [],
   "source": [
    "obj_sbs.gradient_norms.keys() "
   ]
  },
  {
   "cell_type": "code",
   "execution_count": null,
   "metadata": {},
   "outputs": [],
   "source": [
    "obj_sbs.params[\"alpha\"].sum(axis=1)"
   ]
  },
  {
   "cell_type": "code",
   "execution_count": null,
   "metadata": {},
   "outputs": [],
   "source": [
    "k_dn = 2\n",
    "k_f = 3\n",
    "n_samples = 5\n",
    "beta_weights = pyro.distributions.Dirichlet(torch.ones(k_dn, k_f+1)).sample()\n",
    "alpha_star = pyro.distributions.Dirichlet(torch.ones(n_samples, k_dn)).sample()\n",
    "print(\"beta weights\\n\", beta_weights)\n",
    "print(\"alpha star\\n\", alpha_star)"
   ]
  },
  {
   "cell_type": "code",
   "execution_count": null,
   "metadata": {},
   "outputs": [],
   "source": [
    "beta_weights[1,2]"
   ]
  },
  {
   "cell_type": "code",
   "execution_count": null,
   "metadata": {},
   "outputs": [],
   "source": [
    "alpha = torch.zeros((n_samples, k_dn+k_f))\n",
    "\n",
    "for n in range(n_samples):\n",
    "    for j in range(k_dn):\n",
    "        for r in range(k_f):\n",
    "            alpha[n, r] += torch.sum(alpha_star[n,j]) * beta_weights[j,r]\n",
    "        \n",
    "        for d in range(k_f, k_f+k_dn):\n",
    "            alpha[n, d] += torch.sum(alpha_star[n,j]) * beta_weights[j,-1]\n",
    "\n",
    "print(alpha)"
   ]
  },
  {
   "cell_type": "code",
   "execution_count": null,
   "metadata": {},
   "outputs": [],
   "source": [
    "obj_sbs.params[\"beta_w\"]"
   ]
  },
  {
   "cell_type": "code",
   "execution_count": null,
   "metadata": {},
   "outputs": [],
   "source": [
    "obj_sbs.params[\"beta_d\"]"
   ]
  },
  {
   "cell_type": "code",
   "execution_count": null,
   "metadata": {},
   "outputs": [],
   "source": [
    "obj_dbs = run.fit(\n",
    "    x=m_dbs, \n",
    "    k_list=3, \n",
    "    lr=0.005, \n",
    "    optim_gamma=0.1,\n",
    "    n_steps=10, \n",
    "    # cluster=6, \n",
    "    dirichlet_prior=True,\n",
    "    beta_fixed=cosmic_dbs.loc[[\"DBS4\"]], \n",
    "    hyperparameters={\"alpha_sigma\":.15, \"alpha_p_sigma\":1., \"alpha_p_conc0\":0.6, \n",
    "                     \"alpha_p_conc1\":0.6, \"alpha_rate\":1., \"pi_conc0\":0.5, \"alpha_conc\":100,\n",
    "                     \"scale_factor_alpha\":10000, \"scale_factor_centroid\":1000, \"scale_tau\":0},\n",
    "    enforce_sparsity = True, \n",
    "    reg_weight=0., \n",
    "    store_parameters = True, \n",
    "    seed_list=[92],\n",
    "    nonparametric=True,\n",
    "    store_fits=True\n",
    "    )\n"
   ]
  },
  {
   "cell_type": "code",
   "execution_count": null,
   "metadata": {},
   "outputs": [],
   "source": [
    "alpha_sbs = obj_sbs.params[\"alpha\"] \n",
    "alpha_dbs = obj_dbs.params[\"alpha\"] "
   ]
  },
  {
   "cell_type": "code",
   "execution_count": null,
   "metadata": {},
   "outputs": [],
   "source": [
    "input = [alpha_sbs, alpha_dbs] \n",
    "input_tensor = [torch.tensor(alpha_sbs.values), torch.tensor(alpha_dbs.values)]\n",
    "max_shape = max([i.shape[1] for i in input_tensor])\n",
    "# stacked = torch.stack(input_tensor)"
   ]
  },
  {
   "cell_type": "code",
   "execution_count": null,
   "metadata": {},
   "outputs": [],
   "source": [
    "mixture = run.fit(\n",
    "    alpha=input, \n",
    "    lr=0.005, \n",
    "    optim_gamma=0.1,\n",
    "    n_steps=3000,\n",
    "    cluster=5, \n",
    "    hyperparameters={\"alpha_sigma\":.15, \"alpha_p_sigma\":1., \"alpha_p_conc0\":0.6, \n",
    "                     \"alpha_p_conc1\":0.6, \"alpha_rate\":1., \"pi_conc0\":0.5, \"alpha_conc\":100,\n",
    "                     \"scale_factor_alpha\":10000, \"scale_factor_centroid\":1000, \"scale_tau\":0},\n",
    "    store_parameters = True, \n",
    "    seed_list=[92],\n",
    "    nonparametric=True,\n",
    "    store_fits=True\n",
    "    )\n"
   ]
  },
  {
   "cell_type": "code",
   "execution_count": null,
   "metadata": {},
   "outputs": [],
   "source": [
    "import torch.nn.functional as F\n",
    "def mix_weights(beta):\n",
    "    '''\n",
    "    Function used for the stick-breaking process.\n",
    "    '''\n",
    "    print(\"beta =\", beta)\n",
    "    beta1m_cumprod = (1 - beta).cumprod(-1)\n",
    "    print(\"beta1m_cumprod =\", beta1m_cumprod)\n",
    "    res1 = F.pad(beta, (0, 1), value=1)\n",
    "    res2 = F.pad(beta1m_cumprod, (1, 0), value=1)\n",
    "    res = res1 * res2\n",
    "    print(f\"res1 = {res1}, res2 = {res2}, res = {res}\\n\")\n",
    "    return res\n"
   ]
  },
  {
   "cell_type": "code",
   "execution_count": null,
   "metadata": {},
   "outputs": [],
   "source": [
    "cluster = 6\n",
    "with pyro.plate(\"beta_plate\", cluster-1):\n",
    "    pi_beta = pyro.sample(f\"beta\", pyro.distributions.Beta(1, 1.1755e-36))\n",
    "    # pi_beta = torch.tensor([1.1755e-36, 2.1648e-18, 1.1755e-36, 6.6389e-33, 1.1755e-36])\n",
    "    print(\"pi_beta =\", pi_beta)\n",
    "    pi = mix_weights(pi_beta)\n",
    "\n",
    "print(pi)"
   ]
  },
  {
   "cell_type": "code",
   "execution_count": null,
   "metadata": {},
   "outputs": [],
   "source": []
  },
  {
   "cell_type": "code",
   "execution_count": null,
   "metadata": {},
   "outputs": [],
   "source": [
    "beta_star = torch.zeros(k_denovo, 96, dtype=torch.float64) \n",
    "for i in range(k_denovo):\n",
    "    tmp_sbs = torch.cat((ref_sbs, dn_sbs[i].unsqueeze(0)))\n",
    "    beta_star[i] = pi[i].unsqueeze(0).matmul(tmp_sbs) "
   ]
  },
  {
   "cell_type": "code",
   "execution_count": null,
   "metadata": {},
   "outputs": [],
   "source": [
    "pyro.distributions.Gamma(0.01, 0.01).sample((5,))"
   ]
  },
  {
   "cell_type": "code",
   "execution_count": null,
   "metadata": {},
   "outputs": [],
   "source": [
    "pyro.distributions.Dirichlet(torch.ones(5)).sample()"
   ]
  },
  {
   "cell_type": "code",
   "execution_count": null,
   "metadata": {},
   "outputs": [],
   "source": [
    "(1 - pyro.distributions.Beta(1, 1e-10).sample((cluster-1,))).cumprod(-1)"
   ]
  },
  {
   "cell_type": "code",
   "execution_count": null,
   "metadata": {},
   "outputs": [],
   "source": [
    "pi = torch.zeros((10,))\n",
    "pi[:5] = 5\n",
    "pi "
   ]
  },
  {
   "cell_type": "code",
   "execution_count": null,
   "metadata": {},
   "outputs": [],
   "source": [
    "alpha_centr = mixture[0].params[\"alpha_prior\"]\n",
    "print(alpha_centr) "
   ]
  },
  {
   "cell_type": "code",
   "execution_count": null,
   "metadata": {},
   "outputs": [],
   "source": [
    "print(sklearn.metrics.normalized_mutual_info_score(mixture.groups, g_sbs)) \n",
    "print(sklearn.metrics.normalized_mutual_info_score(mixture.groups, g_dbs)) "
   ]
  },
  {
   "cell_type": "code",
   "execution_count": null,
   "metadata": {},
   "outputs": [],
   "source": [
    "print(obj_sbs.params[\"scale_factor_centroid\"])\n",
    "print(obj_sbs.params[\"scale_factor_alpha\"]) "
   ]
  },
  {
   "cell_type": "code",
   "execution_count": null,
   "metadata": {},
   "outputs": [],
   "source": [
    "obj_sbs.params"
   ]
  },
  {
   "cell_type": "code",
   "execution_count": null,
   "metadata": {},
   "outputs": [],
   "source": [
    "obj_sbs.train_params[6][\"scale_factor_centroid\"]"
   ]
  },
  {
   "cell_type": "code",
   "execution_count": null,
   "metadata": {},
   "outputs": [],
   "source": [
    "obj_sbs.params[\"pi_conc0\"] "
   ]
  },
  {
   "cell_type": "code",
   "execution_count": null,
   "metadata": {},
   "outputs": [],
   "source": [
    "sns.scatterplot(x=range(len(obj_sbs.likelihoods)), y=obj_sbs.likelihoods) "
   ]
  },
  {
   "cell_type": "code",
   "execution_count": null,
   "metadata": {},
   "outputs": [],
   "source": [
    "sns.scatterplot(x=range(len(obj_sbs.losses)), y=obj_sbs.losses) "
   ]
  },
  {
   "cell_type": "code",
   "execution_count": null,
   "metadata": {},
   "outputs": [],
   "source": [
    "try: sns.scatterplot(x=range(len(obj_sbs.gradient_norms[\"scale_factor_centroid_param\"])), \n",
    "                     y=obj_sbs.gradient_norms[\"scale_factor_centroid_param\"]) \n",
    "except: print() "
   ]
  },
  {
   "cell_type": "code",
   "execution_count": null,
   "metadata": {},
   "outputs": [],
   "source": [
    "try: sns.scatterplot(x=range(len(obj_sbs.gradient_norms[\"scale_factor_alpha_param\"])), \n",
    "                     y=obj_sbs.gradient_norms[\"scale_factor_alpha_param\"]) \n",
    "except: print() "
   ]
  },
  {
   "cell_type": "code",
   "execution_count": null,
   "metadata": {},
   "outputs": [],
   "source": [
    "try: sns.scatterplot(x=range(len(obj_sbs.gradient_norms[\"alpha_prior_param\"])), y=obj_sbs.gradient_norms[\"alpha_prior_param\"]) \n",
    "except: print() "
   ]
  },
  {
   "cell_type": "code",
   "execution_count": null,
   "metadata": {},
   "outputs": [],
   "source": [
    "try: sns.scatterplot(x=range(len(obj_sbs.gradient_norms[\"alpha_prior_param\"])), y=obj_sbs.gradient_norms[\"alpha_prior_param\"]) \n",
    "except: print() "
   ]
  },
  {
   "cell_type": "code",
   "execution_count": null,
   "metadata": {},
   "outputs": [],
   "source": [
    "try: sns.scatterplot(x=range(len(obj_sbs.gradient_norms[\"pi_param\"])), y=obj_sbs.gradient_norms[\"pi_param\"]) \n",
    "except: print() "
   ]
  },
  {
   "cell_type": "code",
   "execution_count": null,
   "metadata": {},
   "outputs": [],
   "source": [
    "try: sns.scatterplot(x=range(len(obj_sbs.gradient_norms[\"pi_conc0_param\"])), y=obj_sbs.gradient_norms[\"pi_conc0_param\"]) \n",
    "except: print() "
   ]
  },
  {
   "cell_type": "code",
   "execution_count": null,
   "metadata": {},
   "outputs": [],
   "source": [
    "try: sns.scatterplot(x=range(len(obj_sbs.gradient_norms[\"alpha\"])), y=obj_sbs.gradient_norms[\"alpha\"]) \n",
    "except: print() "
   ]
  },
  {
   "cell_type": "code",
   "execution_count": null,
   "metadata": {},
   "outputs": [],
   "source": [
    "try: sns.scatterplot(x=range(len(obj_sbs.gradient_norms[\"beta_denovo\"])), y=obj_sbs.gradient_norms[\"beta_denovo\"])\n",
    "except: print()"
   ]
  },
  {
   "cell_type": "code",
   "execution_count": null,
   "metadata": {},
   "outputs": [],
   "source": [
    "pd.DataFrame(np.array(obj_sbs.init_params[\"alpha_prior_param\"]), columns=obj_sbs.params[\"alpha\"].columns).plot.bar(stacked=True, legend=False) "
   ]
  },
  {
   "cell_type": "code",
   "execution_count": null,
   "metadata": {},
   "outputs": [],
   "source": [
    "try: pd.DataFrame(np.array(obj_sbs.params[\"alpha_prior\"]), columns=obj_sbs.params[\"alpha_prior\"].columns).plot.bar(stacked=True, legend=False) \n",
    "except Exception as e: print() "
   ]
  },
  {
   "cell_type": "code",
   "execution_count": null,
   "metadata": {},
   "outputs": [],
   "source": [
    "try:\n",
    "    for gid in set(np.array(obj_sbs.groups)):\n",
    "        tmp = [i for i, v in enumerate(obj_sbs.groups) if v == gid]\n",
    "        # tmp = [i for i, v in enumerate(obj_sbs.groups) if (v == gid and i in idxs)]\n",
    "        if len(tmp) == 0: continue\n",
    "        pd.DataFrame(np.array(obj_sbs.params[\"alpha\"]), columns=obj_sbs.params[\"alpha\"].columns, \n",
    "                     index=obj_sbs.params[\"alpha\"].index).iloc[tmp].plot.bar(stacked=True)\n",
    "except Exception as e:\n",
    "    print(e)\n",
    "    obj_sbs.alpha.plot.bar(stacked=True, legend=False) \n"
   ]
  },
  {
   "cell_type": "code",
   "execution_count": null,
   "metadata": {},
   "outputs": [],
   "source": [
    "try:\n",
    "    for sbs in pd.concat((obj_sbs.params[\"beta_f\"], obj_sbs.params[\"beta_d\"])).index:\n",
    "        pd.concat((obj_sbs.params[\"beta_f\"], obj_sbs.params[\"beta_d\"])).loc[[sbs]].transpose().plot.bar()\n",
    "except Exception as e:\n",
    "    print(e)"
   ]
  }
 ],
 "metadata": {
  "kernelspec": {
   "display_name": "Python 3 (ipykernel)",
   "language": "python",
   "name": "python3"
  },
  "language_info": {
   "codemirror_mode": {
    "name": "ipython",
    "version": 3
   },
   "file_extension": ".py",
   "mimetype": "text/x-python",
   "name": "python",
   "nbconvert_exporter": "python",
   "pygments_lexer": "ipython3",
   "version": "3.9.16"
  }
 },
 "nbformat": 4,
 "nbformat_minor": 4
}
