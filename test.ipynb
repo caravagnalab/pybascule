{
 "cells": [
  {
   "cell_type": "code",
   "execution_count": 1,
   "metadata": {
    "tags": []
   },
   "outputs": [
    {
     "name": "stderr",
     "output_type": "stream",
     "text": [
      "/Users/elenab/Library/r-miniconda-arm64/envs/basilica-env/lib/python3.9/site-packages/tqdm/auto.py:21: TqdmWarning: IProgress not found. Please update jupyter and ipywidgets. See https://ipywidgets.readthedocs.io/en/stable/user_install.html\n",
      "  from .autonotebook import tqdm as notebook_tqdm\n"
     ]
    }
   ],
   "source": [
    "import pandas as pd\n",
    "import pybasilica.run as run\n",
    "import torch\n",
    "import pyro\n",
    "import pyro.distributions as dist\n",
    "import numpy as np\n",
    "import seaborn as sns\n",
    "import sklearn.metrics\n",
    "import torch.nn.functional as F\n",
    "from tqdm import tqdm\n",
    "from pyro.distributions import constraints\n",
    "\n",
    "%load_ext autoreload\n",
    "%autoreload 2"
   ]
  },
  {
   "cell_type": "code",
   "execution_count": 2,
   "metadata": {
    "tags": []
   },
   "outputs": [],
   "source": [
    "m_g = pd.read_csv(\"test_datasets/counts_sbs.N150.G3.csv\")\n",
    "m_sbs = m_g.drop([\"groups\"], axis=1)\n",
    "g_sbs = m_g[\"groups\"].tolist() \n",
    "cosmic_sbs = pd.read_csv(\"test_datasets/COSMIC_filt.csv\", index_col=0) "
   ]
  },
  {
   "cell_type": "code",
   "execution_count": 3,
   "metadata": {},
   "outputs": [],
   "source": [
    "m_g = pd.read_csv(\"test_datasets/counts_dbs.N150.G3.csv\")\n",
    "m_dbs = m_g.drop([\"groups\"], axis=1)\n",
    "g_dbs = m_g[\"groups\"].tolist()\n",
    "cosmic_dbs = pd.read_csv(\"test_datasets/COSMIC_dbs.csv\", index_col=0) "
   ]
  },
  {
   "cell_type": "code",
   "execution_count": 4,
   "metadata": {
    "tags": []
   },
   "outputs": [
    {
     "name": "stderr",
     "output_type": "stream",
     "text": [
      "ELBO 48445.147023: 100%|██████████| 2000/2000 [00:05<00:00, 388.77it/s]\n",
      "ELBO 48017.537012: 100%|██████████| 2000/2000 [00:05<00:00, 340.42it/s]\n"
     ]
    }
   ],
   "source": [
    "obj_sbs = run.fit(\n",
    "    x=m_sbs, \n",
    "    k_list=[3,4], \n",
    "    lr=0.005, \n",
    "    optim_gamma=0.1,\n",
    "    n_steps=2000, \n",
    "    # cluster=[3],\n",
    "    dirichlet_prior=True,\n",
    "    beta_fixed=cosmic_sbs.loc[[\"SBS1\",\"SBS3\",\"SBS5\"]], \n",
    "    store_parameters = True, \n",
    "    seed_list=[30],\n",
    "    nonparametric=False,\n",
    "    store_fits=True, enumer=\"parallel\"\n",
    "    )\n"
   ]
  },
  {
   "cell_type": "code",
   "execution_count": 5,
   "metadata": {},
   "outputs": [
    {
     "name": "stderr",
     "output_type": "stream",
     "text": [
      "ELBO 132427.058856: 100%|██████████| 1000/1000 [00:03<00:00, 331.46it/s]\n"
     ]
    }
   ],
   "source": [
    "obj_dbs = run.fit(\n",
    "    x=m_dbs, \n",
    "    k_list=3, \n",
    "    lr=0.005, \n",
    "    optim_gamma=0.1,\n",
    "    n_steps=1000, \n",
    "    # cluster=[3],\n",
    "    dirichlet_prior=True,\n",
    "    beta_fixed=cosmic_dbs.loc[[\"DBS3\",\"DBS5\"]], \n",
    "    store_parameters=False, \n",
    "    seed_list=[30],\n",
    "    store_fits=True\n",
    "    )\n"
   ]
  },
  {
   "cell_type": "code",
   "execution_count": 90,
   "metadata": {},
   "outputs": [
    {
     "name": "stdout",
     "output_type": "stream",
     "text": [
      "tensor([[173.9120, 173.9120, 173.9120],\n",
      "        [  5.0582,   5.0582,   5.0582]], dtype=torch.float64)\n"
     ]
    },
    {
     "name": "stderr",
     "output_type": "stream",
     "text": [
      "ELBO 25113.256788: 100%|██████████| 3000/3000 [00:07<00:00, 417.55it/s]\n"
     ]
    }
   ],
   "source": [
    "input_alpha = [obj_sbs.params[\"alpha\"], obj_dbs.params[\"alpha\"]]\n",
    "obj_clust = run.fit(\n",
    "    alpha=input_alpha,\n",
    "    lr=0.001, \n",
    "    optim_gamma=0.1,\n",
    "    n_steps=3000, \n",
    "    cluster=[3],\n",
    "    store_parameters=False, \n",
    "    seed_list=[30],\n",
    "    nonparametric=True,\n",
    "    store_fits=True,\n",
    "    enumer=\"parallel\"\n",
    "    )\n"
   ]
  },
  {
   "cell_type": "code",
   "execution_count": 91,
   "metadata": {},
   "outputs": [
    {
     "data": {
      "text/plain": [
       "<Axes: >"
      ]
     },
     "execution_count": 91,
     "metadata": {},
     "output_type": "execute_result"
    },
    {
     "data": {
      "image/png": "[encoded data removed]",
      "text/plain": [
       "<Figure size 640x480 with 1 Axes>"
      ]
     },
     "metadata": {},
     "output_type": "display_data"
    }
   ],
   "source": [
    "sns.pointplot(y=obj_clust.losses, x=np.arange(3000)) "
   ]
  },
  {
   "cell_type": "code",
   "execution_count": 84,
   "metadata": {},
   "outputs": [
    {
     "data": {
      "text/plain": [
       "array([[173.91197988, 173.91197988, 173.91197988],\n",
       "       [  5.05816356,   5.05816356,   5.05816356]])"
      ]
     },
     "execution_count": 84,
     "metadata": {},
     "output_type": "execute_result"
    }
   ],
   "source": [
    "obj_clust.init_params[\"scale_factor_centroid\"] "
   ]
  },
  {
   "cell_type": "code",
   "execution_count": 85,
   "metadata": {},
   "outputs": [
    {
     "data": {
      "text/plain": [
       "array([[123.05549814, 127.39486583, 173.60682881],\n",
       "       [  5.75006847,   5.22585883,   5.68975029]])"
      ]
     },
     "execution_count": 85,
     "metadata": {},
     "output_type": "execute_result"
    }
   ],
   "source": [
    "obj_clust.params[\"scale_factor_centroid\"] "
   ]
  },
  {
   "cell_type": "code",
   "execution_count": 92,
   "metadata": {},
   "outputs": [
    {
     "data": {
      "text/plain": [
       "0.9303692509628704"
      ]
     },
     "execution_count": 92,
     "metadata": {},
     "output_type": "execute_result"
    }
   ],
   "source": [
    "fitted_grps = obj_clust.groups \n",
    "init_grps = obj_clust.init_params[\"init_clusters\"] \n",
    "sklearn.metrics.normalized_mutual_info_score(fitted_grps, init_grps) "
   ]
  },
  {
   "cell_type": "code",
   "execution_count": null,
   "metadata": {},
   "outputs": [],
   "source": [
    "# print(obj_clust.init_params[\"alpha_prior\"])\n",
    "# print(obj_clust.params[\"alpha_prior\"]) "
   ]
  },
  {
   "cell_type": "code",
   "execution_count": null,
   "metadata": {},
   "outputs": [],
   "source": [
    "print(obj_clust.init_params[\"pi\"])\n",
    "print(np.round(obj_clust.params[\"pi\"], decimals=3)) "
   ]
  },
  {
   "cell_type": "code",
   "execution_count": null,
   "metadata": {},
   "outputs": [],
   "source": [
    "obj_clust.params[\"scale_factor_matrix\"] "
   ]
  },
  {
   "cell_type": "code",
   "execution_count": null,
   "metadata": {},
   "outputs": [],
   "source": [
    "# sns.pointplot(y=obj_clust.gradient_norms[\"AutoDelta.beta_pi\"],\n",
    "#               x=np.arange(1000)) \n",
    "sns.pointplot(y=obj_clust.gradient_norms[\"AutoDelta.scale_factor_centroid\"],\n",
    "              x=np.arange(1000)) \n",
    "# sns.pointplot(y=obj_clust.gradient_norms[\"AutoDelta.latent_class\"],\n",
    "#               x=np.arange(1000)) "
   ]
  },
  {
   "cell_type": "code",
   "execution_count": null,
   "metadata": {},
   "outputs": [],
   "source": [
    "print(obj_clust.groups) \n",
    "print(obj_clust.init_params[\"init_clusters\"]) "
   ]
  },
  {
   "cell_type": "code",
   "execution_count": null,
   "metadata": {},
   "outputs": [],
   "source": [
    "from scipy.optimize import fsolve, minimize_scalar\n",
    "\n",
    "def _compute_dirichlet_variance(alpha):\n",
    "    alpha_hat = np.sum(alpha)\n",
    "    num = alpha * (alpha_hat - alpha)\n",
    "    denomin = alpha_hat**2 * (alpha_hat + 1)\n",
    "    return num / denomin\n",
    "\n",
    "def variance_condition(C, target, alpha):\n",
    "    variances = _compute_dirichlet_variance(alpha * C)\n",
    "    # print(f\"C={C}, max diff={max(np.abs(variances - target))}\")\n",
    "    return max(np.abs(variances - target))\n",
    "\n",
    "# Initial guess for C\n",
    "initial_C = 1\n",
    "# Calculate the smallest C for the given alpha and Y\n",
    "alpha = obj_clust.params[\"alpha_prior\"].values[0, :7]\n",
    "target = obj_clust.init_params[\"variances\"].values[0, :7]\n",
    "\n",
    "# Solve for C\n",
    "C_solution = minimize_scalar(fun=variance_condition, method=\"Bounded\", bounds=(1,500), args=(target, alpha))\n",
    "C_solution.x"
   ]
  },
  {
   "cell_type": "code",
   "execution_count": null,
   "metadata": {},
   "outputs": [],
   "source": [
    "from scipy.optimize import fsolve\n",
    "\n",
    "def dirichlet_variance(alpha, alpha_hat):\n",
    "    # alpha_hat = np.sum(alpha)\n",
    "    num = alpha * (alpha_hat - alpha)\n",
    "    denomin = alpha_hat**2 * (alpha_hat + 1)\n",
    "    return num / denomin\n",
    "\n",
    "def optim_fn(c, true_var, alpha, alpha_hat):\n",
    "    variances = dirichlet_variance(alpha=alpha*c, alpha_hat=alpha_hat*c)\n",
    "    return np.abs(true_var - variances) + 1.0\n"
   ]
  },
  {
   "cell_type": "code",
   "execution_count": null,
   "metadata": {},
   "outputs": [],
   "source": [
    "alpha = dist.Dirichlet(torch.ones(5)).sample().numpy()\n",
    "true_var = np.ones(5) * 1e-4 \n",
    "print(f\"alpha = {alpha}, true_var = {true_var}\")\n",
    "sols = fsolve(func=optim_fn, x0=1.0, args=(true_var[0], alpha[0], np.sum(alpha))) "
   ]
  },
  {
   "cell_type": "code",
   "execution_count": null,
   "metadata": {},
   "outputs": [],
   "source": [
    "def solver(target, alpha_hat, alpha_k):\n",
    "    a = target*alpha_hat**3\n",
    "    b = target*alpha_hat**2\n",
    "    c = alpha_k**2 - alpha_k*alpha_hat\n",
    "\n",
    "    d = np.sqrt(b**2 - 4*a*c)\n",
    "    xs = np.array([(-b + d) / (2*a), (-b - d) / (2*a)])\n",
    "    return np.amax(xs)\n",
    "\n",
    "c = solver(target=true_var[0], alpha_hat=1, alpha_k=alpha[0])"
   ]
  },
  {
   "cell_type": "code",
   "execution_count": null,
   "metadata": {},
   "outputs": [],
   "source": [
    "dirichlet_variance(alpha=alpha, alpha_hat=alpha.sum()) "
   ]
  }
 ],
 "metadata": {
  "kernelspec": {
   "display_name": "Python 3",
   "language": "python",
   "name": "python3"
  },
  "language_info": {
   "codemirror_mode": {
    "name": "ipython",
    "version": 3
   },
   "file_extension": ".py",
   "mimetype": "text/x-python",
   "name": "python",
   "nbconvert_exporter": "python",
   "pygments_lexer": "ipython3",
   "version": "3.9.16"
  }
 },
 "nbformat": 4,
 "nbformat_minor": 4
}
