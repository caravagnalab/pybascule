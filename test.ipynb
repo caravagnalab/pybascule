{
 "cells": [
  {
   "cell_type": "code",
   "execution_count": 1,
   "metadata": {
    "tags": []
   },
   "outputs": [
    {
     "name": "stderr",
     "output_type": "stream",
     "text": [
      "/Users/elenab/Library/r-miniconda-arm64/envs/basilica-env/lib/python3.9/site-packages/tqdm/auto.py:21: TqdmWarning: IProgress not found. Please update jupyter and ipywidgets. See https://ipywidgets.readthedocs.io/en/stable/user_install.html\n",
      "  from .autonotebook import tqdm as notebook_tqdm\n"
     ]
    }
   ],
   "source": [
    "import pandas as pd\n",
    "import pybasilica.run as run\n",
    "import torch\n",
    "import pyro\n",
    "import pyro.distributions as dist\n",
    "import numpy as np\n",
    "import seaborn as sns\n",
    "import sklearn.metrics\n",
    "import torch.nn.functional as F\n",
    "from tqdm import tqdm\n",
    "from pyro.distributions import constraints\n",
    "\n",
    "%load_ext autoreload\n",
    "%autoreload 2"
   ]
  },
  {
   "cell_type": "code",
   "execution_count": 2,
   "metadata": {
    "tags": []
   },
   "outputs": [],
   "source": [
    "m_g = pd.read_csv(\"test_datasets/counts_sbs.N150.G3.csv\")\n",
    "m_sbs = m_g.drop([\"groups\"], axis=1)\n",
    "g_sbs = m_g[\"groups\"].tolist() \n",
    "cosmic_sbs = pd.read_csv(\"test_datasets/COSMIC_filt.csv\", index_col=0) "
   ]
  },
  {
   "cell_type": "code",
   "execution_count": 3,
   "metadata": {},
   "outputs": [],
   "source": [
    "m_g = pd.read_csv(\"test_datasets/counts_dbs.N150.G3.csv\")\n",
    "m_dbs = m_g.drop([\"groups\"], axis=1)\n",
    "g_dbs = m_g[\"groups\"].tolist()\n",
    "cosmic_dbs = pd.read_csv(\"test_datasets/COSMIC_dbs.csv\", index_col=0) "
   ]
  },
  {
   "cell_type": "code",
   "execution_count": 4,
   "metadata": {
    "tags": []
   },
   "outputs": [
    {
     "name": "stderr",
     "output_type": "stream",
     "text": [
      "ELBO 48445.147023: 100%|██████████| 2000/2000 [00:07<00:00, 254.44it/s]\n",
      "ELBO 48017.537012: 100%|██████████| 2000/2000 [00:07<00:00, 269.05it/s]\n"
     ]
    }
   ],
   "source": [
    "obj_sbs = run.fit(\n",
    "    x=m_sbs, \n",
    "    k_list=[3,4], \n",
    "    lr=0.005, \n",
    "    optim_gamma=0.1,\n",
    "    n_steps=2000, \n",
    "    # cluster=[3],\n",
    "    dirichlet_prior=True,\n",
    "    beta_fixed=cosmic_sbs.loc[[\"SBS1\",\"SBS3\",\"SBS5\"]], \n",
    "    store_parameters = True, \n",
    "    seed_list=[30],\n",
    "    nonparametric=False,\n",
    "    store_fits=True, enumer=\"parallel\"\n",
    "    )\n"
   ]
  },
  {
   "cell_type": "code",
   "execution_count": 69,
   "metadata": {},
   "outputs": [
    {
     "name": "stderr",
     "output_type": "stream",
     "text": [
      "ELBO 132427.058856: 100%|██████████| 1000/1000 [00:03<00:00, 282.52it/s]\n"
     ]
    }
   ],
   "source": [
    "obj_dbs = run.fit(\n",
    "    x=m_dbs, \n",
    "    k_list=3, \n",
    "    lr=0.005, \n",
    "    optim_gamma=0.1,\n",
    "    n_steps=1000, \n",
    "    # cluster=[3],\n",
    "    dirichlet_prior=True,\n",
    "    beta_fixed=cosmic_dbs.loc[[\"DBS3\",\"DBS5\"]], \n",
    "    store_parameters=False, \n",
    "    seed_list=[30],\n",
    "    store_fits=True\n",
    "    )\n"
   ]
  },
  {
   "cell_type": "code",
   "execution_count": 308,
   "metadata": {},
   "outputs": [
    {
     "name": "stdout",
     "output_type": "stream",
     "text": [
      "tensor([2.6164e+03, 1.9985e+00])\n"
     ]
    },
    {
     "ename": "NameError",
     "evalue": "name 'sf_centroid' is not defined",
     "output_type": "error",
     "traceback": [
      "\u001b[0;31m---------------------------------------------------------------------------\u001b[0m",
      "\u001b[0;31mNameError\u001b[0m                                 Traceback (most recent call last)",
      "Cell \u001b[0;32mIn[308], line 2\u001b[0m\n\u001b[1;32m      1\u001b[0m input_alpha \u001b[38;5;241m=\u001b[39m [obj_sbs\u001b[38;5;241m.\u001b[39mparams[\u001b[38;5;124m\"\u001b[39m\u001b[38;5;124malpha\u001b[39m\u001b[38;5;124m\"\u001b[39m], obj_dbs\u001b[38;5;241m.\u001b[39mparams[\u001b[38;5;124m\"\u001b[39m\u001b[38;5;124malpha\u001b[39m\u001b[38;5;124m\"\u001b[39m]]\n\u001b[0;32m----> 2\u001b[0m obj_clust \u001b[38;5;241m=\u001b[39m \u001b[43mrun\u001b[49m\u001b[38;5;241;43m.\u001b[39;49m\u001b[43mfit\u001b[49m\u001b[43m(\u001b[49m\n\u001b[1;32m      3\u001b[0m \u001b[43m    \u001b[49m\u001b[43malpha\u001b[49m\u001b[38;5;241;43m=\u001b[39;49m\u001b[43minput_alpha\u001b[49m\u001b[43m,\u001b[49m\n\u001b[1;32m      4\u001b[0m \u001b[43m    \u001b[49m\u001b[43mlr\u001b[49m\u001b[38;5;241;43m=\u001b[39;49m\u001b[38;5;241;43m0.005\u001b[39;49m\u001b[43m,\u001b[49m\u001b[43m \u001b[49m\n\u001b[1;32m      5\u001b[0m \u001b[43m    \u001b[49m\u001b[38;5;66;43;03m# optim_gamma=0.1,\u001b[39;49;00m\n\u001b[1;32m      6\u001b[0m \u001b[43m    \u001b[49m\u001b[43mn_steps\u001b[49m\u001b[38;5;241;43m=\u001b[39;49m\u001b[38;5;241;43m10\u001b[39;49m\u001b[43m,\u001b[49m\u001b[43m \u001b[49m\n\u001b[1;32m      7\u001b[0m \u001b[43m    \u001b[49m\u001b[43mcluster\u001b[49m\u001b[38;5;241;43m=\u001b[39;49m\u001b[43m[\u001b[49m\u001b[38;5;241;43m3\u001b[39;49m\u001b[43m]\u001b[49m\u001b[43m,\u001b[49m\n\u001b[1;32m      8\u001b[0m \u001b[43m    \u001b[49m\u001b[43mstore_parameters\u001b[49m\u001b[38;5;241;43m=\u001b[39;49m\u001b[38;5;28;43;01mFalse\u001b[39;49;00m\u001b[43m,\u001b[49m\u001b[43m \u001b[49m\n\u001b[1;32m      9\u001b[0m \u001b[43m    \u001b[49m\u001b[43mhyperparameters\u001b[49m\u001b[38;5;241;43m=\u001b[39;49m\u001b[43m{\u001b[49m\u001b[38;5;124;43m\"\u001b[39;49m\u001b[38;5;124;43mscale_factor_alpha\u001b[39;49m\u001b[38;5;124;43m\"\u001b[39;49m\u001b[43m:\u001b[49m\u001b[38;5;241;43m1\u001b[39;49m\u001b[43m,\u001b[49m\n\u001b[1;32m     10\u001b[0m \u001b[43m                     \u001b[49m\u001b[38;5;124;43m\"\u001b[39;49m\u001b[38;5;124;43mscale_factor_centroid\u001b[39;49m\u001b[38;5;124;43m\"\u001b[39;49m\u001b[43m:\u001b[49m\u001b[38;5;241;43m1\u001b[39;49m\u001b[43m}\u001b[49m\u001b[43m,\u001b[49m\n\u001b[1;32m     11\u001b[0m \u001b[43m    \u001b[49m\u001b[43mseed_list\u001b[49m\u001b[38;5;241;43m=\u001b[39;49m\u001b[43m[\u001b[49m\u001b[38;5;241;43m30\u001b[39;49m\u001b[43m]\u001b[49m\u001b[43m,\u001b[49m\n\u001b[1;32m     12\u001b[0m \u001b[43m    \u001b[49m\u001b[43mnonparametric\u001b[49m\u001b[38;5;241;43m=\u001b[39;49m\u001b[38;5;28;43;01mTrue\u001b[39;49;00m\u001b[43m,\u001b[49m\n\u001b[1;32m     13\u001b[0m \u001b[43m    \u001b[49m\u001b[43mstore_fits\u001b[49m\u001b[38;5;241;43m=\u001b[39;49m\u001b[38;5;28;43;01mTrue\u001b[39;49;00m\n\u001b[1;32m     14\u001b[0m \u001b[43m    \u001b[49m\u001b[38;5;66;43;03m# enumer=\"sequential\"\u001b[39;49;00m\n\u001b[1;32m     15\u001b[0m \u001b[43m    \u001b[49m\u001b[43m)\u001b[49m\n",
      "File \u001b[0;32m~/GitHub/pybasilica/pybasilica/run.py:76\u001b[0m, in \u001b[0;36mfit\u001b[0;34m(x, alpha, k_list, lr, optim_gamma, n_steps, enumer, cluster, beta_fixed, hyperparameters, dirichlet_prior, compile_model, CUDA, nonparametric, stage, seed_list, store_parameters, store_fits)\u001b[0m\n\u001b[1;32m     73\u001b[0m \u001b[38;5;28;01mif\u001b[39;00m bestK \u001b[38;5;129;01mis\u001b[39;00m \u001b[38;5;129;01mnot\u001b[39;00m \u001b[38;5;28;01mNone\u001b[39;00m: alpha \u001b[38;5;241m=\u001b[39m bestK\u001b[38;5;241m.\u001b[39mparams[\u001b[38;5;124m\"\u001b[39m\u001b[38;5;124malpha\u001b[39m\u001b[38;5;124m\"\u001b[39m]\n\u001b[1;32m     75\u001b[0m kwargs_mixture[\u001b[38;5;124m\"\u001b[39m\u001b[38;5;124malpha\u001b[39m\u001b[38;5;124m\"\u001b[39m] \u001b[38;5;241m=\u001b[39m alpha\n\u001b[0;32m---> 76\u001b[0m bestCL, scoresCL, fitsCL \u001b[38;5;241m=\u001b[39m \u001b[43mrun_fit\u001b[49m\u001b[43m(\u001b[49m\u001b[43mseed_list\u001b[49m\u001b[38;5;241;43m=\u001b[39;49m\u001b[43mseed_list\u001b[49m\u001b[43m,\u001b[49m\u001b[43m \u001b[49m\u001b[43mkwargs\u001b[49m\u001b[38;5;241;43m=\u001b[39;49m\u001b[43mkwargs_mixture\u001b[49m\u001b[43m,\u001b[49m\u001b[43m \u001b[49m\u001b[43mparname\u001b[49m\u001b[38;5;241;43m=\u001b[39;49m\u001b[38;5;124;43m\"\u001b[39;49m\u001b[38;5;124;43mcluster\u001b[39;49m\u001b[38;5;124;43m\"\u001b[39;49m\u001b[43m,\u001b[49m\n\u001b[1;32m     77\u001b[0m \u001b[43m                                   \u001b[49m\u001b[43mparlist\u001b[49m\u001b[38;5;241;43m=\u001b[39;49m\u001b[38;5;28;43mlist\u001b[39;49m\u001b[43m(\u001b[49m\u001b[43mcluster\u001b[49m\u001b[43m)\u001b[49m\u001b[43m,\u001b[49m\u001b[43m \u001b[49m\u001b[43mscore_name\u001b[49m\u001b[38;5;241;43m=\u001b[39;49m\u001b[38;5;124;43m\"\u001b[39;49m\u001b[38;5;124;43micl\u001b[39;49m\u001b[38;5;124;43m\"\u001b[39;49m\u001b[43m,\u001b[49m\u001b[43m \u001b[49m\u001b[43mstore_fits\u001b[49m\u001b[38;5;241;43m=\u001b[39;49m\u001b[43mstore_fits\u001b[49m\u001b[43m,\u001b[49m\n\u001b[1;32m     78\u001b[0m \u001b[43m                                   \u001b[49m\u001b[38;5;28;43mcls\u001b[39;49m\u001b[38;5;241;43m=\u001b[39;49m\u001b[43mPyBasilica_mixture\u001b[49m\u001b[43m)\u001b[49m\n\u001b[1;32m     79\u001b[0m bestCL\u001b[38;5;241m.\u001b[39mscores \u001b[38;5;241m=\u001b[39m scoresCL\n\u001b[1;32m     80\u001b[0m bestCL\u001b[38;5;241m.\u001b[39mfits \u001b[38;5;241m=\u001b[39m fitsCL\n",
      "File \u001b[0;32m~/GitHub/pybasilica/pybasilica/run.py:129\u001b[0m, in \u001b[0;36mrun_fit\u001b[0;34m(seed_list, kwargs, parname, parlist, score_name, store_fits, cls)\u001b[0m\n\u001b[1;32m    127\u001b[0m \u001b[38;5;66;03m# fits_i contains a dict with the fits for all seeds in seed_list\u001b[39;00m\n\u001b[1;32m    128\u001b[0m kwargs[parname] \u001b[38;5;241m=\u001b[39m i\n\u001b[0;32m--> 129\u001b[0m best_i, scores_i, fits_i \u001b[38;5;241m=\u001b[39m \u001b[43msingle_run\u001b[49m\u001b[43m(\u001b[49m\u001b[43mseed_list\u001b[49m\u001b[38;5;241;43m=\u001b[39;49m\u001b[43mseed_list\u001b[49m\u001b[43m,\u001b[49m\u001b[43m \u001b[49m\u001b[43mkwargs\u001b[49m\u001b[38;5;241;43m=\u001b[39;49m\u001b[43mkwargs\u001b[49m\u001b[43m,\u001b[49m\u001b[43m \u001b[49m\u001b[38;5;28;43mcls\u001b[39;49m\u001b[38;5;241;43m=\u001b[39;49m\u001b[38;5;28;43mcls\u001b[39;49m\u001b[43m,\u001b[49m\u001b[43m \u001b[49m\u001b[43mscore_name\u001b[49m\u001b[38;5;241;43m=\u001b[39;49m\u001b[43mscore_name\u001b[49m\u001b[43m,\u001b[49m\u001b[43m \u001b[49m\u001b[43midd\u001b[49m\u001b[38;5;241;43m=\u001b[39;49m\u001b[43midd_i\u001b[49m\u001b[43m)\u001b[49m\n\u001b[1;32m    131\u001b[0m sc_i \u001b[38;5;241m=\u001b[39m best_i\u001b[38;5;241m.\u001b[39m\u001b[38;5;18m__dict__\u001b[39m[score_name]\n\u001b[1;32m    133\u001b[0m \u001b[38;5;28;01mif\u001b[39;00m best_run \u001b[38;5;129;01mis\u001b[39;00m \u001b[38;5;28;01mNone\u001b[39;00m \u001b[38;5;129;01mor\u001b[39;00m sc_i \u001b[38;5;241m<\u001b[39m best_score:\n",
      "File \u001b[0;32m~/GitHub/pybasilica/pybasilica/run.py:97\u001b[0m, in \u001b[0;36msingle_run\u001b[0;34m(seed_list, kwargs, cls, score_name, idd)\u001b[0m\n\u001b[1;32m     95\u001b[0m idd_s \u001b[38;5;241m=\u001b[39m \u001b[38;5;124m\"\u001b[39m\u001b[38;5;124mseed:\u001b[39m\u001b[38;5;124m\"\u001b[39m\u001b[38;5;241m+\u001b[39m\u001b[38;5;28mstr\u001b[39m(seed)\n\u001b[1;32m     96\u001b[0m obj \u001b[38;5;241m=\u001b[39m \u001b[38;5;28mcls\u001b[39m(seed\u001b[38;5;241m=\u001b[39mseed, \u001b[38;5;241m*\u001b[39m\u001b[38;5;241m*\u001b[39mkwargs)\n\u001b[0;32m---> 97\u001b[0m \u001b[43mobj\u001b[49m\u001b[38;5;241;43m.\u001b[39;49m\u001b[43m_fit\u001b[49m\u001b[43m(\u001b[49m\u001b[43m)\u001b[49m\n\u001b[1;32m     98\u001b[0m obj\u001b[38;5;241m.\u001b[39midd \u001b[38;5;241m=\u001b[39m idd \u001b[38;5;241m+\u001b[39m \u001b[38;5;124m\"\u001b[39m\u001b[38;5;124m.\u001b[39m\u001b[38;5;124m\"\u001b[39m \u001b[38;5;241m+\u001b[39m idd_s\n\u001b[1;32m    100\u001b[0m sc_s \u001b[38;5;241m=\u001b[39m obj\u001b[38;5;241m.\u001b[39m\u001b[38;5;18m__dict__\u001b[39m[score_name]\n",
      "File \u001b[0;32m~/GitHub/pybasilica/pybasilica/svi_mixture.py:453\u001b[0m, in \u001b[0;36mPyBasilica_mixture._fit\u001b[0;34m(self)\u001b[0m\n\u001b[1;32m    450\u001b[0m pyro\u001b[38;5;241m.\u001b[39mset_rng_seed(\u001b[38;5;28mself\u001b[39m\u001b[38;5;241m.\u001b[39mseed)\n\u001b[1;32m    451\u001b[0m pyro\u001b[38;5;241m.\u001b[39mget_param_store()\u001b[38;5;241m.\u001b[39mclear()\n\u001b[0;32m--> 453\u001b[0m \u001b[38;5;28;43mself\u001b[39;49m\u001b[38;5;241;43m.\u001b[39;49m\u001b[43m_initialize_params\u001b[49m\u001b[43m(\u001b[49m\u001b[43m)\u001b[49m\n\u001b[1;32m    455\u001b[0m \u001b[38;5;66;03m# elbo = TraceEnum_ELBO()\u001b[39;00m\n\u001b[1;32m    456\u001b[0m elbo \u001b[38;5;241m=\u001b[39m Trace_ELBO()\n",
      "File \u001b[0;32m~/GitHub/pybasilica/pybasilica/svi_mixture.py:434\u001b[0m, in \u001b[0;36mPyBasilica_mixture._initialize_params\u001b[0;34m(self)\u001b[0m\n\u001b[1;32m    432\u001b[0m \u001b[38;5;28;01mif\u001b[39;00m \u001b[38;5;28mself\u001b[39m\u001b[38;5;241m.\u001b[39minit_params \u001b[38;5;129;01mis\u001b[39;00m \u001b[38;5;28;01mNone\u001b[39;00m:\n\u001b[1;32m    433\u001b[0m     \u001b[38;5;28;01mif\u001b[39;00m \u001b[38;5;28mself\u001b[39m\u001b[38;5;241m.\u001b[39m_check_kmeans(torch\u001b[38;5;241m.\u001b[39mcat(\u001b[38;5;28mtuple\u001b[39m(\u001b[38;5;28mself\u001b[39m\u001b[38;5;241m.\u001b[39malpha\u001b[38;5;241m.\u001b[39mclone()), dim\u001b[38;5;241m=\u001b[39m\u001b[38;5;241m1\u001b[39m)) \u001b[38;5;129;01mand\u001b[39;00m \u001b[38;5;28mself\u001b[39m\u001b[38;5;241m.\u001b[39mcluster \u001b[38;5;241m>\u001b[39m \u001b[38;5;241m1\u001b[39m:\n\u001b[0;32m--> 434\u001b[0m         \u001b[38;5;28mself\u001b[39m\u001b[38;5;241m.\u001b[39minit_params \u001b[38;5;241m=\u001b[39m \u001b[38;5;28;43mself\u001b[39;49m\u001b[38;5;241;43m.\u001b[39;49m\u001b[43m_initialize_params_clustering\u001b[49m\u001b[43m(\u001b[49m\u001b[43m)\u001b[49m\n\u001b[1;32m    435\u001b[0m     \u001b[38;5;28;01melse\u001b[39;00m:\n\u001b[1;32m    436\u001b[0m         \u001b[38;5;28mself\u001b[39m\u001b[38;5;241m.\u001b[39minit_params \u001b[38;5;241m=\u001b[39m \u001b[38;5;28mself\u001b[39m\u001b[38;5;241m.\u001b[39m_initialize_params_random()\n",
      "File \u001b[0;32m~/GitHub/pybasilica/pybasilica/svi_mixture.py:331\u001b[0m, in \u001b[0;36mPyBasilica_mixture._initialize_params_clustering\u001b[0;34m(self)\u001b[0m\n\u001b[1;32m    324\u001b[0m init_scale_factors \u001b[38;5;241m=\u001b[39m \u001b[38;5;28mself\u001b[39m\u001b[38;5;241m.\u001b[39m_compute_scale_factors(alpha_prior\u001b[38;5;241m=\u001b[39malpha_prior, variances\u001b[38;5;241m=\u001b[39mvariances)\n\u001b[1;32m    325\u001b[0m \u001b[38;5;28mprint\u001b[39m(init_scale_factors)\n\u001b[1;32m    327\u001b[0m \u001b[38;5;28;01mreturn\u001b[39;00m \u001b[38;5;28mself\u001b[39m\u001b[38;5;241m.\u001b[39m_set_init_params_dict(alpha_prior\u001b[38;5;241m=\u001b[39malpha_prior, \n\u001b[1;32m    328\u001b[0m                                   pi\u001b[38;5;241m=\u001b[39mpi\u001b[38;5;241m.\u001b[39mclone()\u001b[38;5;241m.\u001b[39mdetach()\u001b[38;5;241m.\u001b[39mdouble(), \n\u001b[1;32m    329\u001b[0m                                   latent_class\u001b[38;5;241m=\u001b[39mlatent_class\u001b[38;5;241m.\u001b[39mclone()\u001b[38;5;241m.\u001b[39mdetach()\u001b[38;5;241m.\u001b[39mdouble(),\n\u001b[1;32m    330\u001b[0m                                   variances\u001b[38;5;241m=\u001b[39mvariances,\n\u001b[0;32m--> 331\u001b[0m                                   sf_centroid\u001b[38;5;241m=\u001b[39m\u001b[43msf_centroid\u001b[49m,\n\u001b[1;32m    332\u001b[0m                                   clusters\u001b[38;5;241m=\u001b[39mclusters)\n",
      "\u001b[0;31mNameError\u001b[0m: name 'sf_centroid' is not defined"
     ]
    }
   ],
   "source": [
    "input_alpha = [obj_sbs.params[\"alpha\"], obj_dbs.params[\"alpha\"]]\n",
    "obj_clust = run.fit(\n",
    "    alpha=input_alpha,\n",
    "    lr=0.005, \n",
    "    # optim_gamma=0.1,\n",
    "    n_steps=10, \n",
    "    cluster=[3],\n",
    "    store_parameters=False, \n",
    "    hyperparameters={\"scale_factor_alpha\":1,\n",
    "                     \"scale_factor_centroid\":1},\n",
    "    seed_list=[30],\n",
    "    nonparametric=True,\n",
    "    store_fits=True\n",
    "    # enumer=\"sequential\"\n",
    "    )\n"
   ]
  },
  {
   "cell_type": "code",
   "execution_count": 177,
   "metadata": {},
   "outputs": [
    {
     "data": {
      "text/plain": [
       "array(4.5542107, dtype=float32)"
      ]
     },
     "execution_count": 177,
     "metadata": {},
     "output_type": "execute_result"
    }
   ],
   "source": [
    "obj_clust.init_params[\"sf_centroid\"] "
   ]
  },
  {
   "cell_type": "code",
   "execution_count": 178,
   "metadata": {},
   "outputs": [
    {
     "data": {
      "text/plain": [
       "0.3423649617437515"
      ]
     },
     "execution_count": 178,
     "metadata": {},
     "output_type": "execute_result"
    }
   ],
   "source": [
    "fitted_grps = obj_clust.groups \n",
    "init_grps = obj_clust.init_params[\"init_clusters\"] \n",
    "sklearn.metrics.normalized_mutual_info_score(fitted_grps, init_grps) "
   ]
  },
  {
   "cell_type": "code",
   "execution_count": 165,
   "metadata": {},
   "outputs": [
    {
     "name": "stdout",
     "output_type": "stream",
     "text": [
      "[0.39519907 0.51425043 0.0905505 ]\n",
      "[0.13623423 0.15772636 0.70603941]\n"
     ]
    }
   ],
   "source": [
    "print(obj_clust.init_params[\"pi\"])\n",
    "print(obj_clust.params[\"pi\"]) "
   ]
  },
  {
   "cell_type": "code",
   "execution_count": 166,
   "metadata": {},
   "outputs": [
    {
     "name": "stdout",
     "output_type": "stream",
     "text": [
      "[2 2 2 2 2 2 2 1 1 1 1 1 1 1 1 1 1 1 1 1 1 1 1 1 1 1 1 1 1 1 1 1 1 1 1 1 1\n",
      " 1 1 1 1 1 1 1 1 1 1 1 1 1 1 1 1 1 1 1 1 1 1 1 1 1 1 1 1 1 1 1 1 1 1 1 1 1\n",
      " 0 0 0 0 0 0 0 0 0 0 0 0 0 0 0 0 0 0 0 0 0 0 0 0 0 0 0 0 0 0 0 0 0 0 0 0 0\n",
      " 0 0 0 0 0 0 0 0 0 0 0 0 0 0 0 0 0 0 0 0 0 0 0 0 0 0 0 0 0 0 0 0 0 0 0 0 0\n",
      " 0 0]\n",
      "[2 2 2 2 2 2 2 1 1 1 1 1 1 1 1 1 1 1 1 1 1 1 1 1 1 1 1 1 1 1 1 1 1 1 1 1 1\n",
      " 1 1 1 1 1 1 1 1 1 1 1 1 1 1 1 1 1 1 1 1 1 1 1 1 1 1 1 1 1 1 1 1 1 1 1 1 1\n",
      " 2 2 2 2 2 2 2 2 2 2 2 2 0 0 0 0 0 0 0 0 0 0 0 0 0 0 0 0 0 2 0 2 0 0 0 0 0\n",
      " 0 2 0 2 0 0 0 0 0 0 0 0 0 0 0 0 0 0 0 0 0 0 0 0 0 0 0 0 0 2 0 0 0 0 0 0 0\n",
      " 0 0]\n"
     ]
    }
   ],
   "source": [
    "print(obj_clust.groups) \n",
    "print(obj_clust.init_params[\"init_clusters\"]) "
   ]
  },
  {
   "cell_type": "code",
   "execution_count": 190,
   "metadata": {},
   "outputs": [
    {
     "data": {
      "text/plain": [
       "9.495261e-05"
      ]
     },
     "execution_count": 190,
     "metadata": {},
     "output_type": "execute_result"
    }
   ],
   "source": [
    "obj_clust.init_params[\"variances\"].min()[obj_clust.init_params[\"variances\"].min() > torch.finfo().tiny].min()"
   ]
  },
  {
   "cell_type": "code",
   "execution_count": 182,
   "metadata": {},
   "outputs": [
    {
     "data": {
      "text/plain": [
       "0    1.018398e+05\n",
       "1    8.171153e+04\n",
       "2    7.987992e+05\n",
       "3    3.151977e+05\n",
       "4    2.178713e+05\n",
       "5    2.463208e+07\n",
       "dtype: float32"
      ]
     },
     "execution_count": 182,
     "metadata": {},
     "output_type": "execute_result"
    }
   ],
   "source": [
    "obj_clust.params[\"scale_factor_matrix\"].sum(axis=1)"
   ]
  },
  {
   "cell_type": "code",
   "execution_count": 181,
   "metadata": {},
   "outputs": [
    {
     "data": {
      "text/plain": [
       "0    21.694280\n",
       "1    27.126856\n",
       "2    26.670759\n",
       "3    20.779286\n",
       "4    19.820513\n",
       "5    22.624387\n",
       "dtype: float64"
      ]
     },
     "execution_count": 181,
     "metadata": {},
     "output_type": "execute_result"
    }
   ],
   "source": [
    "(obj_clust.params[\"scale_factor_matrix\"] * obj_clust.params[\"alpha_prior\"]).sum(axis=1)"
   ]
  },
  {
   "cell_type": "code",
   "execution_count": null,
   "metadata": {},
   "outputs": [],
   "source": [
    "obj_clust.params[\"post_probs\"] "
   ]
  },
  {
   "cell_type": "code",
   "execution_count": 242,
   "metadata": {},
   "outputs": [
    {
     "data": {
      "text/plain": [
       "tensor([[[3., 3., 3., 3.],\n",
       "         [3., 3., 3., 3.]],\n",
       "\n",
       "        [[3., 3., 3., 3.],\n",
       "         [3., 3., 3., 3.]],\n",
       "\n",
       "        [[3., 3., 3., 3.],\n",
       "         [3., 3., 3., 3.]]])"
      ]
     },
     "execution_count": 242,
     "metadata": {},
     "output_type": "execute_result"
    }
   ],
   "source": [
    "torch.amin(torch.ones(3, 2) * 3, dim=0).unsqueeze(-1) * torch.ones(3, 2, 4)"
   ]
  },
  {
   "cell_type": "code",
   "execution_count": 294,
   "metadata": {},
   "outputs": [
    {
     "data": {
      "text/plain": [
       "276.04189361201173"
      ]
     },
     "execution_count": 294,
     "metadata": {},
     "output_type": "execute_result"
    }
   ],
   "source": [
    "from scipy.optimize import fsolve, minimize_scalar\n",
    "\n",
    "def _compute_dirichlet_variance(alpha):\n",
    "    alpha_hat = np.sum(alpha)\n",
    "    num = alpha * (alpha_hat - alpha)\n",
    "    denomin = alpha_hat**2 * (alpha_hat + 1)\n",
    "    return num / denomin\n",
    "\n",
    "def variance_condition(C, target, alpha):\n",
    "    variances = _compute_dirichlet_variance(alpha * C)\n",
    "    # print(f\"C={C}, max diff={max(np.abs(variances - target))}\")\n",
    "    return max(np.abs(variances - target))\n",
    "\n",
    "# Initial guess for C\n",
    "initial_C = 1\n",
    "# Calculate the smallest C for the given alpha and Y\n",
    "alpha = obj_clust.params[\"alpha_prior\"].values[0, :7]\n",
    "target = obj_clust.init_params[\"variances\"].values[0, :7]\n",
    "\n",
    "# Solve for C\n",
    "C_solution = minimize_scalar(fun=variance_condition, method=\"Bounded\", bounds=(1,500), args=(target, alpha))\n",
    "C_solution.x"
   ]
  },
  {
   "cell_type": "code",
   "execution_count": null,
   "metadata": {},
   "outputs": [],
   "source": [
    "from scipy.optimize import fsolve\n",
    "\n",
    "def dirichlet_variance(alpha, alpha_hat):\n",
    "    # alpha_hat = np.sum(alpha)\n",
    "    num = alpha * (alpha_hat - alpha)\n",
    "    denomin = alpha_hat**2 * (alpha_hat + 1)\n",
    "    return num / denomin\n",
    "\n",
    "def optim_fn(c, true_var, alpha, alpha_hat):\n",
    "    variances = dirichlet_variance(alpha=alpha*c, alpha_hat=alpha_hat*c)\n",
    "    return np.abs(true_var - variances) + 1.0\n"
   ]
  },
  {
   "cell_type": "code",
   "execution_count": null,
   "metadata": {},
   "outputs": [],
   "source": [
    "alpha = dist.Dirichlet(torch.ones(5)).sample().numpy()\n",
    "true_var = np.ones(5) * 1e-4 \n",
    "print(f\"alpha = {alpha}, true_var = {true_var}\")\n",
    "sols = fsolve(func=optim_fn, x0=1.0, args=(true_var[0], alpha[0], np.sum(alpha))) "
   ]
  },
  {
   "cell_type": "code",
   "execution_count": null,
   "metadata": {},
   "outputs": [],
   "source": [
    "def solver(target, alpha_hat, alpha_k):\n",
    "    a = target*alpha_hat**3\n",
    "    b = target*alpha_hat**2\n",
    "    c = alpha_k**2 - alpha_k*alpha_hat\n",
    "\n",
    "    d = np.sqrt(b**2 - 4*a*c)\n",
    "    xs = np.array([(-b + d) / (2*a), (-b - d) / (2*a)])\n",
    "    return np.amax(xs)\n",
    "\n",
    "c = solver(target=true_var[0], alpha_hat=1, alpha_k=alpha[0])"
   ]
  },
  {
   "cell_type": "code",
   "execution_count": null,
   "metadata": {},
   "outputs": [],
   "source": [
    "dirichlet_variance(alpha=alpha, alpha_hat=alpha.sum()) "
   ]
  }
 ],
 "metadata": {
  "kernelspec": {
   "display_name": "Python 3",
   "language": "python",
   "name": "python3"
  },
  "language_info": {
   "codemirror_mode": {
    "name": "ipython",
    "version": 3
   },
   "file_extension": ".py",
   "mimetype": "text/x-python",
   "name": "python",
   "nbconvert_exporter": "python",
   "pygments_lexer": "ipython3",
   "version": "3.9.16"
  }
 },
 "nbformat": 4,
 "nbformat_minor": 4
}
