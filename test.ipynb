{
 "cells": [
  {
   "cell_type": "code",
   "execution_count": 1,
   "metadata": {
    "tags": []
   },
   "outputs": [
    {
     "name": "stderr",
     "output_type": "stream",
     "text": [
      "/Users/elenab/Library/r-miniconda-arm64/envs/basilica-env/lib/python3.9/site-packages/tqdm/auto.py:21: TqdmWarning: IProgress not found. Please update jupyter and ipywidgets. See https://ipywidgets.readthedocs.io/en/stable/user_install.html\n",
      "  from .autonotebook import tqdm as notebook_tqdm\n"
     ]
    }
   ],
   "source": [
    "import pandas as pd\n",
    "import pybasilica.run as run\n",
    "import torch\n",
    "import pyro\n",
    "import pyro.distributions as dist\n",
    "import numpy as np\n",
    "import seaborn as sns\n",
    "import sklearn.metrics\n",
    "import torch.nn.functional as F\n",
    "from tqdm import tqdm\n",
    "from pyro.distributions import constraints\n",
    "\n",
    "%load_ext autoreload\n",
    "%autoreload 2"
   ]
  },
  {
   "cell_type": "code",
   "execution_count": 2,
   "metadata": {
    "tags": []
   },
   "outputs": [],
   "source": [
    "m_g = pd.read_csv(\"test_datasets/counts_sbs.N150.G3.csv\")\n",
    "m_sbs = m_g.drop([\"groups\"], axis=1)\n",
    "g_sbs = m_g[\"groups\"].tolist() \n",
    "cosmic_sbs = pd.read_csv(\"test_datasets/COSMIC_filt.csv\", index_col=0) "
   ]
  },
  {
   "cell_type": "code",
   "execution_count": 3,
   "metadata": {},
   "outputs": [],
   "source": [
    "m_g = pd.read_csv(\"test_datasets/counts_dbs.N150.G3.csv\")\n",
    "m_dbs = m_g.drop([\"groups\"], axis=1)\n",
    "g_dbs = m_g[\"groups\"].tolist()\n",
    "cosmic_dbs = pd.read_csv(\"test_datasets/COSMIC_dbs.csv\", index_col=0) "
   ]
  },
  {
   "cell_type": "code",
   "execution_count": 146,
   "metadata": {
    "tags": []
   },
   "outputs": [
    {
     "name": "stderr",
     "output_type": "stream",
     "text": [
      "ELBO 48445.147023: 100%|██████████| 2000/2000 [00:07<00:00, 267.45it/s]\n",
      "ELBO 48017.537012: 100%|██████████| 2000/2000 [00:08<00:00, 224.64it/s]\n"
     ]
    }
   ],
   "source": [
    "obj_sbs = run.fit(\n",
    "    x=m_sbs, \n",
    "    k_list=[3,4], \n",
    "    lr=0.005, \n",
    "    optim_gamma=0.1,\n",
    "    n_steps=2000, \n",
    "    # cluster=[3],\n",
    "    dirichlet_prior=True,\n",
    "    beta_fixed=cosmic_sbs.loc[[\"SBS1\",\"SBS3\",\"SBS5\"]], \n",
    "    store_parameters = True, \n",
    "    seed_list=[30],\n",
    "    nonparametric=False,\n",
    "    store_fits=True, enumer=\"parallel\"\n",
    "    )\n"
   ]
  },
  {
   "cell_type": "code",
   "execution_count": 5,
   "metadata": {},
   "outputs": [
    {
     "name": "stderr",
     "output_type": "stream",
     "text": [
      "ELBO 132427.058856: 100%|██████████| 1000/1000 [00:02<00:00, 339.58it/s]\n"
     ]
    }
   ],
   "source": [
    "obj_dbs = run.fit(\n",
    "    x=m_dbs, \n",
    "    k_list=3, \n",
    "    lr=0.005, \n",
    "    optim_gamma=0.1,\n",
    "    n_steps=1000, \n",
    "    # cluster=[3],\n",
    "    dirichlet_prior=True,\n",
    "    beta_fixed=cosmic_dbs.loc[[\"DBS3\",\"DBS5\"]], \n",
    "    store_parameters=False, \n",
    "    seed_list=[30],\n",
    "    store_fits=True\n",
    "    )\n"
   ]
  },
  {
   "cell_type": "code",
   "execution_count": 138,
   "metadata": {},
   "outputs": [
    {
     "name": "stderr",
     "output_type": "stream",
     "text": [
      "ELBO -4518.112029: 100%|██████████| 2000/2000 [00:12<00:00, 164.50it/s]\n"
     ]
    }
   ],
   "source": [
    "input_alpha = [obj_sbs.params[\"alpha\"], obj_dbs.params[\"alpha\"]]\n",
    "obj_clust = run.fit(\n",
    "    alpha=input_alpha,\n",
    "    lr=0.005, \n",
    "    # optim_gamma=0.1,\n",
    "    n_steps=2000, \n",
    "    cluster=[5],\n",
    "    store_parameters=False, \n",
    "    hyperparameters={\"scale_factor_alpha\":1,\n",
    "                     \"scale_factor_centroid\":10},\n",
    "    seed_list=[30],\n",
    "    nonparametric=False,\n",
    "    store_fits=True\n",
    "    # enumer=\"sequential\"\n",
    "    )\n"
   ]
  },
  {
   "cell_type": "code",
   "execution_count": 139,
   "metadata": {},
   "outputs": [
    {
     "data": {
      "text/plain": [
       "array(11.83005616)"
      ]
     },
     "execution_count": 139,
     "metadata": {},
     "output_type": "execute_result"
    }
   ],
   "source": [
    "obj_clust.params[\"scale_factor_centroid\"] "
   ]
  },
  {
   "cell_type": "code",
   "execution_count": 140,
   "metadata": {},
   "outputs": [
    {
     "data": {
      "text/plain": [
       "0.762040473321298"
      ]
     },
     "execution_count": 140,
     "metadata": {},
     "output_type": "execute_result"
    }
   ],
   "source": [
    "fitted_grps = obj_clust.groups \n",
    "init_grps = obj_clust.init_params[\"init_clusters\"] \n",
    "sklearn.metrics.normalized_mutual_info_score(fitted_grps, init_grps) "
   ]
  },
  {
   "cell_type": "code",
   "execution_count": 141,
   "metadata": {},
   "outputs": [
    {
     "name": "stdout",
     "output_type": "stream",
     "text": [
      "[0.16474561 0.42632571 0.06390914 0.30485305 0.0401665 ]\n",
      "[0.16903113 0.41488137 0.05082647 0.32840042 0.03686061]\n"
     ]
    }
   ],
   "source": [
    "print(obj_clust.init_params[\"pi\"])\n",
    "print(obj_clust.params[\"pi\"]) "
   ]
  },
  {
   "cell_type": "code",
   "execution_count": null,
   "metadata": {},
   "outputs": [],
   "source": [
    "print(obj_clust.groups) \n",
    "print(obj_clust.init_params[\"init_clusters\"]) "
   ]
  },
  {
   "cell_type": "code",
   "execution_count": null,
   "metadata": {},
   "outputs": [],
   "source": [
    "obj_clust.params[\"post_probs\"] "
   ]
  },
  {
   "cell_type": "code",
   "execution_count": null,
   "metadata": {},
   "outputs": [],
   "source": [
    "def find_C_for_variance(alpha, Y):\n",
    "    \"\"\"\n",
    "    Find the smallest C such that the variance of the Dirichlet distribution\n",
    "    with parameter alpha*C is above Y for at least one dimension.\n",
    "    \"\"\"\n",
    "    def variance_condition(C):\n",
    "        variances = dirichlet_variance(alpha, C)\n",
    "        max_variance = max(variances)\n",
    "        return max_variance - Y\n",
    "\n",
    "    # Initial guess for C\n",
    "    initial_C = 1.0\n",
    "\n",
    "    # Solve for C\n",
    "    C_solution = fsolve(variance_condition, initial_C)\n",
    "    return C_solution[0]\n",
    "\n",
    "# Calculate the smallest C for the given alpha and Y\n",
    "Y = 20\n",
    "C_solution = find_C_for_variance(alpha, Y)\n",
    "C_solution"
   ]
  },
  {
   "cell_type": "code",
   "execution_count": 9,
   "metadata": {},
   "outputs": [
    {
     "data": {
      "text/plain": [
       "12"
      ]
     },
     "execution_count": 9,
     "metadata": {},
     "output_type": "execute_result"
    }
   ],
   "source": [
    "np.amax(np.array([12,3,4]))"
   ]
  },
  {
   "cell_type": "code",
   "execution_count": 57,
   "metadata": {},
   "outputs": [],
   "source": [
    "from scipy.optimize import fsolve\n",
    "\n",
    "def dirichlet_variance(alpha, alpha_hat):\n",
    "    # alpha_hat = np.sum(alpha)\n",
    "    num = alpha * (alpha_hat - alpha)\n",
    "    denomin = alpha_hat**2 * (alpha_hat + 1)\n",
    "    return num / denomin\n",
    "\n",
    "def optim_fn(c, true_var, alpha, alpha_hat):\n",
    "    variances = dirichlet_variance(alpha=alpha*c, alpha_hat=alpha_hat*c)\n",
    "    return np.abs(true_var - variances) + 1.0\n"
   ]
  },
  {
   "cell_type": "code",
   "execution_count": 78,
   "metadata": {},
   "outputs": [
    {
     "name": "stdout",
     "output_type": "stream",
     "text": [
      "alpha = [0.31264767 0.03801846 0.10291303 0.29218847 0.25423238], true_var = [0.0001 0.0001 0.0001 0.0001 0.0001]\n"
     ]
    },
    {
     "name": "stderr",
     "output_type": "stream",
     "text": [
      "/Users/elenab/Library/r-miniconda-arm64/envs/basilica-env/lib/python3.9/site-packages/scipy/optimize/_minpack_py.py:178: RuntimeWarning: The iteration is not making good progress, as measured by the \n",
      "  improvement from the last ten iterations.\n",
      "  warnings.warn(msg, RuntimeWarning)\n"
     ]
    }
   ],
   "source": [
    "alpha = dist.Dirichlet(torch.ones(5)).sample().numpy()\n",
    "true_var = np.ones(5) * 1e-4 \n",
    "print(f\"alpha = {alpha}, true_var = {true_var}\")\n",
    "sols = fsolve(func=optim_fn, x0=1.0, args=(true_var[0], alpha[0], np.sum(alpha))) "
   ]
  },
  {
   "cell_type": "code",
   "execution_count": 87,
   "metadata": {},
   "outputs": [],
   "source": [
    "def solver(target, alpha_hat, alpha_k):\n",
    "    a = target*alpha_hat**3\n",
    "    b = target*alpha_hat**2\n",
    "    c = alpha_k**2 - alpha_k*alpha_hat\n",
    "\n",
    "    d = np.sqrt(b**2 - 4*a*c)\n",
    "    xs = np.array([(-b + d) / (2*a), (-b - d) / (2*a)])\n",
    "    return np.amax(xs)\n",
    "\n",
    "c = solver(target=true_var[0], alpha_hat=1, alpha_k=alpha[0])"
   ]
  },
  {
   "cell_type": "code",
   "execution_count": 89,
   "metadata": {},
   "outputs": [
    {
     "data": {
      "text/plain": [
       "array([0.10744955, 0.01828653, 0.04616097, 0.10340718, 0.09479913],\n",
       "      dtype=float32)"
      ]
     },
     "execution_count": 89,
     "metadata": {},
     "output_type": "execute_result"
    }
   ],
   "source": [
    "dirichlet_variance(alpha=alpha, alpha_hat=alpha.sum()) "
   ]
  }
 ],
 "metadata": {
  "kernelspec": {
   "display_name": "Python 3",
   "language": "python",
   "name": "python3"
  },
  "language_info": {
   "codemirror_mode": {
    "name": "ipython",
    "version": 3
   },
   "file_extension": ".py",
   "mimetype": "text/x-python",
   "name": "python",
   "nbconvert_exporter": "python",
   "pygments_lexer": "ipython3",
   "version": "3.9.16"
  }
 },
 "nbformat": 4,
 "nbformat_minor": 4
}
